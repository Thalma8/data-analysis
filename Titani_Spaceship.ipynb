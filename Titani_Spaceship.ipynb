{
  "cells": [
    {
      "cell_type": "markdown",
      "metadata": {
        "id": "view-in-github",
        "colab_type": "text"
      },
      "source": [
        "<a href=\"https://colab.research.google.com/github/Thalma8/data-analysis/blob/main/Titani_Spaceship.ipynb\" target=\"_parent\"><img src=\"https://colab.research.google.com/assets/colab-badge.svg\" alt=\"Open In Colab\"/></a>"
      ]
    },
    {
      "cell_type": "markdown",
      "id": "152e4a2d",
      "metadata": {
        "id": "152e4a2d"
      },
      "source": [
        "# Problem Statement - Spaceship Titanic\n",
        "\n",
        "The Spaceship Titanic was an interstellar passenger liner launched a month ago. With almost 13,000 passengers on board, the vessel set out on its maiden voyage transporting emigrants from our solar system to three newly habitable exoplanets orbiting nearby stars.\n",
        "\n",
        "While rounding Alpha Centauri en route to its first destination—the torrid 55 Cancri E—the unwary Spaceship Titanic collided with a spacetime anomaly hidden within a dust cloud. Sadly, it met a similar fate as its namesake from 1000 years before. Though the ship stayed intact, almost half of the passengers were transported to an alternate dimension!\n",
        "\n",
        "The task is to predict whether a passenger was transported to an alternate dimension during the Spaceship Titanic's collision with the spacetime anomaly. To help make these predictions, a set of personal records are recovered from the ship's damaged computer system."
      ]
    },
    {
      "cell_type": "code",
      "source": [
        "from google.colab import drive\n",
        "drive.mount('/content/drive')"
      ],
      "metadata": {
        "colab": {
          "base_uri": "https://localhost:8080/"
        },
        "id": "y2eL8G3EqTZv",
        "outputId": "5cf13181-137d-4a75-9d86-7a0825ada3fd"
      },
      "id": "y2eL8G3EqTZv",
      "execution_count": null,
      "outputs": [
        {
          "output_type": "stream",
          "name": "stdout",
          "text": [
            "Drive already mounted at /content/drive; to attempt to forcibly remount, call drive.mount(\"/content/drive\", force_remount=True).\n"
          ]
        }
      ]
    },
    {
      "cell_type": "markdown",
      "id": "6e8a4f52",
      "metadata": {
        "id": "6e8a4f52"
      },
      "source": [
        "# Importing Libraries"
      ]
    },
    {
      "cell_type": "code",
      "execution_count": null,
      "id": "6eb55753",
      "metadata": {
        "id": "6eb55753"
      },
      "outputs": [],
      "source": [
        "import pandas as pd\n",
        "import numpy as np\n",
        "import matplotlib.pyplot as plt\n",
        "import seaborn as sns\n",
        "from pandas_profiling import ProfileReport"
      ]
    },
    {
      "cell_type": "code",
      "source": [
        "!pip install pandas-profiling==2.7.1"
      ],
      "metadata": {
        "id": "mtSH7MB078XF"
      },
      "id": "mtSH7MB078XF",
      "execution_count": null,
      "outputs": []
    },
    {
      "cell_type": "code",
      "source": [
        "! pip install https://github.com/pandas-profiling/pandas-profiling/archive/master.zip"
      ],
      "metadata": {
        "id": "y6AlD7xj5l-n"
      },
      "id": "y6AlD7xj5l-n",
      "execution_count": null,
      "outputs": []
    },
    {
      "cell_type": "markdown",
      "id": "3e3991aa",
      "metadata": {
        "id": "3e3991aa"
      },
      "source": [
        "# Reading the Data"
      ]
    },
    {
      "cell_type": "code",
      "execution_count": null,
      "id": "0fcb70e8",
      "metadata": {
        "id": "0fcb70e8"
      },
      "outputs": [],
      "source": [
        "train = pd.read_csv('/content/drive/MyDrive/Colab Notebooks/Titanic Spaceship_Classification Problem/train.csv')\n",
        "test = pd.read_csv('/content/drive/MyDrive/Colab Notebooks/Titanic Spaceship_Classification Problem/test.csv')"
      ]
    },
    {
      "cell_type": "markdown",
      "source": [
        "# Exploratory Data Analysis"
      ],
      "metadata": {
        "id": "sGt1dQResR3U"
      },
      "id": "sGt1dQResR3U"
    },
    {
      "cell_type": "code",
      "execution_count": null,
      "id": "37ad1d83",
      "metadata": {
        "id": "37ad1d83"
      },
      "outputs": [],
      "source": [
        "train.head()"
      ]
    },
    {
      "cell_type": "code",
      "execution_count": null,
      "id": "05d72fb1",
      "metadata": {
        "id": "05d72fb1"
      },
      "outputs": [],
      "source": [
        "test.head()"
      ]
    },
    {
      "cell_type": "code",
      "source": [
        "train.columns"
      ],
      "metadata": {
        "id": "OMdva_PcrMKx"
      },
      "id": "OMdva_PcrMKx",
      "execution_count": null,
      "outputs": []
    },
    {
      "cell_type": "markdown",
      "id": "065d0af6",
      "metadata": {
        "id": "065d0af6"
      },
      "source": [
        "# Data Field Descriptions\n",
        "- **PassengerId** - A unique Id for each passenger. Each Id takes the form gggg_pp where gggg indicates a group the passenger is travelling with and pp is their number within the group. People in a group are often family members, but not always.\n",
        "\n",
        "- **HomePlanet** - The planet the passenger departed from, typically their planet of permanent residence.\n",
        "\n",
        "- **CryoSleep** - Indicates whether the passenger elected to be put into suspended animation for the duration of the voyage. Passengers in cryosleep are confined to their cabins.\n",
        "\n",
        "- **Cabin** - The cabin number where the passenger is staying. Takes the form deck/num/side, where side can be either P for Port or S for Starboard.\n",
        "\n",
        "- **Destination** - The planet the passenger will be debarking to.\n",
        "\n",
        "- **Age** - The age of the passenger.\n",
        "\n",
        "- **VIP** - Whether the passenger has paid for special VIP service during the voyage.\n",
        "\n",
        "- **RoomService, FoodCourt, ShoppingMall, Spa, VRDeck** - Amount the passenger has billed at each of the Spaceship Titanic's many luxury amenities.\n",
        "\n",
        "- **Name** - The first and last names of the passenger.\n",
        "\n",
        "- **Transported** - Whether the passenger was transported to another dimension. This is the target, the column you are trying to predict."
      ]
    },
    {
      "cell_type": "code",
      "source": [
        "# profiling data with pandas\n",
        "profile = ProfileReport(train)\n",
        "profile.to_notebook_iframe()"
      ],
      "metadata": {
        "id": "N5NE22w_0OOE"
      },
      "id": "N5NE22w_0OOE",
      "execution_count": null,
      "outputs": []
    },
    {
      "cell_type": "code",
      "execution_count": null,
      "id": "157416ba",
      "metadata": {
        "id": "157416ba"
      },
      "outputs": [],
      "source": [
        "train.info() # Columns and Data types for train data set"
      ]
    },
    {
      "cell_type": "code",
      "execution_count": null,
      "id": "9c10d916",
      "metadata": {
        "id": "9c10d916"
      },
      "outputs": [],
      "source": [
        "test.info() # Columns and Data types for test data set"
      ]
    },
    {
      "cell_type": "code",
      "execution_count": null,
      "id": "b04bf146",
      "metadata": {
        "id": "b04bf146"
      },
      "outputs": [],
      "source": [
        "train.isna().mean() * 100 #Checking null values"
      ]
    },
    {
      "cell_type": "code",
      "execution_count": null,
      "id": "28bf181d",
      "metadata": {
        "id": "28bf181d"
      },
      "outputs": [],
      "source": [
        "# Check if there any missing values in train set using a bar chart\n",
        "ax = train.isna().sum().sort_values().plot(kind = 'barh', figsize = (10, 7))\n",
        "plt.title('Percentage of Missing Values Per Column in Train Set', fontdict={'size':15})\n",
        "for p in ax.patches:\n",
        "    percentage ='{:,.2f}%'.format((p.get_width()/train.shape[0])*100)\n",
        "    width, height =p.get_width(),p.get_height()\n",
        "    x=p.get_x()+width+0.02\n",
        "    y=p.get_y()+height/2\n",
        "    ax.annotate(percentage,(x,y))"
      ]
    },
    {
      "cell_type": "code",
      "execution_count": null,
      "id": "4d892bc4",
      "metadata": {
        "id": "4d892bc4"
      },
      "outputs": [],
      "source": [
        "# Check if there any missing values in train set using a bar graph\n",
        "ax = test.isna().sum().sort_values().plot(kind = 'barh', figsize = (10, 7))\n",
        "plt.title('Percentage of Missing Values Per Column in Test Set', fontdict={'size':15})\n",
        "for p in ax.patches:\n",
        "    percentage ='{:,.2f}%'.format((p.get_width()/train.shape[0])*100)\n",
        "    width, height =p.get_width(),p.get_height()\n",
        "    x=p.get_x()+width+0.02\n",
        "    y=p.get_y()+height/2\n",
        "    ax.annotate(percentage,(x,y))"
      ]
    },
    {
      "cell_type": "code",
      "execution_count": null,
      "id": "01352554",
      "metadata": {
        "id": "01352554"
      },
      "outputs": [],
      "source": [
        "train.columns"
      ]
    },
    {
      "cell_type": "code",
      "execution_count": null,
      "id": "eff4720e",
      "metadata": {
        "id": "eff4720e"
      },
      "outputs": [],
      "source": [
        "# Splitting the columns into categorical and numerical types\n",
        "cat_cols = ['HomePlanet', 'CryoSleep','Destination', 'VIP']\n",
        "num_cols = ['Age','RoomService', 'FoodCourt', 'ShoppingMall', 'Spa', 'VRDeck']"
      ]
    },
    {
      "cell_type": "code",
      "source": [
        "corr = train.corr()\n",
        "corr"
      ],
      "metadata": {
        "id": "V7WIirSGE2LL"
      },
      "id": "V7WIirSGE2LL",
      "execution_count": null,
      "outputs": []
    },
    {
      "cell_type": "code",
      "source": [
        "plt.figure(figsize=(12, 6))\n",
        "sns.heatmap(corr, \n",
        "        xticklabels=corr.columns,\n",
        "        yticklabels=corr.columns,\n",
        "        annot=True)"
      ],
      "metadata": {
        "id": "8bI-2G3GFd0-"
      },
      "id": "8bI-2G3GFd0-",
      "execution_count": null,
      "outputs": []
    },
    {
      "cell_type": "markdown",
      "id": "0555d131",
      "metadata": {
        "id": "0555d131"
      },
      "source": [
        "**Plotting the Categorical Features**"
      ]
    },
    {
      "cell_type": "code",
      "execution_count": null,
      "id": "7b7f2428",
      "metadata": {
        "id": "7b7f2428"
      },
      "outputs": [],
      "source": [
        "\n",
        "for cat in cat_cols:\n",
        "    sns.countplot(x=cat, data=train)\n",
        "    plt.title(cat.capitalize())\n",
        "    plt.show()"
      ]
    },
    {
      "cell_type": "markdown",
      "source": [
        "## Observations:\n",
        "\n",
        "- Most people were from planet earth\n",
        "\n",
        "- Most people were going to Trappist-1e\n",
        "\n",
        "- Lesss people were on cyrosleep while the majority of the passengers were not\n",
        "\n",
        "- Few people were in VIP\n"
      ],
      "metadata": {
        "id": "YnCDlpK5t2og"
      },
      "id": "YnCDlpK5t2og"
    },
    {
      "cell_type": "markdown",
      "id": "419f454e",
      "metadata": {
        "id": "419f454e"
      },
      "source": [
        "**Plotting Numerical columns**"
      ]
    },
    {
      "cell_type": "code",
      "execution_count": null,
      "id": "9c377302",
      "metadata": {
        "id": "9c377302"
      },
      "outputs": [],
      "source": [
        "for num in num_cols:\n",
        "    sns.displot(train[num])\n",
        "    plt.title(num.capitalize() + 'Distribution')\n",
        "    plt.show()"
      ]
    },
    {
      "cell_type": "code",
      "source": [
        "train.describe(include = \"O\") # getting a consodiated analysis of the categorical columns"
      ],
      "metadata": {
        "id": "6qF4mSIuu9sq"
      },
      "id": "6qF4mSIuu9sq",
      "execution_count": null,
      "outputs": []
    },
    {
      "cell_type": "code",
      "execution_count": null,
      "id": "4ad7e801",
      "metadata": {
        "id": "4ad7e801"
      },
      "outputs": [],
      "source": [
        "train.describe() # getting a consodiated analysis of the numerical columns"
      ]
    },
    {
      "cell_type": "markdown",
      "id": "3d95ffd4",
      "metadata": {
        "id": "3d95ffd4"
      },
      "source": [
        "- The minimum age is 0. Is 0 age representing babies that haven't reaches 1 year?\n",
        "- Most People actually didn't spend on the Luxury Amenities"
      ]
    },
    {
      "cell_type": "code",
      "source": [
        "train.corr()"
      ],
      "metadata": {
        "id": "AwBQfv-T5UpV"
      },
      "id": "AwBQfv-T5UpV",
      "execution_count": null,
      "outputs": []
    },
    {
      "cell_type": "code",
      "execution_count": null,
      "id": "559d64fa",
      "metadata": {
        "id": "559d64fa"
      },
      "outputs": [],
      "source": [
        "sns.boxplot(x='Age', data=train)"
      ]
    },
    {
      "cell_type": "code",
      "execution_count": null,
      "id": "e5a8d173",
      "metadata": {
        "id": "e5a8d173"
      },
      "outputs": [],
      "source": [
        "sns.countplot(x='Transported', data=train) #Checking the target variable"
      ]
    },
    {
      "cell_type": "markdown",
      "source": [
        "Observations:\n",
        "\n",
        "- Classification problem\n",
        "\n",
        "- Column is balanced, very rare in real life-situations"
      ],
      "metadata": {
        "id": "pGngBR64w8I4"
      },
      "id": "pGngBR64w8I4"
    },
    {
      "cell_type": "markdown",
      "id": "3e969ac6",
      "metadata": {
        "id": "3e969ac6"
      },
      "source": [
        "**Bivariate and Multivariate Analysis**"
      ]
    },
    {
      "cell_type": "code",
      "execution_count": null,
      "id": "df4154e2",
      "metadata": {
        "id": "df4154e2"
      },
      "outputs": [],
      "source": [
        "# plotting the categorical features with hue='Transported'\n",
        "for cat in cat_cols:\n",
        "    sns.countplot(x=cat, data=train, hue='Transported')\n",
        "    plt.title(cat.capitalize() + '- Transported')\n",
        "    plt.show()"
      ]
    },
    {
      "cell_type": "markdown",
      "id": "51284ad6",
      "metadata": {
        "id": "51284ad6"
      },
      "source": [
        "Observations\n",
        "\n",
        "- Many People from Europa were transported\n",
        "- Many People who were in CrysoSleep were transported\n",
        "\n",
        "The other Categorical Features have averagely balanced Transported count."
      ]
    },
    {
      "cell_type": "code",
      "execution_count": null,
      "id": "84397535",
      "metadata": {
        "id": "84397535"
      },
      "outputs": [],
      "source": [
        "# checking the age distribution across the categorical features\n",
        "for cat in cat_cols:\n",
        "    sns.boxplot(x=cat, data=train, y='Age')\n",
        "    plt.show()"
      ]
    },
    {
      "cell_type": "markdown",
      "id": "18d74fb6",
      "metadata": {
        "id": "18d74fb6"
      },
      "source": [
        "**Observations**\n",
        "- Most people in VIP were older\n",
        "- People from Earth were younger"
      ]
    },
    {
      "cell_type": "code",
      "execution_count": null,
      "id": "2b521e79",
      "metadata": {
        "id": "2b521e79"
      },
      "outputs": [],
      "source": [
        "#Comparing the passengers homeplanets to the destination they were travelling to\n",
        "sns.countplot(x='HomePlanet', data=train, hue='Destination') "
      ]
    },
    {
      "cell_type": "code",
      "execution_count": null,
      "id": "e753cacc",
      "metadata": {
        "id": "e753cacc"
      },
      "outputs": [],
      "source": [
        "train.groupby(['HomePlanet', 'Destination']).count()"
      ]
    },
    {
      "cell_type": "markdown",
      "source": [
        "**Observations**\n",
        "\n",
        "- For each planet, there were more people were going to Trappist-ie"
      ],
      "metadata": {
        "id": "1xQonFwIzK57"
      },
      "id": "1xQonFwIzK57"
    },
    {
      "cell_type": "code",
      "execution_count": null,
      "id": "1782d05c",
      "metadata": {
        "id": "1782d05c"
      },
      "outputs": [],
      "source": [
        "# checking people that were in VIP according HomePlanet and Destination \n",
        "for planet in ['HomePlanet', 'Destination']:\n",
        "    sns.countplot(x=planet, data=train, hue='VIP')\n",
        "    plt.show()"
      ]
    },
    {
      "cell_type": "code",
      "execution_count": null,
      "id": "7461ef53",
      "metadata": {
        "id": "7461ef53"
      },
      "outputs": [],
      "source": [
        "# checking the actual number of people in VIP from HomePlanet\n",
        "train.groupby(['HomePlanet', 'VIP']).count()"
      ]
    },
    {
      "cell_type": "markdown",
      "id": "2fedeb4b",
      "metadata": {
        "id": "2fedeb4b"
      },
      "source": [
        "- **No one from Earth was in VIP**"
      ]
    },
    {
      "cell_type": "code",
      "execution_count": null,
      "id": "8ae295d6",
      "metadata": {
        "id": "8ae295d6"
      },
      "outputs": [],
      "source": [
        "# Checking the CryoSleep column with VIP\n",
        "sns.countplot(x='CryoSleep', data=train, hue='VIP')"
      ]
    },
    {
      "cell_type": "code",
      "execution_count": null,
      "id": "de47577d",
      "metadata": {
        "id": "de47577d"
      },
      "outputs": [],
      "source": [
        "train.groupby(['CryoSleep', 'VIP']).count()"
      ]
    },
    {
      "cell_type": "markdown",
      "source": [
        "**Observation: Less people in cyrosleep in VIP that those who were not.**"
      ],
      "metadata": {
        "id": "T-Rm_j6A0OPx"
      },
      "id": "T-Rm_j6A0OPx"
    },
    {
      "cell_type": "code",
      "execution_count": null,
      "id": "eb3ef2d1",
      "metadata": {
        "id": "eb3ef2d1"
      },
      "outputs": [],
      "source": [
        "# checking people in CryoSleep from the HomePlanet and Destination\n",
        "for planet in ['HomePlanet', 'Destination']:\n",
        "    sns.countplot(x=planet, data=train, hue='CryoSleep')\n",
        "    plt.show()"
      ]
    },
    {
      "cell_type": "markdown",
      "id": "acc5c6e3",
      "metadata": {
        "id": "acc5c6e3"
      },
      "source": [
        "Did people in CryoSleep spend any amount in the luxury amenities?"
      ]
    },
    {
      "cell_type": "code",
      "execution_count": null,
      "id": "64d2c238",
      "metadata": {
        "id": "64d2c238"
      },
      "outputs": [],
      "source": [
        "train[train['CryoSleep'] == True].describe()"
      ]
    },
    {
      "cell_type": "markdown",
      "id": "ee6a64d4",
      "metadata": {
        "id": "ee6a64d4"
      },
      "source": [
        "**Observations**\n",
        "\n",
        "If put on CryoSleep, then you cannot spend anything"
      ]
    },
    {
      "cell_type": "markdown",
      "id": "b4dda3c4",
      "metadata": {
        "id": "b4dda3c4"
      },
      "source": [
        "**Checking the spending habits for people in VIP and not in VIP**"
      ]
    },
    {
      "cell_type": "code",
      "execution_count": null,
      "id": "4f0af4cb",
      "metadata": {
        "id": "4f0af4cb"
      },
      "outputs": [],
      "source": [
        "train.groupby('VIP').describe()"
      ]
    },
    {
      "cell_type": "code",
      "execution_count": null,
      "id": "025addc8",
      "metadata": {
        "id": "025addc8"
      },
      "outputs": [],
      "source": [
        "# plot for amount spent by people in VIP\n",
        "for luxury in num_cols[1:]:\n",
        "    sns.boxplot(x='VIP', y=luxury, data=train)\n",
        "    plt.show()"
      ]
    },
    {
      "cell_type": "markdown",
      "source": [
        "**Observation:**\n",
        "\n",
        "Most people in VIP spent money in VRDeck, Food Court and Spa"
      ],
      "metadata": {
        "id": "H-Tye4C626Vu"
      },
      "id": "H-Tye4C626Vu"
    },
    {
      "cell_type": "markdown",
      "source": [
        "## Feature Extraction"
      ],
      "metadata": {
        "id": "SKmc5jkt5M1o"
      },
      "id": "SKmc5jkt5M1o"
    },
    {
      "cell_type": "markdown",
      "id": "3dd897ba",
      "metadata": {
        "id": "3dd897ba"
      },
      "source": [
        "**Recall**\n",
        "- **PassengerID**. \n",
        "Each Id takes the form gggg_pp where gggg indicates a group the passenger is travelling with and pp is their number within the group. People in a group are often family members, but not always.\n",
        "\n",
        "Extracting the group number"
      ]
    },
    {
      "cell_type": "code",
      "source": [
        "train.head()"
      ],
      "metadata": {
        "id": "va8ZAhLp3rj_"
      },
      "id": "va8ZAhLp3rj_",
      "execution_count": null,
      "outputs": []
    },
    {
      "cell_type": "code",
      "execution_count": null,
      "id": "e804ed39",
      "metadata": {
        "id": "e804ed39"
      },
      "outputs": [],
      "source": [
        "train['GroupNo'] = train['PassengerId'].apply(lambda x: x.split('_')[0])"
      ]
    },
    {
      "cell_type": "code",
      "execution_count": null,
      "id": "9f252b79",
      "metadata": {
        "id": "9f252b79"
      },
      "outputs": [],
      "source": [
        "test['GroupNo'] = test['PassengerId'].apply(lambda x: x.split('_')[0])"
      ]
    },
    {
      "cell_type": "code",
      "execution_count": null,
      "id": "74373dd7",
      "metadata": {
        "id": "74373dd7"
      },
      "outputs": [],
      "source": [
        "train"
      ]
    },
    {
      "cell_type": "code",
      "execution_count": null,
      "id": "e3251bc7",
      "metadata": {
        "id": "e3251bc7"
      },
      "outputs": [],
      "source": [
        "test.head()"
      ]
    },
    {
      "cell_type": "code",
      "execution_count": null,
      "id": "fb0017ae",
      "metadata": {
        "id": "fb0017ae"
      },
      "outputs": [],
      "source": [
        "train.groupby(['GroupNo', 'HomePlanet']).count()"
      ]
    },
    {
      "cell_type": "code",
      "execution_count": null,
      "id": "6e77299b",
      "metadata": {
        "id": "6e77299b"
      },
      "outputs": [],
      "source": [
        "train.groupby('GroupNo').count().sort_values(by='PassengerId', ascending=False)"
      ]
    },
    {
      "cell_type": "markdown",
      "id": "bf416b7f",
      "metadata": {
        "id": "bf416b7f"
      },
      "source": [
        "- **People travelling in the same group have the same Cabin No and are from the same HomePlanet**"
      ]
    },
    {
      "cell_type": "code",
      "execution_count": null,
      "id": "375fe744",
      "metadata": {
        "id": "375fe744"
      },
      "outputs": [],
      "source": [
        "train[train['Cabin'].isna()] # Checking missing values for the cabin column"
      ]
    },
    {
      "cell_type": "markdown",
      "id": "132fa0f8",
      "metadata": {
        "id": "132fa0f8"
      },
      "source": [
        "**Combining the Datasets for easy Preprocessing**"
      ]
    },
    {
      "cell_type": "code",
      "execution_count": null,
      "id": "f5c42ac8",
      "metadata": {
        "id": "f5c42ac8"
      },
      "outputs": [],
      "source": [
        "# Getting the last index of training data\n",
        "ntrain = train.shape[0]\n",
        "\n",
        "# Combining the 2 Dataframes\n",
        "all_data = pd.concat([train, test]).reset_index(drop=True)"
      ]
    },
    {
      "cell_type": "code",
      "execution_count": null,
      "id": "aa16b762",
      "metadata": {
        "id": "aa16b762"
      },
      "outputs": [],
      "source": [
        "all_data.shape"
      ]
    },
    {
      "cell_type": "code",
      "execution_count": null,
      "id": "f5cbe525",
      "metadata": {
        "id": "f5cbe525"
      },
      "outputs": [],
      "source": [
        "all_data"
      ]
    },
    {
      "cell_type": "markdown",
      "id": "c4de417e",
      "metadata": {
        "id": "c4de417e"
      },
      "source": [
        "**Extracting Features from the Cabin Feature**"
      ]
    },
    {
      "cell_type": "code",
      "execution_count": null,
      "id": "41831631",
      "metadata": {
        "id": "41831631"
      },
      "outputs": [],
      "source": [
        "all_data['Cabin'] = all_data['Cabin'].apply(str)"
      ]
    },
    {
      "cell_type": "code",
      "execution_count": null,
      "id": "b0bb0709",
      "metadata": {
        "id": "b0bb0709"
      },
      "outputs": [],
      "source": [
        "# extracting the Cabin_Deck from the Cabin\n",
        "all_data['Cabin_Deck'] = all_data['Cabin'].apply(lambda x: x.split('/')[0])\n",
        "\n",
        "# extracting the Cabin_Side from the Cabin\n",
        "all_data['Cabin_Side'] = all_data['Cabin'].apply(lambda x: x.split('/')[-1])"
      ]
    },
    {
      "cell_type": "code",
      "execution_count": null,
      "id": "ffaf7d35",
      "metadata": {
        "id": "ffaf7d35"
      },
      "outputs": [],
      "source": [
        "# replacing the str 'nan' with null value\n",
        "for cabin in ['Cabin', 'Cabin_Deck', 'Cabin_Side']:\n",
        "    all_data[cabin] = all_data[cabin].apply(lambda x: np.nan if x == 'nan' else x)"
      ]
    },
    {
      "cell_type": "code",
      "source": [
        "all_data.head(5)"
      ],
      "metadata": {
        "id": "Cg52eflT8nQk"
      },
      "id": "Cg52eflT8nQk",
      "execution_count": null,
      "outputs": []
    },
    {
      "cell_type": "code",
      "execution_count": null,
      "id": "52da1d37",
      "metadata": {
        "id": "52da1d37"
      },
      "outputs": [],
      "source": [
        "all_data.info()"
      ]
    },
    {
      "cell_type": "markdown",
      "id": "29fdbe97",
      "metadata": {
        "id": "29fdbe97"
      },
      "source": [
        "**EDA on the Cabin columns**"
      ]
    },
    {
      "cell_type": "code",
      "execution_count": null,
      "id": "8f211431",
      "metadata": {
        "id": "8f211431"
      },
      "outputs": [],
      "source": [
        "for cabin in ['Cabin_Deck', 'Cabin_Side']:\n",
        "    sns.countplot(x=cabin, data=all_data)\n",
        "    plt.show()"
      ]
    },
    {
      "cell_type": "code",
      "execution_count": null,
      "id": "e04750da",
      "metadata": {
        "id": "e04750da"
      },
      "outputs": [],
      "source": [
        "all_data['Cabin_Deck'].value_counts()"
      ]
    },
    {
      "cell_type": "code",
      "execution_count": null,
      "id": "9c6d9300",
      "metadata": {
        "id": "9c6d9300"
      },
      "outputs": [],
      "source": [
        "all_data['Cabin_Side'].value_counts()"
      ]
    },
    {
      "cell_type": "code",
      "execution_count": null,
      "id": "67cd3dac",
      "metadata": {
        "id": "67cd3dac"
      },
      "outputs": [],
      "source": [
        "train['Cabin'] = train['Cabin'].apply(str)\n",
        "\n",
        "# extracting features from the Cabin of the train dataframe\n",
        "train['Cabin_Deck'] = train['Cabin'].apply(lambda x: x.split('/')[0])\n",
        "train['Cabin_Side'] = train['Cabin'].apply(lambda x: x.split('/')[-1])\n",
        "\n",
        "# replacing the str 'nan' with np.nan\n",
        "for cabin in ['Cabin_Deck', 'Cabin_Side']:\n",
        "    train[cabin] = train[cabin].apply(lambda x: np.nan if x == 'nan' else x)"
      ]
    },
    {
      "cell_type": "code",
      "execution_count": null,
      "id": "48e196f9",
      "metadata": {
        "id": "48e196f9"
      },
      "outputs": [],
      "source": [
        "for cabin in ['Cabin_Deck', 'Cabin_Side']:\n",
        "    sns.countplot(x=cabin, data=train, hue='Transported')\n",
        "    plt.show()"
      ]
    },
    {
      "cell_type": "code",
      "execution_count": null,
      "id": "61d43dce",
      "metadata": {
        "id": "61d43dce"
      },
      "outputs": [],
      "source": [
        "for cabin in ['Cabin_Deck', 'Cabin_Side']:\n",
        "    sns.countplot(x=cabin, data=train, hue='HomePlanet')\n",
        "    plt.show()"
      ]
    },
    {
      "cell_type": "code",
      "execution_count": null,
      "id": "7a72ca5c",
      "metadata": {
        "id": "7a72ca5c"
      },
      "outputs": [],
      "source": [
        "train.groupby(['Cabin_Deck', 'HomePlanet']).count()"
      ]
    },
    {
      "cell_type": "markdown",
      "id": "7a119e41",
      "metadata": {
        "id": "7a119e41"
      },
      "source": [
        "- Cabin_Deck G only contained people from Earth\n",
        "- Cabin_Deck A,B C and T were people from Europa\n",
        "- Deck D had no people from Earth\n",
        "- Deck F had no people from Europa"
      ]
    },
    {
      "cell_type": "code",
      "execution_count": null,
      "id": "cd00be1f",
      "metadata": {
        "id": "cd00be1f"
      },
      "outputs": [],
      "source": [
        "for cabin in ['Cabin_Deck', 'Cabin_Side']:\n",
        "    sns.countplot(x=cabin, data=train, hue='Destination')\n",
        "    plt.show()"
      ]
    },
    {
      "cell_type": "code",
      "execution_count": null,
      "id": "3139bd59",
      "metadata": {
        "id": "3139bd59"
      },
      "outputs": [],
      "source": [
        "train.groupby(['Cabin_Deck', 'Destination']).count()"
      ]
    },
    {
      "cell_type": "markdown",
      "source": [],
      "metadata": {
        "id": "eC3Pm7XE9gm9"
      },
      "id": "eC3Pm7XE9gm9"
    },
    {
      "cell_type": "markdown",
      "id": "ac9b6b2b",
      "metadata": {
        "id": "ac9b6b2b"
      },
      "source": [
        "- People in Deck T were travelling to TRAPPIST-1e"
      ]
    },
    {
      "cell_type": "code",
      "execution_count": null,
      "id": "1c759a35",
      "metadata": {
        "id": "1c759a35"
      },
      "outputs": [],
      "source": [
        "for cabin in ['Cabin_Deck', 'Cabin_Side']:\n",
        "    sns.countplot(x=cabin, data=train, hue='CryoSleep')\n",
        "    plt.show()"
      ]
    },
    {
      "cell_type": "code",
      "execution_count": null,
      "id": "c177460e",
      "metadata": {
        "id": "c177460e"
      },
      "outputs": [],
      "source": [
        "train.groupby(['Cabin_Deck', 'CryoSleep']).count()"
      ]
    },
    {
      "cell_type": "code",
      "execution_count": null,
      "id": "b0b135a7",
      "metadata": {
        "colab": {
          "base_uri": "https://localhost:8080/",
          "height": 543
        },
        "id": "b0b135a7",
        "outputId": "8816ca09-62ae-4b1a-9a23-105bf0de12e1"
      },
      "outputs": [
        {
          "output_type": "display_data",
          "data": {
            "text/plain": [
              "<Figure size 432x288 with 1 Axes>"
            ],
            "image/png": "[encoded data removed]"
          },
          "metadata": {
            "needs_background": "light"
          }
        },
        {
          "output_type": "display_data",
          "data": {
            "text/plain": [
              "<Figure size 432x288 with 1 Axes>"
            ],
            "image/png": "[encoded data removed]"
          },
          "metadata": {
            "needs_background": "light"
          }
        }
      ],
      "source": [
        "for cabin in ['Cabin_Deck', 'Cabin_Side']:\n",
        "    sns.countplot(x=cabin, data=train, hue='VIP')\n",
        "    plt.show()"
      ]
    },
    {
      "cell_type": "code",
      "execution_count": null,
      "id": "40c1e4d0",
      "metadata": {
        "colab": {
          "base_uri": "https://localhost:8080/",
          "height": 583
        },
        "id": "40c1e4d0",
        "outputId": "7372f8a7-3d4f-4dbe-c1c1-37b9db5069e0"
      },
      "outputs": [
        {
          "output_type": "execute_result",
          "data": {
            "text/plain": [
              "                  PassengerId  HomePlanet  CryoSleep  Cabin  Destination  \\\n",
              "Cabin_Deck VIP                                                             \n",
              "A          False          215         211        209    215          211   \n",
              "           True            35          35         35     35           35   \n",
              "B          False          725         712        707    725          709   \n",
              "           True            42          42         41     42           41   \n",
              "C          False          687         674        666    687          676   \n",
              "           True            41          41         39     41           40   \n",
              "D          False          438         430        428    438          428   \n",
              "           True            31          29         31     31           31   \n",
              "E          False          846         823        826    846          823   \n",
              "           True            15          15         15     15           15   \n",
              "F          False         2695        2630       2630   2695         2630   \n",
              "           True            29          26         29     29           29   \n",
              "G          False         2493        2433       2434   2493         2450   \n",
              "T          False            5           4          4      5            5   \n",
              "\n",
              "                   Age  RoomService  FoodCourt  ShoppingMall   Spa  VRDeck  \\\n",
              "Cabin_Deck VIP                                                               \n",
              "A          False   206          211        214           211   215     211   \n",
              "           True     35           34         35            33    35      34   \n",
              "B          False   712          712        712           705   708     714   \n",
              "           True     42           42         42            42    42      41   \n",
              "C          False   669          676        668           670   672     674   \n",
              "           True     41           41         39            40    39      41   \n",
              "D          False   428          428        430           429   425     427   \n",
              "           True     31           30         30            30    31      31   \n",
              "E          False   826          831        832           829   827     833   \n",
              "           True     15           14         15            15    15      15   \n",
              "F          False  2653         2635       2634          2638  2633    2628   \n",
              "           True     28           29         26            28    29      27   \n",
              "G          False  2436         2436       2441          2421  2442    2433   \n",
              "T          False     5            5          5             4     5       5   \n",
              "\n",
              "                  Name  Transported  GroupNo  Cabin_Side  \n",
              "Cabin_Deck VIP                                            \n",
              "A          False   209          215      215         215  \n",
              "           True     34           35       35          35  \n",
              "B          False   709          725      725         725  \n",
              "           True     42           42       42          42  \n",
              "C          False   674          687      687         687  \n",
              "           True     40           41       41          41  \n",
              "D          False   428          438      438         438  \n",
              "           True     31           31       31          31  \n",
              "E          False   827          846      846         846  \n",
              "           True     15           15       15          15  \n",
              "F          False  2623         2695     2695        2695  \n",
              "           True     28           29       29          29  \n",
              "G          False  2436         2493     2493        2493  \n",
              "T          False     4            5        5           5  "
            ],
            "text/html": [
              "\n",
              "  <div id=\"df-6c1af6de-731b-4f6f-8505-7ef0f61bd64a\">\n",
              "    <div class=\"colab-df-container\">\n",
              "      <div>\n",
              "<style scoped>\n",
              "    .dataframe tbody tr th:only-of-type {\n",
              "        vertical-align: middle;\n",
              "    }\n",
              "\n",
              "    .dataframe tbody tr th {\n",
              "        vertical-align: top;\n",
              "    }\n",
              "\n",
              "    .dataframe thead th {\n",
              "        text-align: right;\n",
              "    }\n",
              "</style>\n",
              "<table border=\"1\" class=\"dataframe\">\n",
              "  <thead>\n",
              "    <tr style=\"text-align: right;\">\n",
              "      <th></th>\n",
              "      <th></th>\n",
              "      <th>PassengerId</th>\n",
              "      <th>HomePlanet</th>\n",
              "      <th>CryoSleep</th>\n",
              "      <th>Cabin</th>\n",
              "      <th>Destination</th>\n",
              "      <th>Age</th>\n",
              "      <th>RoomService</th>\n",
              "      <th>FoodCourt</th>\n",
              "      <th>ShoppingMall</th>\n",
              "      <th>Spa</th>\n",
              "      <th>VRDeck</th>\n",
              "      <th>Name</th>\n",
              "      <th>Transported</th>\n",
              "      <th>GroupNo</th>\n",
              "      <th>Cabin_Side</th>\n",
              "    </tr>\n",
              "    <tr>\n",
              "      <th>Cabin_Deck</th>\n",
              "      <th>VIP</th>\n",
              "      <th></th>\n",
              "      <th></th>\n",
              "      <th></th>\n",
              "      <th></th>\n",
              "      <th></th>\n",
              "      <th></th>\n",
              "      <th></th>\n",
              "      <th></th>\n",
              "      <th></th>\n",
              "      <th></th>\n",
              "      <th></th>\n",
              "      <th></th>\n",
              "      <th></th>\n",
              "      <th></th>\n",
              "      <th></th>\n",
              "    </tr>\n",
              "  </thead>\n",
              "  <tbody>\n",
              "    <tr>\n",
              "      <th rowspan=\"2\" valign=\"top\">A</th>\n",
              "      <th>False</th>\n",
              "      <td>215</td>\n",
              "      <td>211</td>\n",
              "      <td>209</td>\n",
              "      <td>215</td>\n",
              "      <td>211</td>\n",
              "      <td>206</td>\n",
              "      <td>211</td>\n",
              "      <td>214</td>\n",
              "      <td>211</td>\n",
              "      <td>215</td>\n",
              "      <td>211</td>\n",
              "      <td>209</td>\n",
              "      <td>215</td>\n",
              "      <td>215</td>\n",
              "      <td>215</td>\n",
              "    </tr>\n",
              "    <tr>\n",
              "      <th>True</th>\n",
              "      <td>35</td>\n",
              "      <td>35</td>\n",
              "      <td>35</td>\n",
              "      <td>35</td>\n",
              "      <td>35</td>\n",
              "      <td>35</td>\n",
              "      <td>34</td>\n",
              "      <td>35</td>\n",
              "      <td>33</td>\n",
              "      <td>35</td>\n",
              "      <td>34</td>\n",
              "      <td>34</td>\n",
              "      <td>35</td>\n",
              "      <td>35</td>\n",
              "      <td>35</td>\n",
              "    </tr>\n",
              "    <tr>\n",
              "      <th rowspan=\"2\" valign=\"top\">B</th>\n",
              "      <th>False</th>\n",
              "      <td>725</td>\n",
              "      <td>712</td>\n",
              "      <td>707</td>\n",
              "      <td>725</td>\n",
              "      <td>709</td>\n",
              "      <td>712</td>\n",
              "      <td>712</td>\n",
              "      <td>712</td>\n",
              "      <td>705</td>\n",
              "      <td>708</td>\n",
              "      <td>714</td>\n",
              "      <td>709</td>\n",
              "      <td>725</td>\n",
              "      <td>725</td>\n",
              "      <td>725</td>\n",
              "    </tr>\n",
              "    <tr>\n",
              "      <th>True</th>\n",
              "      <td>42</td>\n",
              "      <td>42</td>\n",
              "      <td>41</td>\n",
              "      <td>42</td>\n",
              "      <td>41</td>\n",
              "      <td>42</td>\n",
              "      <td>42</td>\n",
              "      <td>42</td>\n",
              "      <td>42</td>\n",
              "      <td>42</td>\n",
              "      <td>41</td>\n",
              "      <td>42</td>\n",
              "      <td>42</td>\n",
              "      <td>42</td>\n",
              "      <td>42</td>\n",
              "    </tr>\n",
              "    <tr>\n",
              "      <th rowspan=\"2\" valign=\"top\">C</th>\n",
              "      <th>False</th>\n",
              "      <td>687</td>\n",
              "      <td>674</td>\n",
              "      <td>666</td>\n",
              "      <td>687</td>\n",
              "      <td>676</td>\n",
              "      <td>669</td>\n",
              "      <td>676</td>\n",
              "      <td>668</td>\n",
              "      <td>670</td>\n",
              "      <td>672</td>\n",
              "      <td>674</td>\n",
              "      <td>674</td>\n",
              "      <td>687</td>\n",
              "      <td>687</td>\n",
              "      <td>687</td>\n",
              "    </tr>\n",
              "    <tr>\n",
              "      <th>True</th>\n",
              "      <td>41</td>\n",
              "      <td>41</td>\n",
              "      <td>39</td>\n",
              "      <td>41</td>\n",
              "      <td>40</td>\n",
              "      <td>41</td>\n",
              "      <td>41</td>\n",
              "      <td>39</td>\n",
              "      <td>40</td>\n",
              "      <td>39</td>\n",
              "      <td>41</td>\n",
              "      <td>40</td>\n",
              "      <td>41</td>\n",
              "      <td>41</td>\n",
              "      <td>41</td>\n",
              "    </tr>\n",
              "    <tr>\n",
              "      <th rowspan=\"2\" valign=\"top\">D</th>\n",
              "      <th>False</th>\n",
              "      <td>438</td>\n",
              "      <td>430</td>\n",
              "      <td>428</td>\n",
              "      <td>438</td>\n",
              "      <td>428</td>\n",
              "      <td>428</td>\n",
              "      <td>428</td>\n",
              "      <td>430</td>\n",
              "      <td>429</td>\n",
              "      <td>425</td>\n",
              "      <td>427</td>\n",
              "      <td>428</td>\n",
              "      <td>438</td>\n",
              "      <td>438</td>\n",
              "      <td>438</td>\n",
              "    </tr>\n",
              "    <tr>\n",
              "      <th>True</th>\n",
              "      <td>31</td>\n",
              "      <td>29</td>\n",
              "      <td>31</td>\n",
              "      <td>31</td>\n",
              "      <td>31</td>\n",
              "      <td>31</td>\n",
              "      <td>30</td>\n",
              "      <td>30</td>\n",
              "      <td>30</td>\n",
              "      <td>31</td>\n",
              "      <td>31</td>\n",
              "      <td>31</td>\n",
              "      <td>31</td>\n",
              "      <td>31</td>\n",
              "      <td>31</td>\n",
              "    </tr>\n",
              "    <tr>\n",
              "      <th rowspan=\"2\" valign=\"top\">E</th>\n",
              "      <th>False</th>\n",
              "      <td>846</td>\n",
              "      <td>823</td>\n",
              "      <td>826</td>\n",
              "      <td>846</td>\n",
              "      <td>823</td>\n",
              "      <td>826</td>\n",
              "      <td>831</td>\n",
              "      <td>832</td>\n",
              "      <td>829</td>\n",
              "      <td>827</td>\n",
              "      <td>833</td>\n",
              "      <td>827</td>\n",
              "      <td>846</td>\n",
              "      <td>846</td>\n",
              "      <td>846</td>\n",
              "    </tr>\n",
              "    <tr>\n",
              "      <th>True</th>\n",
              "      <td>15</td>\n",
              "      <td>15</td>\n",
              "      <td>15</td>\n",
              "      <td>15</td>\n",
              "      <td>15</td>\n",
              "      <td>15</td>\n",
              "      <td>14</td>\n",
              "      <td>15</td>\n",
              "      <td>15</td>\n",
              "      <td>15</td>\n",
              "      <td>15</td>\n",
              "      <td>15</td>\n",
              "      <td>15</td>\n",
              "      <td>15</td>\n",
              "      <td>15</td>\n",
              "    </tr>\n",
              "    <tr>\n",
              "      <th rowspan=\"2\" valign=\"top\">F</th>\n",
              "      <th>False</th>\n",
              "      <td>2695</td>\n",
              "      <td>2630</td>\n",
              "      <td>2630</td>\n",
              "      <td>2695</td>\n",
              "      <td>2630</td>\n",
              "      <td>2653</td>\n",
              "      <td>2635</td>\n",
              "      <td>2634</td>\n",
              "      <td>2638</td>\n",
              "      <td>2633</td>\n",
              "      <td>2628</td>\n",
              "      <td>2623</td>\n",
              "      <td>2695</td>\n",
              "      <td>2695</td>\n",
              "      <td>2695</td>\n",
              "    </tr>\n",
              "    <tr>\n",
              "      <th>True</th>\n",
              "      <td>29</td>\n",
              "      <td>26</td>\n",
              "      <td>29</td>\n",
              "      <td>29</td>\n",
              "      <td>29</td>\n",
              "      <td>28</td>\n",
              "      <td>29</td>\n",
              "      <td>26</td>\n",
              "      <td>28</td>\n",
              "      <td>29</td>\n",
              "      <td>27</td>\n",
              "      <td>28</td>\n",
              "      <td>29</td>\n",
              "      <td>29</td>\n",
              "      <td>29</td>\n",
              "    </tr>\n",
              "    <tr>\n",
              "      <th>G</th>\n",
              "      <th>False</th>\n",
              "      <td>2493</td>\n",
              "      <td>2433</td>\n",
              "      <td>2434</td>\n",
              "      <td>2493</td>\n",
              "      <td>2450</td>\n",
              "      <td>2436</td>\n",
              "      <td>2436</td>\n",
              "      <td>2441</td>\n",
              "      <td>2421</td>\n",
              "      <td>2442</td>\n",
              "      <td>2433</td>\n",
              "      <td>2436</td>\n",
              "      <td>2493</td>\n",
              "      <td>2493</td>\n",
              "      <td>2493</td>\n",
              "    </tr>\n",
              "    <tr>\n",
              "      <th>T</th>\n",
              "      <th>False</th>\n",
              "      <td>5</td>\n",
              "      <td>4</td>\n",
              "      <td>4</td>\n",
              "      <td>5</td>\n",
              "      <td>5</td>\n",
              "      <td>5</td>\n",
              "      <td>5</td>\n",
              "      <td>5</td>\n",
              "      <td>4</td>\n",
              "      <td>5</td>\n",
              "      <td>5</td>\n",
              "      <td>4</td>\n",
              "      <td>5</td>\n",
              "      <td>5</td>\n",
              "      <td>5</td>\n",
              "    </tr>\n",
              "  </tbody>\n",
              "</table>\n",
              "</div>\n",
              "      <button class=\"colab-df-convert\" onclick=\"convertToInteractive('df-6c1af6de-731b-4f6f-8505-7ef0f61bd64a')\"\n",
              "              title=\"Convert this dataframe to an interactive table.\"\n",
              "              style=\"display:none;\">\n",
              "        \n",
              "  <svg xmlns=\"http://www.w3.org/2000/svg\" height=\"24px\"viewBox=\"0 0 24 24\"\n",
              "       width=\"24px\">\n",
              "    <path d=\"M0 0h24v24H0V0z\" fill=\"none\"/>\n",
              "    <path d=\"M18.56 5.44l.94 2.06.94-2.06 2.06-.94-2.06-.94-.94-2.06-.94 2.06-2.06.94zm-11 1L8.5 8.5l.94-2.06 2.06-.94-2.06-.94L8.5 2.5l-.94 2.06-2.06.94zm10 10l.94 2.06.94-2.06 2.06-.94-2.06-.94-.94-2.06-.94 2.06-2.06.94z\"/><path d=\"M17.41 7.96l-1.37-1.37c-.4-.4-.92-.59-1.43-.59-.52 0-1.04.2-1.43.59L10.3 9.45l-7.72 7.72c-.78.78-.78 2.05 0 2.83L4 21.41c.39.39.9.59 1.41.59.51 0 1.02-.2 1.41-.59l7.78-7.78 2.81-2.81c.8-.78.8-2.07 0-2.86zM5.41 20L4 18.59l7.72-7.72 1.47 1.35L5.41 20z\"/>\n",
              "  </svg>\n",
              "      </button>\n",
              "      \n",
              "  <style>\n",
              "    .colab-df-container {\n",
              "      display:flex;\n",
              "      flex-wrap:wrap;\n",
              "      gap: 12px;\n",
              "    }\n",
              "\n",
              "    .colab-df-convert {\n",
              "      background-color: #E8F0FE;\n",
              "      border: none;\n",
              "      border-radius: 50%;\n",
              "      cursor: pointer;\n",
              "      display: none;\n",
              "      fill: #1967D2;\n",
              "      height: 32px;\n",
              "      padding: 0 0 0 0;\n",
              "      width: 32px;\n",
              "    }\n",
              "\n",
              "    .colab-df-convert:hover {\n",
              "      background-color: #E2EBFA;\n",
              "      box-shadow: 0px 1px 2px rgba(60, 64, 67, 0.3), 0px 1px 3px 1px rgba(60, 64, 67, 0.15);\n",
              "      fill: #174EA6;\n",
              "    }\n",
              "\n",
              "    [theme=dark] .colab-df-convert {\n",
              "      background-color: #3B4455;\n",
              "      fill: #D2E3FC;\n",
              "    }\n",
              "\n",
              "    [theme=dark] .colab-df-convert:hover {\n",
              "      background-color: #434B5C;\n",
              "      box-shadow: 0px 1px 3px 1px rgba(0, 0, 0, 0.15);\n",
              "      filter: drop-shadow(0px 1px 2px rgba(0, 0, 0, 0.3));\n",
              "      fill: #FFFFFF;\n",
              "    }\n",
              "  </style>\n",
              "\n",
              "      <script>\n",
              "        const buttonEl =\n",
              "          document.querySelector('#df-6c1af6de-731b-4f6f-8505-7ef0f61bd64a button.colab-df-convert');\n",
              "        buttonEl.style.display =\n",
              "          google.colab.kernel.accessAllowed ? 'block' : 'none';\n",
              "\n",
              "        async function convertToInteractive(key) {\n",
              "          const element = document.querySelector('#df-6c1af6de-731b-4f6f-8505-7ef0f61bd64a');\n",
              "          const dataTable =\n",
              "            await google.colab.kernel.invokeFunction('convertToInteractive',\n",
              "                                                     [key], {});\n",
              "          if (!dataTable) return;\n",
              "\n",
              "          const docLinkHtml = 'Like what you see? Visit the ' +\n",
              "            '<a target=\"_blank\" href=https://colab.research.google.com/notebooks/data_table.ipynb>data table notebook</a>'\n",
              "            + ' to learn more about interactive tables.';\n",
              "          element.innerHTML = '';\n",
              "          dataTable['output_type'] = 'display_data';\n",
              "          await google.colab.output.renderOutput(dataTable, element);\n",
              "          const docLink = document.createElement('div');\n",
              "          docLink.innerHTML = docLinkHtml;\n",
              "          element.appendChild(docLink);\n",
              "        }\n",
              "      </script>\n",
              "    </div>\n",
              "  </div>\n",
              "  "
            ]
          },
          "metadata": {},
          "execution_count": 403
        }
      ],
      "source": [
        "train.groupby(['Cabin_Deck', 'VIP']).count()"
      ]
    },
    {
      "cell_type": "markdown",
      "id": "ffc02031",
      "metadata": {
        "id": "ffc02031"
      },
      "source": [
        "- People in Deck G(Earth people) were not in VIP"
      ]
    },
    {
      "cell_type": "code",
      "execution_count": null,
      "id": "a2d40678",
      "metadata": {
        "colab": {
          "base_uri": "https://localhost:8080/",
          "height": 543
        },
        "id": "a2d40678",
        "outputId": "1fb2c7a8-9125-4c9e-8f57-2ead8b2da4f2"
      },
      "outputs": [
        {
          "output_type": "display_data",
          "data": {
            "text/plain": [
              "<Figure size 432x288 with 1 Axes>"
            ],
            "image/png": "[encoded data removed]"
          },
          "metadata": {
            "needs_background": "light"
          }
        },
        {
          "output_type": "display_data",
          "data": {
            "text/plain": [
              "<Figure size 432x288 with 1 Axes>"
            ],
            "image/png": "[encoded data removed]"
          },
          "metadata": {
            "needs_background": "light"
          }
        }
      ],
      "source": [
        "for cabin in ['Cabin_Deck', 'Cabin_Side']:\n",
        "    sns.boxplot(x=cabin, y='Age', data=train)\n",
        "    plt.show()"
      ]
    },
    {
      "cell_type": "code",
      "execution_count": null,
      "id": "b48ea3b9",
      "metadata": {
        "colab": {
          "base_uri": "https://localhost:8080/",
          "height": 331
        },
        "id": "b48ea3b9",
        "outputId": "2b7ed4ee-7727-4b06-b688-68536e428c09"
      },
      "outputs": [
        {
          "output_type": "execute_result",
          "data": {
            "text/plain": [
              "             count       mean        std   min   25%   50%   75%   max\n",
              "Cabin_Deck                                                            \n",
              "A            247.0  35.161943  13.554395   0.0  27.0  34.0  43.0  73.0\n",
              "B            766.0  33.622715  13.265808   2.0  25.0  32.0  43.0  79.0\n",
              "C            729.0  34.886145  13.143416   0.0  27.0  33.0  43.0  79.0\n",
              "D            467.0  33.518201  12.497089   4.0  25.0  32.0  41.0  76.0\n",
              "E            856.0  30.068925  12.660891   0.0  21.0  27.0  37.0  77.0\n",
              "F           2748.0  28.430495  13.577425   0.0  20.0  25.0  36.0  78.0\n",
              "G           2501.0  24.062775  15.500982   0.0  14.0  22.0  33.0  79.0\n",
              "T              5.0  37.000000   3.391165  33.0  35.0  37.0  38.0  42.0"
            ],
            "text/html": [
              "\n",
              "  <div id=\"df-6ca04617-3a38-4b5d-97cb-e2d214725484\">\n",
              "    <div class=\"colab-df-container\">\n",
              "      <div>\n",
              "<style scoped>\n",
              "    .dataframe tbody tr th:only-of-type {\n",
              "        vertical-align: middle;\n",
              "    }\n",
              "\n",
              "    .dataframe tbody tr th {\n",
              "        vertical-align: top;\n",
              "    }\n",
              "\n",
              "    .dataframe thead th {\n",
              "        text-align: right;\n",
              "    }\n",
              "</style>\n",
              "<table border=\"1\" class=\"dataframe\">\n",
              "  <thead>\n",
              "    <tr style=\"text-align: right;\">\n",
              "      <th></th>\n",
              "      <th>count</th>\n",
              "      <th>mean</th>\n",
              "      <th>std</th>\n",
              "      <th>min</th>\n",
              "      <th>25%</th>\n",
              "      <th>50%</th>\n",
              "      <th>75%</th>\n",
              "      <th>max</th>\n",
              "    </tr>\n",
              "    <tr>\n",
              "      <th>Cabin_Deck</th>\n",
              "      <th></th>\n",
              "      <th></th>\n",
              "      <th></th>\n",
              "      <th></th>\n",
              "      <th></th>\n",
              "      <th></th>\n",
              "      <th></th>\n",
              "      <th></th>\n",
              "    </tr>\n",
              "  </thead>\n",
              "  <tbody>\n",
              "    <tr>\n",
              "      <th>A</th>\n",
              "      <td>247.0</td>\n",
              "      <td>35.161943</td>\n",
              "      <td>13.554395</td>\n",
              "      <td>0.0</td>\n",
              "      <td>27.0</td>\n",
              "      <td>34.0</td>\n",
              "      <td>43.0</td>\n",
              "      <td>73.0</td>\n",
              "    </tr>\n",
              "    <tr>\n",
              "      <th>B</th>\n",
              "      <td>766.0</td>\n",
              "      <td>33.622715</td>\n",
              "      <td>13.265808</td>\n",
              "      <td>2.0</td>\n",
              "      <td>25.0</td>\n",
              "      <td>32.0</td>\n",
              "      <td>43.0</td>\n",
              "      <td>79.0</td>\n",
              "    </tr>\n",
              "    <tr>\n",
              "      <th>C</th>\n",
              "      <td>729.0</td>\n",
              "      <td>34.886145</td>\n",
              "      <td>13.143416</td>\n",
              "      <td>0.0</td>\n",
              "      <td>27.0</td>\n",
              "      <td>33.0</td>\n",
              "      <td>43.0</td>\n",
              "      <td>79.0</td>\n",
              "    </tr>\n",
              "    <tr>\n",
              "      <th>D</th>\n",
              "      <td>467.0</td>\n",
              "      <td>33.518201</td>\n",
              "      <td>12.497089</td>\n",
              "      <td>4.0</td>\n",
              "      <td>25.0</td>\n",
              "      <td>32.0</td>\n",
              "      <td>41.0</td>\n",
              "      <td>76.0</td>\n",
              "    </tr>\n",
              "    <tr>\n",
              "      <th>E</th>\n",
              "      <td>856.0</td>\n",
              "      <td>30.068925</td>\n",
              "      <td>12.660891</td>\n",
              "      <td>0.0</td>\n",
              "      <td>21.0</td>\n",
              "      <td>27.0</td>\n",
              "      <td>37.0</td>\n",
              "      <td>77.0</td>\n",
              "    </tr>\n",
              "    <tr>\n",
              "      <th>F</th>\n",
              "      <td>2748.0</td>\n",
              "      <td>28.430495</td>\n",
              "      <td>13.577425</td>\n",
              "      <td>0.0</td>\n",
              "      <td>20.0</td>\n",
              "      <td>25.0</td>\n",
              "      <td>36.0</td>\n",
              "      <td>78.0</td>\n",
              "    </tr>\n",
              "    <tr>\n",
              "      <th>G</th>\n",
              "      <td>2501.0</td>\n",
              "      <td>24.062775</td>\n",
              "      <td>15.500982</td>\n",
              "      <td>0.0</td>\n",
              "      <td>14.0</td>\n",
              "      <td>22.0</td>\n",
              "      <td>33.0</td>\n",
              "      <td>79.0</td>\n",
              "    </tr>\n",
              "    <tr>\n",
              "      <th>T</th>\n",
              "      <td>5.0</td>\n",
              "      <td>37.000000</td>\n",
              "      <td>3.391165</td>\n",
              "      <td>33.0</td>\n",
              "      <td>35.0</td>\n",
              "      <td>37.0</td>\n",
              "      <td>38.0</td>\n",
              "      <td>42.0</td>\n",
              "    </tr>\n",
              "  </tbody>\n",
              "</table>\n",
              "</div>\n",
              "      <button class=\"colab-df-convert\" onclick=\"convertToInteractive('df-6ca04617-3a38-4b5d-97cb-e2d214725484')\"\n",
              "              title=\"Convert this dataframe to an interactive table.\"\n",
              "              style=\"display:none;\">\n",
              "        \n",
              "  <svg xmlns=\"http://www.w3.org/2000/svg\" height=\"24px\"viewBox=\"0 0 24 24\"\n",
              "       width=\"24px\">\n",
              "    <path d=\"M0 0h24v24H0V0z\" fill=\"none\"/>\n",
              "    <path d=\"M18.56 5.44l.94 2.06.94-2.06 2.06-.94-2.06-.94-.94-2.06-.94 2.06-2.06.94zm-11 1L8.5 8.5l.94-2.06 2.06-.94-2.06-.94L8.5 2.5l-.94 2.06-2.06.94zm10 10l.94 2.06.94-2.06 2.06-.94-2.06-.94-.94-2.06-.94 2.06-2.06.94z\"/><path d=\"M17.41 7.96l-1.37-1.37c-.4-.4-.92-.59-1.43-.59-.52 0-1.04.2-1.43.59L10.3 9.45l-7.72 7.72c-.78.78-.78 2.05 0 2.83L4 21.41c.39.39.9.59 1.41.59.51 0 1.02-.2 1.41-.59l7.78-7.78 2.81-2.81c.8-.78.8-2.07 0-2.86zM5.41 20L4 18.59l7.72-7.72 1.47 1.35L5.41 20z\"/>\n",
              "  </svg>\n",
              "      </button>\n",
              "      \n",
              "  <style>\n",
              "    .colab-df-container {\n",
              "      display:flex;\n",
              "      flex-wrap:wrap;\n",
              "      gap: 12px;\n",
              "    }\n",
              "\n",
              "    .colab-df-convert {\n",
              "      background-color: #E8F0FE;\n",
              "      border: none;\n",
              "      border-radius: 50%;\n",
              "      cursor: pointer;\n",
              "      display: none;\n",
              "      fill: #1967D2;\n",
              "      height: 32px;\n",
              "      padding: 0 0 0 0;\n",
              "      width: 32px;\n",
              "    }\n",
              "\n",
              "    .colab-df-convert:hover {\n",
              "      background-color: #E2EBFA;\n",
              "      box-shadow: 0px 1px 2px rgba(60, 64, 67, 0.3), 0px 1px 3px 1px rgba(60, 64, 67, 0.15);\n",
              "      fill: #174EA6;\n",
              "    }\n",
              "\n",
              "    [theme=dark] .colab-df-convert {\n",
              "      background-color: #3B4455;\n",
              "      fill: #D2E3FC;\n",
              "    }\n",
              "\n",
              "    [theme=dark] .colab-df-convert:hover {\n",
              "      background-color: #434B5C;\n",
              "      box-shadow: 0px 1px 3px 1px rgba(0, 0, 0, 0.15);\n",
              "      filter: drop-shadow(0px 1px 2px rgba(0, 0, 0, 0.3));\n",
              "      fill: #FFFFFF;\n",
              "    }\n",
              "  </style>\n",
              "\n",
              "      <script>\n",
              "        const buttonEl =\n",
              "          document.querySelector('#df-6ca04617-3a38-4b5d-97cb-e2d214725484 button.colab-df-convert');\n",
              "        buttonEl.style.display =\n",
              "          google.colab.kernel.accessAllowed ? 'block' : 'none';\n",
              "\n",
              "        async function convertToInteractive(key) {\n",
              "          const element = document.querySelector('#df-6ca04617-3a38-4b5d-97cb-e2d214725484');\n",
              "          const dataTable =\n",
              "            await google.colab.kernel.invokeFunction('convertToInteractive',\n",
              "                                                     [key], {});\n",
              "          if (!dataTable) return;\n",
              "\n",
              "          const docLinkHtml = 'Like what you see? Visit the ' +\n",
              "            '<a target=\"_blank\" href=https://colab.research.google.com/notebooks/data_table.ipynb>data table notebook</a>'\n",
              "            + ' to learn more about interactive tables.';\n",
              "          element.innerHTML = '';\n",
              "          dataTable['output_type'] = 'display_data';\n",
              "          await google.colab.output.renderOutput(dataTable, element);\n",
              "          const docLink = document.createElement('div');\n",
              "          docLink.innerHTML = docLinkHtml;\n",
              "          element.appendChild(docLink);\n",
              "        }\n",
              "      </script>\n",
              "    </div>\n",
              "  </div>\n",
              "  "
            ]
          },
          "metadata": {},
          "execution_count": 405
        }
      ],
      "source": [
        "train.groupby('Cabin_Deck')['Age'].describe()"
      ]
    },
    {
      "cell_type": "markdown",
      "id": "2d90e9e9",
      "metadata": {
        "id": "2d90e9e9"
      },
      "source": [
        "- Deck G had the youngest people with median age of 22"
      ]
    },
    {
      "cell_type": "code",
      "execution_count": null,
      "id": "f12d1908",
      "metadata": {
        "colab": {
          "base_uri": "https://localhost:8080/",
          "height": 543
        },
        "id": "f12d1908",
        "outputId": "d170a1f9-9bcd-4c5f-8e8b-aa5fcd77f8b7"
      },
      "outputs": [
        {
          "output_type": "display_data",
          "data": {
            "text/plain": [
              "<Figure size 432x288 with 1 Axes>"
            ],
            "image/png": "[encoded data removed]"
          },
          "metadata": {
            "needs_background": "light"
          }
        },
        {
          "output_type": "display_data",
          "data": {
            "text/plain": [
              "<Figure size 432x288 with 1 Axes>"
            ],
            "image/png": "[encoded data removed]"
          },
          "metadata": {
            "needs_background": "light"
          }
        }
      ],
      "source": [
        "for cabin in ['Cabin_Deck', 'Cabin_Side']:\n",
        "    sns.boxplot(x=cabin, y='Age', data=train, hue='Transported')\n",
        "    plt.legend(loc='center left', bbox_to_anchor=(1, 0.5))\n",
        "    plt.show()"
      ]
    },
    {
      "cell_type": "code",
      "execution_count": null,
      "id": "513a0b46",
      "metadata": {
        "colab": {
          "base_uri": "https://localhost:8080/",
          "height": 543
        },
        "id": "513a0b46",
        "outputId": "ff69bdac-ea88-4ad9-cb1d-090ff79b3093"
      },
      "outputs": [
        {
          "output_type": "display_data",
          "data": {
            "text/plain": [
              "<Figure size 432x288 with 1 Axes>"
            ],
            "image/png": "[encoded data removed]"
          },
          "metadata": {
            "needs_background": "light"
          }
        },
        {
          "output_type": "display_data",
          "data": {
            "text/plain": [
              "<Figure size 432x288 with 1 Axes>"
            ],
            "image/png": "[encoded data removed]"
          },
          "metadata": {
            "needs_background": "light"
          }
        }
      ],
      "source": [
        "for cabin in ['Cabin_Deck', 'Cabin_Side']:\n",
        "    sns.boxplot(x=cabin, y='Age', data=train, hue='HomePlanet')\n",
        "    plt.legend(loc='center left', bbox_to_anchor=(1, 0.5))\n",
        "    plt.show()"
      ]
    },
    {
      "cell_type": "code",
      "execution_count": null,
      "id": "316f272d",
      "metadata": {
        "colab": {
          "base_uri": "https://localhost:8080/",
          "height": 297
        },
        "id": "316f272d",
        "outputId": "4e55f4e4-0346-4ea7-8064-629dda79eaca"
      },
      "outputs": [
        {
          "output_type": "execute_result",
          "data": {
            "text/plain": [
              "<matplotlib.axes._subplots.AxesSubplot at 0x7f6e68bccb20>"
            ]
          },
          "metadata": {},
          "execution_count": 408
        },
        {
          "output_type": "display_data",
          "data": {
            "text/plain": [
              "<Figure size 432x288 with 1 Axes>"
            ],
            "image/png": "[encoded data removed]"
          },
          "metadata": {
            "needs_background": "light"
          }
        }
      ],
      "source": [
        "sns.countplot(x='Cabin_Deck', data=train, hue='Cabin_Side')"
      ]
    },
    {
      "cell_type": "markdown",
      "id": "072aa09a",
      "metadata": {
        "id": "072aa09a"
      },
      "source": [
        "# Data Cleaning"
      ]
    },
    {
      "cell_type": "code",
      "execution_count": null,
      "id": "02129a20",
      "metadata": {
        "colab": {
          "base_uri": "https://localhost:8080/"
        },
        "id": "02129a20",
        "outputId": "500a72aa-28ba-4236-9f06-5671bad422ea"
      },
      "outputs": [
        {
          "output_type": "stream",
          "name": "stdout",
          "text": [
            "<class 'pandas.core.frame.DataFrame'>\n",
            "RangeIndex: 12970 entries, 0 to 12969\n",
            "Data columns (total 17 columns):\n",
            " #   Column        Non-Null Count  Dtype  \n",
            "---  ------        --------------  -----  \n",
            " 0   PassengerId   12970 non-null  object \n",
            " 1   HomePlanet    12682 non-null  object \n",
            " 2   CryoSleep     12660 non-null  object \n",
            " 3   Cabin         12671 non-null  object \n",
            " 4   Destination   12696 non-null  object \n",
            " 5   Age           12700 non-null  float64\n",
            " 6   VIP           12674 non-null  object \n",
            " 7   RoomService   12707 non-null  float64\n",
            " 8   FoodCourt     12681 non-null  float64\n",
            " 9   ShoppingMall  12664 non-null  float64\n",
            " 10  Spa           12686 non-null  float64\n",
            " 11  VRDeck        12702 non-null  float64\n",
            " 12  Name          12676 non-null  object \n",
            " 13  Transported   8693 non-null   object \n",
            " 14  GroupNo       12970 non-null  object \n",
            " 15  Cabin_Deck    12671 non-null  object \n",
            " 16  Cabin_Side    12671 non-null  object \n",
            "dtypes: float64(6), object(11)\n",
            "memory usage: 1.7+ MB\n"
          ]
        }
      ],
      "source": [
        "all_data.info()"
      ]
    },
    {
      "cell_type": "code",
      "execution_count": null,
      "id": "e6e15ebe",
      "metadata": {
        "colab": {
          "base_uri": "https://localhost:8080/"
        },
        "id": "e6e15ebe",
        "outputId": "8fc75b4c-11bb-4839-8778-0976b3ab138a"
      },
      "outputs": [
        {
          "output_type": "execute_result",
          "data": {
            "text/plain": [
              "PassengerId        0\n",
              "HomePlanet       288\n",
              "CryoSleep        310\n",
              "Cabin            299\n",
              "Destination      274\n",
              "Age              270\n",
              "VIP              296\n",
              "RoomService      263\n",
              "FoodCourt        289\n",
              "ShoppingMall     306\n",
              "Spa              284\n",
              "VRDeck           268\n",
              "Name             294\n",
              "Transported     4277\n",
              "GroupNo            0\n",
              "Cabin_Deck       299\n",
              "Cabin_Side       299\n",
              "dtype: int64"
            ]
          },
          "metadata": {},
          "execution_count": 410
        }
      ],
      "source": [
        "all_data.isna().sum()"
      ]
    },
    {
      "cell_type": "code",
      "execution_count": null,
      "id": "1db99445",
      "metadata": {
        "colab": {
          "base_uri": "https://localhost:8080/",
          "height": 357
        },
        "id": "1db99445",
        "outputId": "8bc35395-c731-44fc-9dee-3f9bbd26f369"
      },
      "outputs": [
        {
          "output_type": "execute_result",
          "data": {
            "text/plain": [
              "  PassengerId HomePlanet CryoSleep  Cabin  Destination   Age    VIP  \\\n",
              "0     0001_01     Europa     False  B/0/P  TRAPPIST-1e  39.0  False   \n",
              "1     0002_01      Earth     False  F/0/S  TRAPPIST-1e  24.0  False   \n",
              "2     0003_01     Europa     False  A/0/S  TRAPPIST-1e  58.0   True   \n",
              "3     0003_02     Europa     False  A/0/S  TRAPPIST-1e  33.0  False   \n",
              "4     0004_01      Earth     False  F/1/S  TRAPPIST-1e  16.0  False   \n",
              "\n",
              "   RoomService  FoodCourt  ShoppingMall     Spa  VRDeck               Name  \\\n",
              "0          0.0        0.0           0.0     0.0     0.0    Maham Ofracculy   \n",
              "1        109.0        9.0          25.0   549.0    44.0       Juanna Vines   \n",
              "2         43.0     3576.0           0.0  6715.0    49.0      Altark Susent   \n",
              "3          0.0     1283.0         371.0  3329.0   193.0       Solam Susent   \n",
              "4        303.0       70.0         151.0   565.0     2.0  Willy Santantines   \n",
              "\n",
              "  Transported GroupNo Cabin_Deck Cabin_Side  \n",
              "0       False    0001          B          P  \n",
              "1        True    0002          F          S  \n",
              "2       False    0003          A          S  \n",
              "3       False    0003          A          S  \n",
              "4        True    0004          F          S  "
            ],
            "text/html": [
              "\n",
              "  <div id=\"df-3ad7262c-6c4f-4e06-9824-e0c69beeedeb\">\n",
              "    <div class=\"colab-df-container\">\n",
              "      <div>\n",
              "<style scoped>\n",
              "    .dataframe tbody tr th:only-of-type {\n",
              "        vertical-align: middle;\n",
              "    }\n",
              "\n",
              "    .dataframe tbody tr th {\n",
              "        vertical-align: top;\n",
              "    }\n",
              "\n",
              "    .dataframe thead th {\n",
              "        text-align: right;\n",
              "    }\n",
              "</style>\n",
              "<table border=\"1\" class=\"dataframe\">\n",
              "  <thead>\n",
              "    <tr style=\"text-align: right;\">\n",
              "      <th></th>\n",
              "      <th>PassengerId</th>\n",
              "      <th>HomePlanet</th>\n",
              "      <th>CryoSleep</th>\n",
              "      <th>Cabin</th>\n",
              "      <th>Destination</th>\n",
              "      <th>Age</th>\n",
              "      <th>VIP</th>\n",
              "      <th>RoomService</th>\n",
              "      <th>FoodCourt</th>\n",
              "      <th>ShoppingMall</th>\n",
              "      <th>Spa</th>\n",
              "      <th>VRDeck</th>\n",
              "      <th>Name</th>\n",
              "      <th>Transported</th>\n",
              "      <th>GroupNo</th>\n",
              "      <th>Cabin_Deck</th>\n",
              "      <th>Cabin_Side</th>\n",
              "    </tr>\n",
              "  </thead>\n",
              "  <tbody>\n",
              "    <tr>\n",
              "      <th>0</th>\n",
              "      <td>0001_01</td>\n",
              "      <td>Europa</td>\n",
              "      <td>False</td>\n",
              "      <td>B/0/P</td>\n",
              "      <td>TRAPPIST-1e</td>\n",
              "      <td>39.0</td>\n",
              "      <td>False</td>\n",
              "      <td>0.0</td>\n",
              "      <td>0.0</td>\n",
              "      <td>0.0</td>\n",
              "      <td>0.0</td>\n",
              "      <td>0.0</td>\n",
              "      <td>Maham Ofracculy</td>\n",
              "      <td>False</td>\n",
              "      <td>0001</td>\n",
              "      <td>B</td>\n",
              "      <td>P</td>\n",
              "    </tr>\n",
              "    <tr>\n",
              "      <th>1</th>\n",
              "      <td>0002_01</td>\n",
              "      <td>Earth</td>\n",
              "      <td>False</td>\n",
              "      <td>F/0/S</td>\n",
              "      <td>TRAPPIST-1e</td>\n",
              "      <td>24.0</td>\n",
              "      <td>False</td>\n",
              "      <td>109.0</td>\n",
              "      <td>9.0</td>\n",
              "      <td>25.0</td>\n",
              "      <td>549.0</td>\n",
              "      <td>44.0</td>\n",
              "      <td>Juanna Vines</td>\n",
              "      <td>True</td>\n",
              "      <td>0002</td>\n",
              "      <td>F</td>\n",
              "      <td>S</td>\n",
              "    </tr>\n",
              "    <tr>\n",
              "      <th>2</th>\n",
              "      <td>0003_01</td>\n",
              "      <td>Europa</td>\n",
              "      <td>False</td>\n",
              "      <td>A/0/S</td>\n",
              "      <td>TRAPPIST-1e</td>\n",
              "      <td>58.0</td>\n",
              "      <td>True</td>\n",
              "      <td>43.0</td>\n",
              "      <td>3576.0</td>\n",
              "      <td>0.0</td>\n",
              "      <td>6715.0</td>\n",
              "      <td>49.0</td>\n",
              "      <td>Altark Susent</td>\n",
              "      <td>False</td>\n",
              "      <td>0003</td>\n",
              "      <td>A</td>\n",
              "      <td>S</td>\n",
              "    </tr>\n",
              "    <tr>\n",
              "      <th>3</th>\n",
              "      <td>0003_02</td>\n",
              "      <td>Europa</td>\n",
              "      <td>False</td>\n",
              "      <td>A/0/S</td>\n",
              "      <td>TRAPPIST-1e</td>\n",
              "      <td>33.0</td>\n",
              "      <td>False</td>\n",
              "      <td>0.0</td>\n",
              "      <td>1283.0</td>\n",
              "      <td>371.0</td>\n",
              "      <td>3329.0</td>\n",
              "      <td>193.0</td>\n",
              "      <td>Solam Susent</td>\n",
              "      <td>False</td>\n",
              "      <td>0003</td>\n",
              "      <td>A</td>\n",
              "      <td>S</td>\n",
              "    </tr>\n",
              "    <tr>\n",
              "      <th>4</th>\n",
              "      <td>0004_01</td>\n",
              "      <td>Earth</td>\n",
              "      <td>False</td>\n",
              "      <td>F/1/S</td>\n",
              "      <td>TRAPPIST-1e</td>\n",
              "      <td>16.0</td>\n",
              "      <td>False</td>\n",
              "      <td>303.0</td>\n",
              "      <td>70.0</td>\n",
              "      <td>151.0</td>\n",
              "      <td>565.0</td>\n",
              "      <td>2.0</td>\n",
              "      <td>Willy Santantines</td>\n",
              "      <td>True</td>\n",
              "      <td>0004</td>\n",
              "      <td>F</td>\n",
              "      <td>S</td>\n",
              "    </tr>\n",
              "  </tbody>\n",
              "</table>\n",
              "</div>\n",
              "      <button class=\"colab-df-convert\" onclick=\"convertToInteractive('df-3ad7262c-6c4f-4e06-9824-e0c69beeedeb')\"\n",
              "              title=\"Convert this dataframe to an interactive table.\"\n",
              "              style=\"display:none;\">\n",
              "        \n",
              "  <svg xmlns=\"http://www.w3.org/2000/svg\" height=\"24px\"viewBox=\"0 0 24 24\"\n",
              "       width=\"24px\">\n",
              "    <path d=\"M0 0h24v24H0V0z\" fill=\"none\"/>\n",
              "    <path d=\"M18.56 5.44l.94 2.06.94-2.06 2.06-.94-2.06-.94-.94-2.06-.94 2.06-2.06.94zm-11 1L8.5 8.5l.94-2.06 2.06-.94-2.06-.94L8.5 2.5l-.94 2.06-2.06.94zm10 10l.94 2.06.94-2.06 2.06-.94-2.06-.94-.94-2.06-.94 2.06-2.06.94z\"/><path d=\"M17.41 7.96l-1.37-1.37c-.4-.4-.92-.59-1.43-.59-.52 0-1.04.2-1.43.59L10.3 9.45l-7.72 7.72c-.78.78-.78 2.05 0 2.83L4 21.41c.39.39.9.59 1.41.59.51 0 1.02-.2 1.41-.59l7.78-7.78 2.81-2.81c.8-.78.8-2.07 0-2.86zM5.41 20L4 18.59l7.72-7.72 1.47 1.35L5.41 20z\"/>\n",
              "  </svg>\n",
              "      </button>\n",
              "      \n",
              "  <style>\n",
              "    .colab-df-container {\n",
              "      display:flex;\n",
              "      flex-wrap:wrap;\n",
              "      gap: 12px;\n",
              "    }\n",
              "\n",
              "    .colab-df-convert {\n",
              "      background-color: #E8F0FE;\n",
              "      border: none;\n",
              "      border-radius: 50%;\n",
              "      cursor: pointer;\n",
              "      display: none;\n",
              "      fill: #1967D2;\n",
              "      height: 32px;\n",
              "      padding: 0 0 0 0;\n",
              "      width: 32px;\n",
              "    }\n",
              "\n",
              "    .colab-df-convert:hover {\n",
              "      background-color: #E2EBFA;\n",
              "      box-shadow: 0px 1px 2px rgba(60, 64, 67, 0.3), 0px 1px 3px 1px rgba(60, 64, 67, 0.15);\n",
              "      fill: #174EA6;\n",
              "    }\n",
              "\n",
              "    [theme=dark] .colab-df-convert {\n",
              "      background-color: #3B4455;\n",
              "      fill: #D2E3FC;\n",
              "    }\n",
              "\n",
              "    [theme=dark] .colab-df-convert:hover {\n",
              "      background-color: #434B5C;\n",
              "      box-shadow: 0px 1px 3px 1px rgba(0, 0, 0, 0.15);\n",
              "      filter: drop-shadow(0px 1px 2px rgba(0, 0, 0, 0.3));\n",
              "      fill: #FFFFFF;\n",
              "    }\n",
              "  </style>\n",
              "\n",
              "      <script>\n",
              "        const buttonEl =\n",
              "          document.querySelector('#df-3ad7262c-6c4f-4e06-9824-e0c69beeedeb button.colab-df-convert');\n",
              "        buttonEl.style.display =\n",
              "          google.colab.kernel.accessAllowed ? 'block' : 'none';\n",
              "\n",
              "        async function convertToInteractive(key) {\n",
              "          const element = document.querySelector('#df-3ad7262c-6c4f-4e06-9824-e0c69beeedeb');\n",
              "          const dataTable =\n",
              "            await google.colab.kernel.invokeFunction('convertToInteractive',\n",
              "                                                     [key], {});\n",
              "          if (!dataTable) return;\n",
              "\n",
              "          const docLinkHtml = 'Like what you see? Visit the ' +\n",
              "            '<a target=\"_blank\" href=https://colab.research.google.com/notebooks/data_table.ipynb>data table notebook</a>'\n",
              "            + ' to learn more about interactive tables.';\n",
              "          element.innerHTML = '';\n",
              "          dataTable['output_type'] = 'display_data';\n",
              "          await google.colab.output.renderOutput(dataTable, element);\n",
              "          const docLink = document.createElement('div');\n",
              "          docLink.innerHTML = docLinkHtml;\n",
              "          element.appendChild(docLink);\n",
              "        }\n",
              "      </script>\n",
              "    </div>\n",
              "  </div>\n",
              "  "
            ]
          },
          "metadata": {},
          "execution_count": 411
        }
      ],
      "source": [
        "all_data.head()"
      ]
    },
    {
      "cell_type": "code",
      "execution_count": null,
      "id": "6e3b2e59",
      "metadata": {
        "colab": {
          "base_uri": "https://localhost:8080/",
          "height": 519
        },
        "id": "6e3b2e59",
        "outputId": "12c1c082-4855-40e7-f0ef-4ac345f31604"
      },
      "outputs": [
        {
          "output_type": "execute_result",
          "data": {
            "text/plain": [
              "                    PassengerId  HomePlanet  CryoSleep  Cabin  Destination  \\\n",
              "GroupNo Cabin_Deck                                                           \n",
              "0001    B                     1           1          1      1            1   \n",
              "0002    F                     1           1          1      1            1   \n",
              "0003    A                     2           2          2      2            2   \n",
              "0004    F                     1           1          1      1            1   \n",
              "0005    F                     1           1          1      1            1   \n",
              "...                         ...         ...        ...    ...          ...   \n",
              "9276    A                     1           1          1      1            1   \n",
              "9277    G                     1           1          1      1            1   \n",
              "9278    G                     1           1          1      1            1   \n",
              "9279    G                     1           1          1      1            1   \n",
              "9280    E                     2           2          2      2            2   \n",
              "\n",
              "                    Age  VIP  RoomService  FoodCourt  ShoppingMall  Spa  \\\n",
              "GroupNo Cabin_Deck                                                        \n",
              "0001    B             1    1            1          1             1    1   \n",
              "0002    F             1    1            1          1             1    1   \n",
              "0003    A             2    2            2          2             2    2   \n",
              "0004    F             1    1            1          1             1    1   \n",
              "0005    F             1    1            1          1             1    1   \n",
              "...                 ...  ...          ...        ...           ...  ...   \n",
              "9276    A             1    1            1          1             1    1   \n",
              "9277    G             1    1            1          1             1    1   \n",
              "9278    G             1    1            1          1             1    1   \n",
              "9279    G             1    1            1          1             1    1   \n",
              "9280    E             2    2            2          2             2    2   \n",
              "\n",
              "                    VRDeck  Name  Transported  Cabin_Side  \n",
              "GroupNo Cabin_Deck                                         \n",
              "0001    B                1     1            1           1  \n",
              "0002    F                1     1            1           1  \n",
              "0003    A                2     2            2           2  \n",
              "0004    F                1     1            1           1  \n",
              "0005    F                1     1            1           1  \n",
              "...                    ...   ...          ...         ...  \n",
              "9276    A                1     1            1           1  \n",
              "9277    G                1     1            0           1  \n",
              "9278    G                1     1            1           1  \n",
              "9279    G                1     1            1           1  \n",
              "9280    E                2     2            2           2  \n",
              "\n",
              "[9825 rows x 15 columns]"
            ],
            "text/html": [
              "\n",
              "  <div id=\"df-bbbdb6bf-2c47-421b-afd9-7feec2a39f4e\">\n",
              "    <div class=\"colab-df-container\">\n",
              "      <div>\n",
              "<style scoped>\n",
              "    .dataframe tbody tr th:only-of-type {\n",
              "        vertical-align: middle;\n",
              "    }\n",
              "\n",
              "    .dataframe tbody tr th {\n",
              "        vertical-align: top;\n",
              "    }\n",
              "\n",
              "    .dataframe thead th {\n",
              "        text-align: right;\n",
              "    }\n",
              "</style>\n",
              "<table border=\"1\" class=\"dataframe\">\n",
              "  <thead>\n",
              "    <tr style=\"text-align: right;\">\n",
              "      <th></th>\n",
              "      <th></th>\n",
              "      <th>PassengerId</th>\n",
              "      <th>HomePlanet</th>\n",
              "      <th>CryoSleep</th>\n",
              "      <th>Cabin</th>\n",
              "      <th>Destination</th>\n",
              "      <th>Age</th>\n",
              "      <th>VIP</th>\n",
              "      <th>RoomService</th>\n",
              "      <th>FoodCourt</th>\n",
              "      <th>ShoppingMall</th>\n",
              "      <th>Spa</th>\n",
              "      <th>VRDeck</th>\n",
              "      <th>Name</th>\n",
              "      <th>Transported</th>\n",
              "      <th>Cabin_Side</th>\n",
              "    </tr>\n",
              "    <tr>\n",
              "      <th>GroupNo</th>\n",
              "      <th>Cabin_Deck</th>\n",
              "      <th></th>\n",
              "      <th></th>\n",
              "      <th></th>\n",
              "      <th></th>\n",
              "      <th></th>\n",
              "      <th></th>\n",
              "      <th></th>\n",
              "      <th></th>\n",
              "      <th></th>\n",
              "      <th></th>\n",
              "      <th></th>\n",
              "      <th></th>\n",
              "      <th></th>\n",
              "      <th></th>\n",
              "      <th></th>\n",
              "    </tr>\n",
              "  </thead>\n",
              "  <tbody>\n",
              "    <tr>\n",
              "      <th>0001</th>\n",
              "      <th>B</th>\n",
              "      <td>1</td>\n",
              "      <td>1</td>\n",
              "      <td>1</td>\n",
              "      <td>1</td>\n",
              "      <td>1</td>\n",
              "      <td>1</td>\n",
              "      <td>1</td>\n",
              "      <td>1</td>\n",
              "      <td>1</td>\n",
              "      <td>1</td>\n",
              "      <td>1</td>\n",
              "      <td>1</td>\n",
              "      <td>1</td>\n",
              "      <td>1</td>\n",
              "      <td>1</td>\n",
              "    </tr>\n",
              "    <tr>\n",
              "      <th>0002</th>\n",
              "      <th>F</th>\n",
              "      <td>1</td>\n",
              "      <td>1</td>\n",
              "      <td>1</td>\n",
              "      <td>1</td>\n",
              "      <td>1</td>\n",
              "      <td>1</td>\n",
              "      <td>1</td>\n",
              "      <td>1</td>\n",
              "      <td>1</td>\n",
              "      <td>1</td>\n",
              "      <td>1</td>\n",
              "      <td>1</td>\n",
              "      <td>1</td>\n",
              "      <td>1</td>\n",
              "      <td>1</td>\n",
              "    </tr>\n",
              "    <tr>\n",
              "      <th>0003</th>\n",
              "      <th>A</th>\n",
              "      <td>2</td>\n",
              "      <td>2</td>\n",
              "      <td>2</td>\n",
              "      <td>2</td>\n",
              "      <td>2</td>\n",
              "      <td>2</td>\n",
              "      <td>2</td>\n",
              "      <td>2</td>\n",
              "      <td>2</td>\n",
              "      <td>2</td>\n",
              "      <td>2</td>\n",
              "      <td>2</td>\n",
              "      <td>2</td>\n",
              "      <td>2</td>\n",
              "      <td>2</td>\n",
              "    </tr>\n",
              "    <tr>\n",
              "      <th>0004</th>\n",
              "      <th>F</th>\n",
              "      <td>1</td>\n",
              "      <td>1</td>\n",
              "      <td>1</td>\n",
              "      <td>1</td>\n",
              "      <td>1</td>\n",
              "      <td>1</td>\n",
              "      <td>1</td>\n",
              "      <td>1</td>\n",
              "      <td>1</td>\n",
              "      <td>1</td>\n",
              "      <td>1</td>\n",
              "      <td>1</td>\n",
              "      <td>1</td>\n",
              "      <td>1</td>\n",
              "      <td>1</td>\n",
              "    </tr>\n",
              "    <tr>\n",
              "      <th>0005</th>\n",
              "      <th>F</th>\n",
              "      <td>1</td>\n",
              "      <td>1</td>\n",
              "      <td>1</td>\n",
              "      <td>1</td>\n",
              "      <td>1</td>\n",
              "      <td>1</td>\n",
              "      <td>1</td>\n",
              "      <td>1</td>\n",
              "      <td>1</td>\n",
              "      <td>1</td>\n",
              "      <td>1</td>\n",
              "      <td>1</td>\n",
              "      <td>1</td>\n",
              "      <td>1</td>\n",
              "      <td>1</td>\n",
              "    </tr>\n",
              "    <tr>\n",
              "      <th>...</th>\n",
              "      <th>...</th>\n",
              "      <td>...</td>\n",
              "      <td>...</td>\n",
              "      <td>...</td>\n",
              "      <td>...</td>\n",
              "      <td>...</td>\n",
              "      <td>...</td>\n",
              "      <td>...</td>\n",
              "      <td>...</td>\n",
              "      <td>...</td>\n",
              "      <td>...</td>\n",
              "      <td>...</td>\n",
              "      <td>...</td>\n",
              "      <td>...</td>\n",
              "      <td>...</td>\n",
              "      <td>...</td>\n",
              "    </tr>\n",
              "    <tr>\n",
              "      <th>9276</th>\n",
              "      <th>A</th>\n",
              "      <td>1</td>\n",
              "      <td>1</td>\n",
              "      <td>1</td>\n",
              "      <td>1</td>\n",
              "      <td>1</td>\n",
              "      <td>1</td>\n",
              "      <td>1</td>\n",
              "      <td>1</td>\n",
              "      <td>1</td>\n",
              "      <td>1</td>\n",
              "      <td>1</td>\n",
              "      <td>1</td>\n",
              "      <td>1</td>\n",
              "      <td>1</td>\n",
              "      <td>1</td>\n",
              "    </tr>\n",
              "    <tr>\n",
              "      <th>9277</th>\n",
              "      <th>G</th>\n",
              "      <td>1</td>\n",
              "      <td>1</td>\n",
              "      <td>1</td>\n",
              "      <td>1</td>\n",
              "      <td>1</td>\n",
              "      <td>1</td>\n",
              "      <td>1</td>\n",
              "      <td>1</td>\n",
              "      <td>1</td>\n",
              "      <td>1</td>\n",
              "      <td>1</td>\n",
              "      <td>1</td>\n",
              "      <td>1</td>\n",
              "      <td>0</td>\n",
              "      <td>1</td>\n",
              "    </tr>\n",
              "    <tr>\n",
              "      <th>9278</th>\n",
              "      <th>G</th>\n",
              "      <td>1</td>\n",
              "      <td>1</td>\n",
              "      <td>1</td>\n",
              "      <td>1</td>\n",
              "      <td>1</td>\n",
              "      <td>1</td>\n",
              "      <td>1</td>\n",
              "      <td>1</td>\n",
              "      <td>1</td>\n",
              "      <td>1</td>\n",
              "      <td>1</td>\n",
              "      <td>1</td>\n",
              "      <td>1</td>\n",
              "      <td>1</td>\n",
              "      <td>1</td>\n",
              "    </tr>\n",
              "    <tr>\n",
              "      <th>9279</th>\n",
              "      <th>G</th>\n",
              "      <td>1</td>\n",
              "      <td>1</td>\n",
              "      <td>1</td>\n",
              "      <td>1</td>\n",
              "      <td>1</td>\n",
              "      <td>1</td>\n",
              "      <td>1</td>\n",
              "      <td>1</td>\n",
              "      <td>1</td>\n",
              "      <td>1</td>\n",
              "      <td>1</td>\n",
              "      <td>1</td>\n",
              "      <td>1</td>\n",
              "      <td>1</td>\n",
              "      <td>1</td>\n",
              "    </tr>\n",
              "    <tr>\n",
              "      <th>9280</th>\n",
              "      <th>E</th>\n",
              "      <td>2</td>\n",
              "      <td>2</td>\n",
              "      <td>2</td>\n",
              "      <td>2</td>\n",
              "      <td>2</td>\n",
              "      <td>2</td>\n",
              "      <td>2</td>\n",
              "      <td>2</td>\n",
              "      <td>2</td>\n",
              "      <td>2</td>\n",
              "      <td>2</td>\n",
              "      <td>2</td>\n",
              "      <td>2</td>\n",
              "      <td>2</td>\n",
              "      <td>2</td>\n",
              "    </tr>\n",
              "  </tbody>\n",
              "</table>\n",
              "<p>9825 rows × 15 columns</p>\n",
              "</div>\n",
              "      <button class=\"colab-df-convert\" onclick=\"convertToInteractive('df-bbbdb6bf-2c47-421b-afd9-7feec2a39f4e')\"\n",
              "              title=\"Convert this dataframe to an interactive table.\"\n",
              "              style=\"display:none;\">\n",
              "        \n",
              "  <svg xmlns=\"http://www.w3.org/2000/svg\" height=\"24px\"viewBox=\"0 0 24 24\"\n",
              "       width=\"24px\">\n",
              "    <path d=\"M0 0h24v24H0V0z\" fill=\"none\"/>\n",
              "    <path d=\"M18.56 5.44l.94 2.06.94-2.06 2.06-.94-2.06-.94-.94-2.06-.94 2.06-2.06.94zm-11 1L8.5 8.5l.94-2.06 2.06-.94-2.06-.94L8.5 2.5l-.94 2.06-2.06.94zm10 10l.94 2.06.94-2.06 2.06-.94-2.06-.94-.94-2.06-.94 2.06-2.06.94z\"/><path d=\"M17.41 7.96l-1.37-1.37c-.4-.4-.92-.59-1.43-.59-.52 0-1.04.2-1.43.59L10.3 9.45l-7.72 7.72c-.78.78-.78 2.05 0 2.83L4 21.41c.39.39.9.59 1.41.59.51 0 1.02-.2 1.41-.59l7.78-7.78 2.81-2.81c.8-.78.8-2.07 0-2.86zM5.41 20L4 18.59l7.72-7.72 1.47 1.35L5.41 20z\"/>\n",
              "  </svg>\n",
              "      </button>\n",
              "      \n",
              "  <style>\n",
              "    .colab-df-container {\n",
              "      display:flex;\n",
              "      flex-wrap:wrap;\n",
              "      gap: 12px;\n",
              "    }\n",
              "\n",
              "    .colab-df-convert {\n",
              "      background-color: #E8F0FE;\n",
              "      border: none;\n",
              "      border-radius: 50%;\n",
              "      cursor: pointer;\n",
              "      display: none;\n",
              "      fill: #1967D2;\n",
              "      height: 32px;\n",
              "      padding: 0 0 0 0;\n",
              "      width: 32px;\n",
              "    }\n",
              "\n",
              "    .colab-df-convert:hover {\n",
              "      background-color: #E2EBFA;\n",
              "      box-shadow: 0px 1px 2px rgba(60, 64, 67, 0.3), 0px 1px 3px 1px rgba(60, 64, 67, 0.15);\n",
              "      fill: #174EA6;\n",
              "    }\n",
              "\n",
              "    [theme=dark] .colab-df-convert {\n",
              "      background-color: #3B4455;\n",
              "      fill: #D2E3FC;\n",
              "    }\n",
              "\n",
              "    [theme=dark] .colab-df-convert:hover {\n",
              "      background-color: #434B5C;\n",
              "      box-shadow: 0px 1px 3px 1px rgba(0, 0, 0, 0.15);\n",
              "      filter: drop-shadow(0px 1px 2px rgba(0, 0, 0, 0.3));\n",
              "      fill: #FFFFFF;\n",
              "    }\n",
              "  </style>\n",
              "\n",
              "      <script>\n",
              "        const buttonEl =\n",
              "          document.querySelector('#df-bbbdb6bf-2c47-421b-afd9-7feec2a39f4e button.colab-df-convert');\n",
              "        buttonEl.style.display =\n",
              "          google.colab.kernel.accessAllowed ? 'block' : 'none';\n",
              "\n",
              "        async function convertToInteractive(key) {\n",
              "          const element = document.querySelector('#df-bbbdb6bf-2c47-421b-afd9-7feec2a39f4e');\n",
              "          const dataTable =\n",
              "            await google.colab.kernel.invokeFunction('convertToInteractive',\n",
              "                                                     [key], {});\n",
              "          if (!dataTable) return;\n",
              "\n",
              "          const docLinkHtml = 'Like what you see? Visit the ' +\n",
              "            '<a target=\"_blank\" href=https://colab.research.google.com/notebooks/data_table.ipynb>data table notebook</a>'\n",
              "            + ' to learn more about interactive tables.';\n",
              "          element.innerHTML = '';\n",
              "          dataTable['output_type'] = 'display_data';\n",
              "          await google.colab.output.renderOutput(dataTable, element);\n",
              "          const docLink = document.createElement('div');\n",
              "          docLink.innerHTML = docLinkHtml;\n",
              "          element.appendChild(docLink);\n",
              "        }\n",
              "      </script>\n",
              "    </div>\n",
              "  </div>\n",
              "  "
            ]
          },
          "metadata": {},
          "execution_count": 412
        }
      ],
      "source": [
        "all_data.groupby(['GroupNo', 'Cabin_Deck']).count()"
      ]
    },
    {
      "cell_type": "code",
      "execution_count": null,
      "id": "a5883c11",
      "metadata": {
        "colab": {
          "base_uri": "https://localhost:8080/"
        },
        "id": "a5883c11",
        "outputId": "b555357c-9dbd-49f8-fc26-d036dd7b1e66"
      },
      "outputs": [
        {
          "output_type": "execute_result",
          "data": {
            "text/plain": [
              "GroupNo\n",
              "0001    B\n",
              "0002    F\n",
              "0003    A\n",
              "0004    F\n",
              "0005    F\n",
              "       ..\n",
              "9276    A\n",
              "9277    G\n",
              "9278    G\n",
              "9279    G\n",
              "9280    E\n",
              "Name: Cabin_Deck, Length: 9280, dtype: object"
            ]
          },
          "metadata": {},
          "execution_count": 413
        }
      ],
      "source": [
        "all_data.groupby('GroupNo')['Cabin_Deck'].agg(pd.Series.mode)"
      ]
    },
    {
      "cell_type": "code",
      "execution_count": null,
      "id": "8d680bde",
      "metadata": {
        "id": "8d680bde"
      },
      "outputs": [],
      "source": [
        "# filling null Cabin_Deck Values according to the GroupNo\n",
        "all_data['Cabin_Deck'] = all_data['Cabin_Deck'].fillna(\n",
        "    all_data['GroupNo'].map(\n",
        "        all_data.groupby('GroupNo')['Cabin_Deck'].agg(pd.Series.mode)))"
      ]
    },
    {
      "cell_type": "code",
      "execution_count": null,
      "id": "f2fa9acc",
      "metadata": {
        "colab": {
          "base_uri": "https://localhost:8080/"
        },
        "id": "f2fa9acc",
        "outputId": "4945a7e8-f813-4d6c-db65-aa8b05eba758"
      },
      "outputs": [
        {
          "output_type": "execute_result",
          "data": {
            "text/plain": [
              "array(['B', 'F', 'A', 'G', nan, 'E', 'D', 'C', 'T'], dtype=object)"
            ]
          },
          "metadata": {},
          "execution_count": 415
        }
      ],
      "source": [
        "# removing the empty values that were filled\n",
        "all_data['Cabin_Deck'] = all_data['Cabin_Deck'].apply(lambda x: x if len(x) == 1 else np.nan)\n",
        "\n",
        "# checking the unique items\n",
        "all_data['Cabin_Deck'].unique()"
      ]
    },
    {
      "cell_type": "code",
      "execution_count": null,
      "id": "53e2493e",
      "metadata": {
        "colab": {
          "base_uri": "https://localhost:8080/"
        },
        "id": "53e2493e",
        "outputId": "8e6988fa-3567-4558-ec2b-58ef6314c65d"
      },
      "outputs": [
        {
          "output_type": "execute_result",
          "data": {
            "text/plain": [
              "166"
            ]
          },
          "metadata": {},
          "execution_count": 416
        }
      ],
      "source": [
        "all_data['Cabin_Deck'].isna().sum()"
      ]
    },
    {
      "cell_type": "markdown",
      "id": "e7df880b",
      "metadata": {
        "id": "e7df880b"
      },
      "source": [
        "Cabin_Deck null values have reduced from 299 to 166"
      ]
    },
    {
      "cell_type": "code",
      "execution_count": null,
      "id": "4d513048",
      "metadata": {
        "colab": {
          "base_uri": "https://localhost:8080/",
          "height": 519
        },
        "id": "4d513048",
        "outputId": "3b8a662f-8850-40c8-adb8-2fc6efccecfe"
      },
      "outputs": [
        {
          "output_type": "execute_result",
          "data": {
            "text/plain": [
              "                    PassengerId  HomePlanet  CryoSleep  Cabin  Destination  \\\n",
              "GroupNo Cabin_Side                                                           \n",
              "0001    P                     1           1          1      1            1   \n",
              "0002    S                     1           1          1      1            1   \n",
              "0003    S                     2           2          2      2            2   \n",
              "0004    S                     1           1          1      1            1   \n",
              "0005    P                     1           1          1      1            1   \n",
              "...                         ...         ...        ...    ...          ...   \n",
              "9276    P                     1           1          1      1            1   \n",
              "9277    S                     1           1          1      1            1   \n",
              "9278    S                     1           1          1      1            1   \n",
              "9279    S                     1           1          1      1            1   \n",
              "9280    S                     2           2          2      2            2   \n",
              "\n",
              "                    Age  VIP  RoomService  FoodCourt  ShoppingMall  Spa  \\\n",
              "GroupNo Cabin_Side                                                        \n",
              "0001    P             1    1            1          1             1    1   \n",
              "0002    S             1    1            1          1             1    1   \n",
              "0003    S             2    2            2          2             2    2   \n",
              "0004    S             1    1            1          1             1    1   \n",
              "0005    P             1    1            1          1             1    1   \n",
              "...                 ...  ...          ...        ...           ...  ...   \n",
              "9276    P             1    1            1          1             1    1   \n",
              "9277    S             1    1            1          1             1    1   \n",
              "9278    S             1    1            1          1             1    1   \n",
              "9279    S             1    1            1          1             1    1   \n",
              "9280    S             2    2            2          2             2    2   \n",
              "\n",
              "                    VRDeck  Name  Transported  Cabin_Deck  \n",
              "GroupNo Cabin_Side                                         \n",
              "0001    P                1     1            1           1  \n",
              "0002    S                1     1            1           1  \n",
              "0003    S                2     2            2           2  \n",
              "0004    S                1     1            1           1  \n",
              "0005    P                1     1            1           1  \n",
              "...                    ...   ...          ...         ...  \n",
              "9276    P                1     1            1           1  \n",
              "9277    S                1     1            0           1  \n",
              "9278    S                1     1            1           1  \n",
              "9279    S                1     1            1           1  \n",
              "9280    S                2     2            2           2  \n",
              "\n",
              "[9119 rows x 15 columns]"
            ],
            "text/html": [
              "\n",
              "  <div id=\"df-c2e67769-2764-4099-a192-6512beabc439\">\n",
              "    <div class=\"colab-df-container\">\n",
              "      <div>\n",
              "<style scoped>\n",
              "    .dataframe tbody tr th:only-of-type {\n",
              "        vertical-align: middle;\n",
              "    }\n",
              "\n",
              "    .dataframe tbody tr th {\n",
              "        vertical-align: top;\n",
              "    }\n",
              "\n",
              "    .dataframe thead th {\n",
              "        text-align: right;\n",
              "    }\n",
              "</style>\n",
              "<table border=\"1\" class=\"dataframe\">\n",
              "  <thead>\n",
              "    <tr style=\"text-align: right;\">\n",
              "      <th></th>\n",
              "      <th></th>\n",
              "      <th>PassengerId</th>\n",
              "      <th>HomePlanet</th>\n",
              "      <th>CryoSleep</th>\n",
              "      <th>Cabin</th>\n",
              "      <th>Destination</th>\n",
              "      <th>Age</th>\n",
              "      <th>VIP</th>\n",
              "      <th>RoomService</th>\n",
              "      <th>FoodCourt</th>\n",
              "      <th>ShoppingMall</th>\n",
              "      <th>Spa</th>\n",
              "      <th>VRDeck</th>\n",
              "      <th>Name</th>\n",
              "      <th>Transported</th>\n",
              "      <th>Cabin_Deck</th>\n",
              "    </tr>\n",
              "    <tr>\n",
              "      <th>GroupNo</th>\n",
              "      <th>Cabin_Side</th>\n",
              "      <th></th>\n",
              "      <th></th>\n",
              "      <th></th>\n",
              "      <th></th>\n",
              "      <th></th>\n",
              "      <th></th>\n",
              "      <th></th>\n",
              "      <th></th>\n",
              "      <th></th>\n",
              "      <th></th>\n",
              "      <th></th>\n",
              "      <th></th>\n",
              "      <th></th>\n",
              "      <th></th>\n",
              "      <th></th>\n",
              "    </tr>\n",
              "  </thead>\n",
              "  <tbody>\n",
              "    <tr>\n",
              "      <th>0001</th>\n",
              "      <th>P</th>\n",
              "      <td>1</td>\n",
              "      <td>1</td>\n",
              "      <td>1</td>\n",
              "      <td>1</td>\n",
              "      <td>1</td>\n",
              "      <td>1</td>\n",
              "      <td>1</td>\n",
              "      <td>1</td>\n",
              "      <td>1</td>\n",
              "      <td>1</td>\n",
              "      <td>1</td>\n",
              "      <td>1</td>\n",
              "      <td>1</td>\n",
              "      <td>1</td>\n",
              "      <td>1</td>\n",
              "    </tr>\n",
              "    <tr>\n",
              "      <th>0002</th>\n",
              "      <th>S</th>\n",
              "      <td>1</td>\n",
              "      <td>1</td>\n",
              "      <td>1</td>\n",
              "      <td>1</td>\n",
              "      <td>1</td>\n",
              "      <td>1</td>\n",
              "      <td>1</td>\n",
              "      <td>1</td>\n",
              "      <td>1</td>\n",
              "      <td>1</td>\n",
              "      <td>1</td>\n",
              "      <td>1</td>\n",
              "      <td>1</td>\n",
              "      <td>1</td>\n",
              "      <td>1</td>\n",
              "    </tr>\n",
              "    <tr>\n",
              "      <th>0003</th>\n",
              "      <th>S</th>\n",
              "      <td>2</td>\n",
              "      <td>2</td>\n",
              "      <td>2</td>\n",
              "      <td>2</td>\n",
              "      <td>2</td>\n",
              "      <td>2</td>\n",
              "      <td>2</td>\n",
              "      <td>2</td>\n",
              "      <td>2</td>\n",
              "      <td>2</td>\n",
              "      <td>2</td>\n",
              "      <td>2</td>\n",
              "      <td>2</td>\n",
              "      <td>2</td>\n",
              "      <td>2</td>\n",
              "    </tr>\n",
              "    <tr>\n",
              "      <th>0004</th>\n",
              "      <th>S</th>\n",
              "      <td>1</td>\n",
              "      <td>1</td>\n",
              "      <td>1</td>\n",
              "      <td>1</td>\n",
              "      <td>1</td>\n",
              "      <td>1</td>\n",
              "      <td>1</td>\n",
              "      <td>1</td>\n",
              "      <td>1</td>\n",
              "      <td>1</td>\n",
              "      <td>1</td>\n",
              "      <td>1</td>\n",
              "      <td>1</td>\n",
              "      <td>1</td>\n",
              "      <td>1</td>\n",
              "    </tr>\n",
              "    <tr>\n",
              "      <th>0005</th>\n",
              "      <th>P</th>\n",
              "      <td>1</td>\n",
              "      <td>1</td>\n",
              "      <td>1</td>\n",
              "      <td>1</td>\n",
              "      <td>1</td>\n",
              "      <td>1</td>\n",
              "      <td>1</td>\n",
              "      <td>1</td>\n",
              "      <td>1</td>\n",
              "      <td>1</td>\n",
              "      <td>1</td>\n",
              "      <td>1</td>\n",
              "      <td>1</td>\n",
              "      <td>1</td>\n",
              "      <td>1</td>\n",
              "    </tr>\n",
              "    <tr>\n",
              "      <th>...</th>\n",
              "      <th>...</th>\n",
              "      <td>...</td>\n",
              "      <td>...</td>\n",
              "      <td>...</td>\n",
              "      <td>...</td>\n",
              "      <td>...</td>\n",
              "      <td>...</td>\n",
              "      <td>...</td>\n",
              "      <td>...</td>\n",
              "      <td>...</td>\n",
              "      <td>...</td>\n",
              "      <td>...</td>\n",
              "      <td>...</td>\n",
              "      <td>...</td>\n",
              "      <td>...</td>\n",
              "      <td>...</td>\n",
              "    </tr>\n",
              "    <tr>\n",
              "      <th>9276</th>\n",
              "      <th>P</th>\n",
              "      <td>1</td>\n",
              "      <td>1</td>\n",
              "      <td>1</td>\n",
              "      <td>1</td>\n",
              "      <td>1</td>\n",
              "      <td>1</td>\n",
              "      <td>1</td>\n",
              "      <td>1</td>\n",
              "      <td>1</td>\n",
              "      <td>1</td>\n",
              "      <td>1</td>\n",
              "      <td>1</td>\n",
              "      <td>1</td>\n",
              "      <td>1</td>\n",
              "      <td>1</td>\n",
              "    </tr>\n",
              "    <tr>\n",
              "      <th>9277</th>\n",
              "      <th>S</th>\n",
              "      <td>1</td>\n",
              "      <td>1</td>\n",
              "      <td>1</td>\n",
              "      <td>1</td>\n",
              "      <td>1</td>\n",
              "      <td>1</td>\n",
              "      <td>1</td>\n",
              "      <td>1</td>\n",
              "      <td>1</td>\n",
              "      <td>1</td>\n",
              "      <td>1</td>\n",
              "      <td>1</td>\n",
              "      <td>1</td>\n",
              "      <td>0</td>\n",
              "      <td>1</td>\n",
              "    </tr>\n",
              "    <tr>\n",
              "      <th>9278</th>\n",
              "      <th>S</th>\n",
              "      <td>1</td>\n",
              "      <td>1</td>\n",
              "      <td>1</td>\n",
              "      <td>1</td>\n",
              "      <td>1</td>\n",
              "      <td>1</td>\n",
              "      <td>1</td>\n",
              "      <td>1</td>\n",
              "      <td>1</td>\n",
              "      <td>1</td>\n",
              "      <td>1</td>\n",
              "      <td>1</td>\n",
              "      <td>1</td>\n",
              "      <td>1</td>\n",
              "      <td>1</td>\n",
              "    </tr>\n",
              "    <tr>\n",
              "      <th>9279</th>\n",
              "      <th>S</th>\n",
              "      <td>1</td>\n",
              "      <td>1</td>\n",
              "      <td>1</td>\n",
              "      <td>1</td>\n",
              "      <td>1</td>\n",
              "      <td>1</td>\n",
              "      <td>1</td>\n",
              "      <td>1</td>\n",
              "      <td>1</td>\n",
              "      <td>1</td>\n",
              "      <td>1</td>\n",
              "      <td>1</td>\n",
              "      <td>1</td>\n",
              "      <td>1</td>\n",
              "      <td>1</td>\n",
              "    </tr>\n",
              "    <tr>\n",
              "      <th>9280</th>\n",
              "      <th>S</th>\n",
              "      <td>2</td>\n",
              "      <td>2</td>\n",
              "      <td>2</td>\n",
              "      <td>2</td>\n",
              "      <td>2</td>\n",
              "      <td>2</td>\n",
              "      <td>2</td>\n",
              "      <td>2</td>\n",
              "      <td>2</td>\n",
              "      <td>2</td>\n",
              "      <td>2</td>\n",
              "      <td>2</td>\n",
              "      <td>2</td>\n",
              "      <td>2</td>\n",
              "      <td>2</td>\n",
              "    </tr>\n",
              "  </tbody>\n",
              "</table>\n",
              "<p>9119 rows × 15 columns</p>\n",
              "</div>\n",
              "      <button class=\"colab-df-convert\" onclick=\"convertToInteractive('df-c2e67769-2764-4099-a192-6512beabc439')\"\n",
              "              title=\"Convert this dataframe to an interactive table.\"\n",
              "              style=\"display:none;\">\n",
              "        \n",
              "  <svg xmlns=\"http://www.w3.org/2000/svg\" height=\"24px\"viewBox=\"0 0 24 24\"\n",
              "       width=\"24px\">\n",
              "    <path d=\"M0 0h24v24H0V0z\" fill=\"none\"/>\n",
              "    <path d=\"M18.56 5.44l.94 2.06.94-2.06 2.06-.94-2.06-.94-.94-2.06-.94 2.06-2.06.94zm-11 1L8.5 8.5l.94-2.06 2.06-.94-2.06-.94L8.5 2.5l-.94 2.06-2.06.94zm10 10l.94 2.06.94-2.06 2.06-.94-2.06-.94-.94-2.06-.94 2.06-2.06.94z\"/><path d=\"M17.41 7.96l-1.37-1.37c-.4-.4-.92-.59-1.43-.59-.52 0-1.04.2-1.43.59L10.3 9.45l-7.72 7.72c-.78.78-.78 2.05 0 2.83L4 21.41c.39.39.9.59 1.41.59.51 0 1.02-.2 1.41-.59l7.78-7.78 2.81-2.81c.8-.78.8-2.07 0-2.86zM5.41 20L4 18.59l7.72-7.72 1.47 1.35L5.41 20z\"/>\n",
              "  </svg>\n",
              "      </button>\n",
              "      \n",
              "  <style>\n",
              "    .colab-df-container {\n",
              "      display:flex;\n",
              "      flex-wrap:wrap;\n",
              "      gap: 12px;\n",
              "    }\n",
              "\n",
              "    .colab-df-convert {\n",
              "      background-color: #E8F0FE;\n",
              "      border: none;\n",
              "      border-radius: 50%;\n",
              "      cursor: pointer;\n",
              "      display: none;\n",
              "      fill: #1967D2;\n",
              "      height: 32px;\n",
              "      padding: 0 0 0 0;\n",
              "      width: 32px;\n",
              "    }\n",
              "\n",
              "    .colab-df-convert:hover {\n",
              "      background-color: #E2EBFA;\n",
              "      box-shadow: 0px 1px 2px rgba(60, 64, 67, 0.3), 0px 1px 3px 1px rgba(60, 64, 67, 0.15);\n",
              "      fill: #174EA6;\n",
              "    }\n",
              "\n",
              "    [theme=dark] .colab-df-convert {\n",
              "      background-color: #3B4455;\n",
              "      fill: #D2E3FC;\n",
              "    }\n",
              "\n",
              "    [theme=dark] .colab-df-convert:hover {\n",
              "      background-color: #434B5C;\n",
              "      box-shadow: 0px 1px 3px 1px rgba(0, 0, 0, 0.15);\n",
              "      filter: drop-shadow(0px 1px 2px rgba(0, 0, 0, 0.3));\n",
              "      fill: #FFFFFF;\n",
              "    }\n",
              "  </style>\n",
              "\n",
              "      <script>\n",
              "        const buttonEl =\n",
              "          document.querySelector('#df-c2e67769-2764-4099-a192-6512beabc439 button.colab-df-convert');\n",
              "        buttonEl.style.display =\n",
              "          google.colab.kernel.accessAllowed ? 'block' : 'none';\n",
              "\n",
              "        async function convertToInteractive(key) {\n",
              "          const element = document.querySelector('#df-c2e67769-2764-4099-a192-6512beabc439');\n",
              "          const dataTable =\n",
              "            await google.colab.kernel.invokeFunction('convertToInteractive',\n",
              "                                                     [key], {});\n",
              "          if (!dataTable) return;\n",
              "\n",
              "          const docLinkHtml = 'Like what you see? Visit the ' +\n",
              "            '<a target=\"_blank\" href=https://colab.research.google.com/notebooks/data_table.ipynb>data table notebook</a>'\n",
              "            + ' to learn more about interactive tables.';\n",
              "          element.innerHTML = '';\n",
              "          dataTable['output_type'] = 'display_data';\n",
              "          await google.colab.output.renderOutput(dataTable, element);\n",
              "          const docLink = document.createElement('div');\n",
              "          docLink.innerHTML = docLinkHtml;\n",
              "          element.appendChild(docLink);\n",
              "        }\n",
              "      </script>\n",
              "    </div>\n",
              "  </div>\n",
              "  "
            ]
          },
          "metadata": {},
          "execution_count": 417
        }
      ],
      "source": [
        "all_data.groupby(['GroupNo', 'Cabin_Side']).count()"
      ]
    },
    {
      "cell_type": "code",
      "execution_count": null,
      "id": "15b2c6ae",
      "metadata": {
        "colab": {
          "base_uri": "https://localhost:8080/"
        },
        "id": "15b2c6ae",
        "outputId": "6fbe116b-7e33-4e6d-906d-8bb912a0a77a"
      },
      "outputs": [
        {
          "output_type": "execute_result",
          "data": {
            "text/plain": [
              "GroupNo\n",
              "0001    P\n",
              "0002    S\n",
              "0003    S\n",
              "0004    S\n",
              "0005    P\n",
              "       ..\n",
              "9276    P\n",
              "9277    S\n",
              "9278    S\n",
              "9279    S\n",
              "9280    S\n",
              "Name: Cabin_Side, Length: 9280, dtype: object"
            ]
          },
          "metadata": {},
          "execution_count": 418
        }
      ],
      "source": [
        "all_data.groupby('GroupNo')['Cabin_Side'].agg(pd.Series.mode)"
      ]
    },
    {
      "cell_type": "code",
      "execution_count": null,
      "id": "b8e16a92",
      "metadata": {
        "id": "b8e16a92"
      },
      "outputs": [],
      "source": [
        "# filling null Cabin_Side values according to the GroupNo\n",
        "all_data['Cabin_Side'] = all_data['Cabin_Side'].fillna(all_data['GroupNo'].map(\n",
        "    all_data.groupby('GroupNo')['Cabin_Side'].agg(pd.Series.mode)))"
      ]
    },
    {
      "cell_type": "code",
      "execution_count": null,
      "id": "fc0a3b60",
      "metadata": {
        "colab": {
          "base_uri": "https://localhost:8080/"
        },
        "id": "fc0a3b60",
        "outputId": "0640ea62-4f54-4da8-cce0-3440a448905e"
      },
      "outputs": [
        {
          "output_type": "execute_result",
          "data": {
            "text/plain": [
              "array(['P', 'S', nan], dtype=object)"
            ]
          },
          "metadata": {},
          "execution_count": 420
        }
      ],
      "source": [
        "# removing the empty values that were filled\n",
        "all_data['Cabin_Side'] = all_data['Cabin_Side'].apply(lambda x: x if len(x) == 1 else np.nan)\n",
        "\n",
        "# checking the unique items\n",
        "all_data['Cabin_Side'].unique()"
      ]
    },
    {
      "cell_type": "code",
      "execution_count": null,
      "id": "3ffff47e",
      "metadata": {
        "colab": {
          "base_uri": "https://localhost:8080/"
        },
        "id": "3ffff47e",
        "outputId": "0a9f4cf4-42ce-4ead-db87-fa9c71d0b91e"
      },
      "outputs": [
        {
          "output_type": "execute_result",
          "data": {
            "text/plain": [
              "162"
            ]
          },
          "metadata": {},
          "execution_count": 421
        }
      ],
      "source": [
        "all_data['Cabin_Side'].isna().sum()"
      ]
    },
    {
      "cell_type": "markdown",
      "id": "4a34a27a",
      "metadata": {
        "id": "4a34a27a"
      },
      "source": [
        "Null Cabin_Side values have reduced from 299 to 162"
      ]
    },
    {
      "cell_type": "markdown",
      "id": "ffc8d2a5",
      "metadata": {
        "id": "ffc8d2a5"
      },
      "source": [
        "**Starting with HomePlanet**"
      ]
    },
    {
      "cell_type": "markdown",
      "id": "e71c51c9",
      "metadata": {
        "id": "e71c51c9"
      },
      "source": [
        "From the EDA it was noted that:\n",
        "- Cabin_Deck G only contained people from Earth\n",
        "- Cabin_Deck A,B C and T were people from Europa\n",
        "- Deck D had no people from Earth\n",
        "- Deck F had no people from Europa"
      ]
    },
    {
      "cell_type": "code",
      "execution_count": null,
      "id": "6136b551",
      "metadata": {
        "colab": {
          "base_uri": "https://localhost:8080/"
        },
        "id": "6136b551",
        "outputId": "be6f0718-2002-4903-de22-243ab42a5e4b"
      },
      "outputs": [
        {
          "output_type": "execute_result",
          "data": {
            "text/plain": [
              "Cabin_Deck\n",
              "A    Europa\n",
              "B    Europa\n",
              "C    Europa\n",
              "D      Mars\n",
              "E     Earth\n",
              "F     Earth\n",
              "G     Earth\n",
              "T    Europa\n",
              "Name: HomePlanet, dtype: object"
            ]
          },
          "metadata": {},
          "execution_count": 422
        }
      ],
      "source": [
        "all_data.groupby('Cabin_Deck')['HomePlanet'].agg(pd.Series.mode)"
      ]
    },
    {
      "cell_type": "code",
      "execution_count": null,
      "id": "53e3ca13",
      "metadata": {
        "colab": {
          "base_uri": "https://localhost:8080/"
        },
        "id": "53e3ca13",
        "outputId": "b4ee48c4-6ff5-4ac3-9088-d2242bcf4991"
      },
      "outputs": [
        {
          "output_type": "execute_result",
          "data": {
            "text/plain": [
              "array(['Europa', 'Earth', 'Mars', nan], dtype=object)"
            ]
          },
          "metadata": {},
          "execution_count": 423
        }
      ],
      "source": [
        "# filling null HomePlanet values according to the mode of the Cabin_Deck\n",
        "all_data['HomePlanet'] = all_data['HomePlanet'].fillna(all_data['Cabin_Deck'].map(\n",
        "    all_data.groupby('Cabin_Deck')['HomePlanet'].agg(pd.Series.mode)))\n",
        "\n",
        "# checking the unique values of HomePlanet\n",
        "all_data['HomePlanet'].unique()"
      ]
    },
    {
      "cell_type": "code",
      "execution_count": null,
      "id": "126d59d1",
      "metadata": {
        "colab": {
          "base_uri": "https://localhost:8080/"
        },
        "id": "126d59d1",
        "outputId": "01a6c4c2-159c-4ea9-98ff-eef15234e9be"
      },
      "outputs": [
        {
          "output_type": "execute_result",
          "data": {
            "text/plain": [
              "5"
            ]
          },
          "metadata": {},
          "execution_count": 424
        }
      ],
      "source": [
        "all_data['HomePlanet'].isna().sum()"
      ]
    },
    {
      "cell_type": "markdown",
      "id": "b27cc7ad",
      "metadata": {
        "id": "b27cc7ad"
      },
      "source": [
        "Null HomePlanet values have reduced from 288 to 5"
      ]
    },
    {
      "cell_type": "code",
      "execution_count": null,
      "id": "f4d85d87",
      "metadata": {
        "colab": {
          "base_uri": "https://localhost:8080/"
        },
        "id": "f4d85d87",
        "outputId": "6218e838-91df-4fca-88d6-dc5fccabf82f"
      },
      "outputs": [
        {
          "output_type": "execute_result",
          "data": {
            "text/plain": [
              "0"
            ]
          },
          "metadata": {},
          "execution_count": 425
        }
      ],
      "source": [
        "# filling the rest null values with the mode\n",
        "all_data['HomePlanet'] = all_data['HomePlanet'].fillna('Earth')\n",
        "\n",
        "# checking the null values\n",
        "all_data['HomePlanet'].isna().sum()"
      ]
    },
    {
      "cell_type": "markdown",
      "id": "a813ece0",
      "metadata": {
        "id": "a813ece0"
      },
      "source": [
        "**Filling the CryoSleep null values**"
      ]
    },
    {
      "cell_type": "markdown",
      "id": "78de6b77",
      "metadata": {
        "id": "78de6b77"
      },
      "source": [
        "If a person didnt spend anything, we'll assume he is on CryoSleep"
      ]
    },
    {
      "cell_type": "code",
      "execution_count": null,
      "id": "fbf2b63f",
      "metadata": {
        "id": "fbf2b63f"
      },
      "outputs": [],
      "source": [
        "def fill_cryo(col):\n",
        "    cryo = col[0]\n",
        "    amenities = col[1:]\n",
        "    \n",
        "    if pd.isnull(cryo):\n",
        "        \n",
        "        if set(amenities) == {0}:\n",
        "            return True\n",
        "    else:\n",
        "        return cryo\n",
        "    "
      ]
    },
    {
      "cell_type": "code",
      "execution_count": null,
      "id": "8057917f",
      "metadata": {
        "colab": {
          "base_uri": "https://localhost:8080/"
        },
        "id": "8057917f",
        "outputId": "05a9f6e4-3982-45b4-c52f-d5c81f5e52a2"
      },
      "outputs": [
        {
          "output_type": "execute_result",
          "data": {
            "text/plain": [
              "PassengerId        0\n",
              "HomePlanet         0\n",
              "CryoSleep        187\n",
              "Cabin            299\n",
              "Destination      274\n",
              "Age              270\n",
              "VIP              296\n",
              "RoomService      263\n",
              "FoodCourt        289\n",
              "ShoppingMall     306\n",
              "Spa              284\n",
              "VRDeck           268\n",
              "Name             294\n",
              "Transported     4277\n",
              "GroupNo            0\n",
              "Cabin_Deck       166\n",
              "Cabin_Side       162\n",
              "dtype: int64"
            ]
          },
          "metadata": {},
          "execution_count": 427
        }
      ],
      "source": [
        "all_data['CryoSleep'] = all_data[['CryoSleep', 'RoomService', 'FoodCourt', 'ShoppingMall', 'Spa', 'VRDeck']].apply(\n",
        "    fill_cryo, axis=1)\n",
        "\n",
        "# checking the null values\n",
        "all_data.isna().sum()"
      ]
    },
    {
      "cell_type": "markdown",
      "id": "7fd74be9",
      "metadata": {
        "id": "7fd74be9"
      },
      "source": [
        "Null CryoSleep values have reduced from 310 to 187"
      ]
    },
    {
      "cell_type": "code",
      "execution_count": null,
      "id": "3b6fd7b8",
      "metadata": {
        "colab": {
          "base_uri": "https://localhost:8080/"
        },
        "id": "3b6fd7b8",
        "outputId": "5fc274fd-4d8d-44af-df89-59531ae46fb2"
      },
      "outputs": [
        {
          "output_type": "execute_result",
          "data": {
            "text/plain": [
              "0"
            ]
          },
          "metadata": {},
          "execution_count": 428
        }
      ],
      "source": [
        "# Filling the remaining null values with the mode\n",
        "all_data['CryoSleep'] = all_data['CryoSleep'].fillna(False)\n",
        "\n",
        "# checking the null values\n",
        "all_data['CryoSleep'].isna().sum()"
      ]
    },
    {
      "cell_type": "markdown",
      "id": "fcc504d0",
      "metadata": {
        "id": "fcc504d0"
      },
      "source": [
        "**Filling VIP null values with False**"
      ]
    },
    {
      "cell_type": "code",
      "execution_count": null,
      "id": "c0512e9e",
      "metadata": {
        "colab": {
          "base_uri": "https://localhost:8080/"
        },
        "id": "c0512e9e",
        "outputId": "28f2c0a1-0c19-4b66-8c27-1101cc2b007f"
      },
      "outputs": [
        {
          "output_type": "execute_result",
          "data": {
            "text/plain": [
              "0"
            ]
          },
          "metadata": {},
          "execution_count": 429
        }
      ],
      "source": [
        "all_data['VIP'] = all_data['VIP'].fillna(False)\n",
        "\n",
        "all_data['VIP'].isna().sum()"
      ]
    },
    {
      "cell_type": "markdown",
      "id": "099717c3",
      "metadata": {
        "id": "099717c3"
      },
      "source": [
        "**Filling Null Cabin_Deck and Cabin_Side Columns**"
      ]
    },
    {
      "cell_type": "code",
      "execution_count": null,
      "id": "71c0d767",
      "metadata": {
        "colab": {
          "base_uri": "https://localhost:8080/"
        },
        "id": "71c0d767",
        "outputId": "507aa25c-393c-47f9-c017-c1523a80101d"
      },
      "outputs": [
        {
          "output_type": "execute_result",
          "data": {
            "text/plain": [
              "HomePlanet\n",
              "Earth     G\n",
              "Europa    B\n",
              "Mars      F\n",
              "Name: Cabin_Deck, dtype: object"
            ]
          },
          "metadata": {},
          "execution_count": 430
        }
      ],
      "source": [
        "all_data.groupby('HomePlanet')['Cabin_Deck'].agg(pd.Series.mode)"
      ]
    },
    {
      "cell_type": "code",
      "execution_count": null,
      "id": "1cfafcd7",
      "metadata": {
        "colab": {
          "base_uri": "https://localhost:8080/",
          "height": 521
        },
        "id": "1cfafcd7",
        "outputId": "7ebd10db-ae9d-4b94-959d-1b07da769235"
      },
      "outputs": [
        {
          "output_type": "execute_result",
          "data": {
            "text/plain": [
              "                       PassengerId  CryoSleep  Cabin  Destination   Age   VIP  \\\n",
              "HomePlanet Cabin_Deck                                                           \n",
              "Earth      E                   621        621    618          601   613   621   \n",
              "           F                  2539       2539   2526         2486  2503  2539   \n",
              "           G                  3821       3821   3781         3745  3737  3821   \n",
              "Europa     A                   361        361    354          356   351   361   \n",
              "           B                  1161       1161   1141         1138  1137  1161   \n",
              "           C                  1122       1122   1102         1101  1098  1122   \n",
              "           D                   299        299    296          297   292   299   \n",
              "           E                   198        198    197          192   195   198   \n",
              "           T                    11         11     11           11    11    11   \n",
              "Mars       D                   431        431    424          418   423   431   \n",
              "           E                   514        514    508          505   498   514   \n",
              "           F                  1726       1726   1713         1682  1681  1726   \n",
              "\n",
              "                       RoomService  FoodCourt  ShoppingMall   Spa  VRDeck  \\\n",
              "HomePlanet Cabin_Deck                                                       \n",
              "Earth      E                   602        613           606   605     609   \n",
              "           F                  2484       2477          2489  2484    2485   \n",
              "           G                  3736       3732          3716  3737    3731   \n",
              "Europa     A                   354        359           351   358     354   \n",
              "           B                  1140       1139          1132  1137    1142   \n",
              "           C                  1104       1091          1093  1093    1103   \n",
              "           D                   294        293           293   288     290   \n",
              "           E                   196        194           192   194     197   \n",
              "           T                    11         11            10    11      11   \n",
              "Mars       D                   422        420           424   421     423   \n",
              "           E                   504        499           506   505     505   \n",
              "           F                  1696       1692          1689  1688    1687   \n",
              "\n",
              "                       Name  Transported  GroupNo  Cabin_Side  \n",
              "HomePlanet Cabin_Deck                                          \n",
              "Earth      E            607          420      621         621  \n",
              "           F           2482         1691     2539        2539  \n",
              "           G           3725         2588     3821        3821  \n",
              "Europa     A            353          262      361         361  \n",
              "           B           1137          796     1161        1161  \n",
              "           C           1104          761     1122        1122  \n",
              "           D            290          189      299         299  \n",
              "           E            193          129      198         198  \n",
              "           T             10            5       11          11  \n",
              "Mars       D            423          298      431         431  \n",
              "           E            507          335      514         514  \n",
              "           F           1680         1117     1726        1726  "
            ],
            "text/html": [
              "\n",
              "  <div id=\"df-5ceb584d-f721-45d8-a231-bcd75caa7137\">\n",
              "    <div class=\"colab-df-container\">\n",
              "      <div>\n",
              "<style scoped>\n",
              "    .dataframe tbody tr th:only-of-type {\n",
              "        vertical-align: middle;\n",
              "    }\n",
              "\n",
              "    .dataframe tbody tr th {\n",
              "        vertical-align: top;\n",
              "    }\n",
              "\n",
              "    .dataframe thead th {\n",
              "        text-align: right;\n",
              "    }\n",
              "</style>\n",
              "<table border=\"1\" class=\"dataframe\">\n",
              "  <thead>\n",
              "    <tr style=\"text-align: right;\">\n",
              "      <th></th>\n",
              "      <th></th>\n",
              "      <th>PassengerId</th>\n",
              "      <th>CryoSleep</th>\n",
              "      <th>Cabin</th>\n",
              "      <th>Destination</th>\n",
              "      <th>Age</th>\n",
              "      <th>VIP</th>\n",
              "      <th>RoomService</th>\n",
              "      <th>FoodCourt</th>\n",
              "      <th>ShoppingMall</th>\n",
              "      <th>Spa</th>\n",
              "      <th>VRDeck</th>\n",
              "      <th>Name</th>\n",
              "      <th>Transported</th>\n",
              "      <th>GroupNo</th>\n",
              "      <th>Cabin_Side</th>\n",
              "    </tr>\n",
              "    <tr>\n",
              "      <th>HomePlanet</th>\n",
              "      <th>Cabin_Deck</th>\n",
              "      <th></th>\n",
              "      <th></th>\n",
              "      <th></th>\n",
              "      <th></th>\n",
              "      <th></th>\n",
              "      <th></th>\n",
              "      <th></th>\n",
              "      <th></th>\n",
              "      <th></th>\n",
              "      <th></th>\n",
              "      <th></th>\n",
              "      <th></th>\n",
              "      <th></th>\n",
              "      <th></th>\n",
              "      <th></th>\n",
              "    </tr>\n",
              "  </thead>\n",
              "  <tbody>\n",
              "    <tr>\n",
              "      <th rowspan=\"3\" valign=\"top\">Earth</th>\n",
              "      <th>E</th>\n",
              "      <td>621</td>\n",
              "      <td>621</td>\n",
              "      <td>618</td>\n",
              "      <td>601</td>\n",
              "      <td>613</td>\n",
              "      <td>621</td>\n",
              "      <td>602</td>\n",
              "      <td>613</td>\n",
              "      <td>606</td>\n",
              "      <td>605</td>\n",
              "      <td>609</td>\n",
              "      <td>607</td>\n",
              "      <td>420</td>\n",
              "      <td>621</td>\n",
              "      <td>621</td>\n",
              "    </tr>\n",
              "    <tr>\n",
              "      <th>F</th>\n",
              "      <td>2539</td>\n",
              "      <td>2539</td>\n",
              "      <td>2526</td>\n",
              "      <td>2486</td>\n",
              "      <td>2503</td>\n",
              "      <td>2539</td>\n",
              "      <td>2484</td>\n",
              "      <td>2477</td>\n",
              "      <td>2489</td>\n",
              "      <td>2484</td>\n",
              "      <td>2485</td>\n",
              "      <td>2482</td>\n",
              "      <td>1691</td>\n",
              "      <td>2539</td>\n",
              "      <td>2539</td>\n",
              "    </tr>\n",
              "    <tr>\n",
              "      <th>G</th>\n",
              "      <td>3821</td>\n",
              "      <td>3821</td>\n",
              "      <td>3781</td>\n",
              "      <td>3745</td>\n",
              "      <td>3737</td>\n",
              "      <td>3821</td>\n",
              "      <td>3736</td>\n",
              "      <td>3732</td>\n",
              "      <td>3716</td>\n",
              "      <td>3737</td>\n",
              "      <td>3731</td>\n",
              "      <td>3725</td>\n",
              "      <td>2588</td>\n",
              "      <td>3821</td>\n",
              "      <td>3821</td>\n",
              "    </tr>\n",
              "    <tr>\n",
              "      <th rowspan=\"6\" valign=\"top\">Europa</th>\n",
              "      <th>A</th>\n",
              "      <td>361</td>\n",
              "      <td>361</td>\n",
              "      <td>354</td>\n",
              "      <td>356</td>\n",
              "      <td>351</td>\n",
              "      <td>361</td>\n",
              "      <td>354</td>\n",
              "      <td>359</td>\n",
              "      <td>351</td>\n",
              "      <td>358</td>\n",
              "      <td>354</td>\n",
              "      <td>353</td>\n",
              "      <td>262</td>\n",
              "      <td>361</td>\n",
              "      <td>361</td>\n",
              "    </tr>\n",
              "    <tr>\n",
              "      <th>B</th>\n",
              "      <td>1161</td>\n",
              "      <td>1161</td>\n",
              "      <td>1141</td>\n",
              "      <td>1138</td>\n",
              "      <td>1137</td>\n",
              "      <td>1161</td>\n",
              "      <td>1140</td>\n",
              "      <td>1139</td>\n",
              "      <td>1132</td>\n",
              "      <td>1137</td>\n",
              "      <td>1142</td>\n",
              "      <td>1137</td>\n",
              "      <td>796</td>\n",
              "      <td>1161</td>\n",
              "      <td>1161</td>\n",
              "    </tr>\n",
              "    <tr>\n",
              "      <th>C</th>\n",
              "      <td>1122</td>\n",
              "      <td>1122</td>\n",
              "      <td>1102</td>\n",
              "      <td>1101</td>\n",
              "      <td>1098</td>\n",
              "      <td>1122</td>\n",
              "      <td>1104</td>\n",
              "      <td>1091</td>\n",
              "      <td>1093</td>\n",
              "      <td>1093</td>\n",
              "      <td>1103</td>\n",
              "      <td>1104</td>\n",
              "      <td>761</td>\n",
              "      <td>1122</td>\n",
              "      <td>1122</td>\n",
              "    </tr>\n",
              "    <tr>\n",
              "      <th>D</th>\n",
              "      <td>299</td>\n",
              "      <td>299</td>\n",
              "      <td>296</td>\n",
              "      <td>297</td>\n",
              "      <td>292</td>\n",
              "      <td>299</td>\n",
              "      <td>294</td>\n",
              "      <td>293</td>\n",
              "      <td>293</td>\n",
              "      <td>288</td>\n",
              "      <td>290</td>\n",
              "      <td>290</td>\n",
              "      <td>189</td>\n",
              "      <td>299</td>\n",
              "      <td>299</td>\n",
              "    </tr>\n",
              "    <tr>\n",
              "      <th>E</th>\n",
              "      <td>198</td>\n",
              "      <td>198</td>\n",
              "      <td>197</td>\n",
              "      <td>192</td>\n",
              "      <td>195</td>\n",
              "      <td>198</td>\n",
              "      <td>196</td>\n",
              "      <td>194</td>\n",
              "      <td>192</td>\n",
              "      <td>194</td>\n",
              "      <td>197</td>\n",
              "      <td>193</td>\n",
              "      <td>129</td>\n",
              "      <td>198</td>\n",
              "      <td>198</td>\n",
              "    </tr>\n",
              "    <tr>\n",
              "      <th>T</th>\n",
              "      <td>11</td>\n",
              "      <td>11</td>\n",
              "      <td>11</td>\n",
              "      <td>11</td>\n",
              "      <td>11</td>\n",
              "      <td>11</td>\n",
              "      <td>11</td>\n",
              "      <td>11</td>\n",
              "      <td>10</td>\n",
              "      <td>11</td>\n",
              "      <td>11</td>\n",
              "      <td>10</td>\n",
              "      <td>5</td>\n",
              "      <td>11</td>\n",
              "      <td>11</td>\n",
              "    </tr>\n",
              "    <tr>\n",
              "      <th rowspan=\"3\" valign=\"top\">Mars</th>\n",
              "      <th>D</th>\n",
              "      <td>431</td>\n",
              "      <td>431</td>\n",
              "      <td>424</td>\n",
              "      <td>418</td>\n",
              "      <td>423</td>\n",
              "      <td>431</td>\n",
              "      <td>422</td>\n",
              "      <td>420</td>\n",
              "      <td>424</td>\n",
              "      <td>421</td>\n",
              "      <td>423</td>\n",
              "      <td>423</td>\n",
              "      <td>298</td>\n",
              "      <td>431</td>\n",
              "      <td>431</td>\n",
              "    </tr>\n",
              "    <tr>\n",
              "      <th>E</th>\n",
              "      <td>514</td>\n",
              "      <td>514</td>\n",
              "      <td>508</td>\n",
              "      <td>505</td>\n",
              "      <td>498</td>\n",
              "      <td>514</td>\n",
              "      <td>504</td>\n",
              "      <td>499</td>\n",
              "      <td>506</td>\n",
              "      <td>505</td>\n",
              "      <td>505</td>\n",
              "      <td>507</td>\n",
              "      <td>335</td>\n",
              "      <td>514</td>\n",
              "      <td>514</td>\n",
              "    </tr>\n",
              "    <tr>\n",
              "      <th>F</th>\n",
              "      <td>1726</td>\n",
              "      <td>1726</td>\n",
              "      <td>1713</td>\n",
              "      <td>1682</td>\n",
              "      <td>1681</td>\n",
              "      <td>1726</td>\n",
              "      <td>1696</td>\n",
              "      <td>1692</td>\n",
              "      <td>1689</td>\n",
              "      <td>1688</td>\n",
              "      <td>1687</td>\n",
              "      <td>1680</td>\n",
              "      <td>1117</td>\n",
              "      <td>1726</td>\n",
              "      <td>1726</td>\n",
              "    </tr>\n",
              "  </tbody>\n",
              "</table>\n",
              "</div>\n",
              "      <button class=\"colab-df-convert\" onclick=\"convertToInteractive('df-5ceb584d-f721-45d8-a231-bcd75caa7137')\"\n",
              "              title=\"Convert this dataframe to an interactive table.\"\n",
              "              style=\"display:none;\">\n",
              "        \n",
              "  <svg xmlns=\"http://www.w3.org/2000/svg\" height=\"24px\"viewBox=\"0 0 24 24\"\n",
              "       width=\"24px\">\n",
              "    <path d=\"M0 0h24v24H0V0z\" fill=\"none\"/>\n",
              "    <path d=\"M18.56 5.44l.94 2.06.94-2.06 2.06-.94-2.06-.94-.94-2.06-.94 2.06-2.06.94zm-11 1L8.5 8.5l.94-2.06 2.06-.94-2.06-.94L8.5 2.5l-.94 2.06-2.06.94zm10 10l.94 2.06.94-2.06 2.06-.94-2.06-.94-.94-2.06-.94 2.06-2.06.94z\"/><path d=\"M17.41 7.96l-1.37-1.37c-.4-.4-.92-.59-1.43-.59-.52 0-1.04.2-1.43.59L10.3 9.45l-7.72 7.72c-.78.78-.78 2.05 0 2.83L4 21.41c.39.39.9.59 1.41.59.51 0 1.02-.2 1.41-.59l7.78-7.78 2.81-2.81c.8-.78.8-2.07 0-2.86zM5.41 20L4 18.59l7.72-7.72 1.47 1.35L5.41 20z\"/>\n",
              "  </svg>\n",
              "      </button>\n",
              "      \n",
              "  <style>\n",
              "    .colab-df-container {\n",
              "      display:flex;\n",
              "      flex-wrap:wrap;\n",
              "      gap: 12px;\n",
              "    }\n",
              "\n",
              "    .colab-df-convert {\n",
              "      background-color: #E8F0FE;\n",
              "      border: none;\n",
              "      border-radius: 50%;\n",
              "      cursor: pointer;\n",
              "      display: none;\n",
              "      fill: #1967D2;\n",
              "      height: 32px;\n",
              "      padding: 0 0 0 0;\n",
              "      width: 32px;\n",
              "    }\n",
              "\n",
              "    .colab-df-convert:hover {\n",
              "      background-color: #E2EBFA;\n",
              "      box-shadow: 0px 1px 2px rgba(60, 64, 67, 0.3), 0px 1px 3px 1px rgba(60, 64, 67, 0.15);\n",
              "      fill: #174EA6;\n",
              "    }\n",
              "\n",
              "    [theme=dark] .colab-df-convert {\n",
              "      background-color: #3B4455;\n",
              "      fill: #D2E3FC;\n",
              "    }\n",
              "\n",
              "    [theme=dark] .colab-df-convert:hover {\n",
              "      background-color: #434B5C;\n",
              "      box-shadow: 0px 1px 3px 1px rgba(0, 0, 0, 0.15);\n",
              "      filter: drop-shadow(0px 1px 2px rgba(0, 0, 0, 0.3));\n",
              "      fill: #FFFFFF;\n",
              "    }\n",
              "  </style>\n",
              "\n",
              "      <script>\n",
              "        const buttonEl =\n",
              "          document.querySelector('#df-5ceb584d-f721-45d8-a231-bcd75caa7137 button.colab-df-convert');\n",
              "        buttonEl.style.display =\n",
              "          google.colab.kernel.accessAllowed ? 'block' : 'none';\n",
              "\n",
              "        async function convertToInteractive(key) {\n",
              "          const element = document.querySelector('#df-5ceb584d-f721-45d8-a231-bcd75caa7137');\n",
              "          const dataTable =\n",
              "            await google.colab.kernel.invokeFunction('convertToInteractive',\n",
              "                                                     [key], {});\n",
              "          if (!dataTable) return;\n",
              "\n",
              "          const docLinkHtml = 'Like what you see? Visit the ' +\n",
              "            '<a target=\"_blank\" href=https://colab.research.google.com/notebooks/data_table.ipynb>data table notebook</a>'\n",
              "            + ' to learn more about interactive tables.';\n",
              "          element.innerHTML = '';\n",
              "          dataTable['output_type'] = 'display_data';\n",
              "          await google.colab.output.renderOutput(dataTable, element);\n",
              "          const docLink = document.createElement('div');\n",
              "          docLink.innerHTML = docLinkHtml;\n",
              "          element.appendChild(docLink);\n",
              "        }\n",
              "      </script>\n",
              "    </div>\n",
              "  </div>\n",
              "  "
            ]
          },
          "metadata": {},
          "execution_count": 431
        }
      ],
      "source": [
        "all_data.groupby(['HomePlanet', 'Cabin_Deck']).count()"
      ]
    },
    {
      "cell_type": "markdown",
      "id": "7d9edf1b",
      "metadata": {
        "id": "7d9edf1b"
      },
      "source": [
        "Filling null Cabin_Deck values according to the HomePlanet"
      ]
    },
    {
      "cell_type": "code",
      "execution_count": null,
      "id": "c061fbc1",
      "metadata": {
        "colab": {
          "base_uri": "https://localhost:8080/"
        },
        "id": "c061fbc1",
        "outputId": "a610e053-b9de-41bd-a8d7-e16f4655deea"
      },
      "outputs": [
        {
          "output_type": "execute_result",
          "data": {
            "text/plain": [
              "0"
            ]
          },
          "metadata": {},
          "execution_count": 432
        }
      ],
      "source": [
        "all_data['Cabin_Deck'] = all_data['Cabin_Deck'].fillna(\n",
        "    all_data['HomePlanet'].map(all_data.groupby('HomePlanet')['Cabin_Deck'].agg(pd.Series.mode)))\n",
        "\n",
        "# checking the null values\n",
        "all_data['Cabin_Deck'].isna().sum()"
      ]
    },
    {
      "cell_type": "code",
      "execution_count": null,
      "id": "50b65a20",
      "metadata": {
        "colab": {
          "base_uri": "https://localhost:8080/",
          "height": 646
        },
        "id": "50b65a20",
        "outputId": "af746efb-64bf-4d61-f5b6-840aa257dacc"
      },
      "outputs": [
        {
          "output_type": "execute_result",
          "data": {
            "text/plain": [
              "                       PassengerId  HomePlanet  CryoSleep  Cabin  Destination  \\\n",
              "Cabin_Side Cabin_Deck                                                           \n",
              "P          A                   172         172        172    166          169   \n",
              "           B                   519         519        519    512          507   \n",
              "           C                   542         542        542    533          526   \n",
              "           D                   375         375        375    370          369   \n",
              "           E                   642         642        642    641          630   \n",
              "           F                  2189        2189       2189   2178         2144   \n",
              "           G                  1910        1910       1910   1885         1870   \n",
              "           T                     5           5          5      5            5   \n",
              "S          A                   189         189        189    188          187   \n",
              "           B                   642         642        642    629          631   \n",
              "           C                   580         580        580    569          575   \n",
              "           D                   355         355        355    350          346   \n",
              "           E                   691         691        691    682          668   \n",
              "           F                  2076        2076       2076   2061         2024   \n",
              "           G                  1915        1915       1915   1896         1879   \n",
              "           T                     6           6          6      6            6   \n",
              "\n",
              "                        Age   VIP  RoomService  FoodCourt  ShoppingMall   Spa  \\\n",
              "Cabin_Side Cabin_Deck                                                           \n",
              "P          A            166   172          169        171           168   171   \n",
              "           B            511   519          509        511           504   513   \n",
              "           C            528   542          532        524           527   529   \n",
              "           D            366   375          369        367           366   367   \n",
              "           E            628   642          628        627           629   629   \n",
              "           F           2146  2189         2139       2144          2144  2137   \n",
              "           G           1870  1910         1860       1872          1853  1873   \n",
              "           T              5     5            5          5             5     5   \n",
              "S          A            185   189          185        188           183   187   \n",
              "           B            626   642          631        628           628   624   \n",
              "           C            570   580          572        567           566   564   \n",
              "           D            349   355          347        346           351   342   \n",
              "           E            678   691          674        679           675   675   \n",
              "           F           2038  2076         2041       2025          2034  2035   \n",
              "           G           1871  1915         1879       1864          1867  1868   \n",
              "           T              6     6            6          6             5     6   \n",
              "\n",
              "                       VRDeck  Name  Transported  GroupNo  \n",
              "Cabin_Side Cabin_Deck                                      \n",
              "P          A              168   168          122      172  \n",
              "           B              508   507          359      519  \n",
              "           C              533   533          347      542  \n",
              "           D              365   362          253      375  \n",
              "           E              631   629          429      642  \n",
              "           F             2141  2139         1442     2189  \n",
              "           G             1875  1865         1295     1910  \n",
              "           T                5     4            4        5  \n",
              "S          A              186   185          140      189  \n",
              "           B              634   630          437      642  \n",
              "           C              570   571          414      580  \n",
              "           D              348   351          234      355  \n",
              "           E              680   678          455      691  \n",
              "           F             2031  2023         1366     2076  \n",
              "           G             1860  1864         1296     1915  \n",
              "           T                6     6            1        6  "
            ],
            "text/html": [
              "\n",
              "  <div id=\"df-25be56e3-a948-4ddb-97a5-5815b6fbb11a\">\n",
              "    <div class=\"colab-df-container\">\n",
              "      <div>\n",
              "<style scoped>\n",
              "    .dataframe tbody tr th:only-of-type {\n",
              "        vertical-align: middle;\n",
              "    }\n",
              "\n",
              "    .dataframe tbody tr th {\n",
              "        vertical-align: top;\n",
              "    }\n",
              "\n",
              "    .dataframe thead th {\n",
              "        text-align: right;\n",
              "    }\n",
              "</style>\n",
              "<table border=\"1\" class=\"dataframe\">\n",
              "  <thead>\n",
              "    <tr style=\"text-align: right;\">\n",
              "      <th></th>\n",
              "      <th></th>\n",
              "      <th>PassengerId</th>\n",
              "      <th>HomePlanet</th>\n",
              "      <th>CryoSleep</th>\n",
              "      <th>Cabin</th>\n",
              "      <th>Destination</th>\n",
              "      <th>Age</th>\n",
              "      <th>VIP</th>\n",
              "      <th>RoomService</th>\n",
              "      <th>FoodCourt</th>\n",
              "      <th>ShoppingMall</th>\n",
              "      <th>Spa</th>\n",
              "      <th>VRDeck</th>\n",
              "      <th>Name</th>\n",
              "      <th>Transported</th>\n",
              "      <th>GroupNo</th>\n",
              "    </tr>\n",
              "    <tr>\n",
              "      <th>Cabin_Side</th>\n",
              "      <th>Cabin_Deck</th>\n",
              "      <th></th>\n",
              "      <th></th>\n",
              "      <th></th>\n",
              "      <th></th>\n",
              "      <th></th>\n",
              "      <th></th>\n",
              "      <th></th>\n",
              "      <th></th>\n",
              "      <th></th>\n",
              "      <th></th>\n",
              "      <th></th>\n",
              "      <th></th>\n",
              "      <th></th>\n",
              "      <th></th>\n",
              "      <th></th>\n",
              "    </tr>\n",
              "  </thead>\n",
              "  <tbody>\n",
              "    <tr>\n",
              "      <th rowspan=\"8\" valign=\"top\">P</th>\n",
              "      <th>A</th>\n",
              "      <td>172</td>\n",
              "      <td>172</td>\n",
              "      <td>172</td>\n",
              "      <td>166</td>\n",
              "      <td>169</td>\n",
              "      <td>166</td>\n",
              "      <td>172</td>\n",
              "      <td>169</td>\n",
              "      <td>171</td>\n",
              "      <td>168</td>\n",
              "      <td>171</td>\n",
              "      <td>168</td>\n",
              "      <td>168</td>\n",
              "      <td>122</td>\n",
              "      <td>172</td>\n",
              "    </tr>\n",
              "    <tr>\n",
              "      <th>B</th>\n",
              "      <td>519</td>\n",
              "      <td>519</td>\n",
              "      <td>519</td>\n",
              "      <td>512</td>\n",
              "      <td>507</td>\n",
              "      <td>511</td>\n",
              "      <td>519</td>\n",
              "      <td>509</td>\n",
              "      <td>511</td>\n",
              "      <td>504</td>\n",
              "      <td>513</td>\n",
              "      <td>508</td>\n",
              "      <td>507</td>\n",
              "      <td>359</td>\n",
              "      <td>519</td>\n",
              "    </tr>\n",
              "    <tr>\n",
              "      <th>C</th>\n",
              "      <td>542</td>\n",
              "      <td>542</td>\n",
              "      <td>542</td>\n",
              "      <td>533</td>\n",
              "      <td>526</td>\n",
              "      <td>528</td>\n",
              "      <td>542</td>\n",
              "      <td>532</td>\n",
              "      <td>524</td>\n",
              "      <td>527</td>\n",
              "      <td>529</td>\n",
              "      <td>533</td>\n",
              "      <td>533</td>\n",
              "      <td>347</td>\n",
              "      <td>542</td>\n",
              "    </tr>\n",
              "    <tr>\n",
              "      <th>D</th>\n",
              "      <td>375</td>\n",
              "      <td>375</td>\n",
              "      <td>375</td>\n",
              "      <td>370</td>\n",
              "      <td>369</td>\n",
              "      <td>366</td>\n",
              "      <td>375</td>\n",
              "      <td>369</td>\n",
              "      <td>367</td>\n",
              "      <td>366</td>\n",
              "      <td>367</td>\n",
              "      <td>365</td>\n",
              "      <td>362</td>\n",
              "      <td>253</td>\n",
              "      <td>375</td>\n",
              "    </tr>\n",
              "    <tr>\n",
              "      <th>E</th>\n",
              "      <td>642</td>\n",
              "      <td>642</td>\n",
              "      <td>642</td>\n",
              "      <td>641</td>\n",
              "      <td>630</td>\n",
              "      <td>628</td>\n",
              "      <td>642</td>\n",
              "      <td>628</td>\n",
              "      <td>627</td>\n",
              "      <td>629</td>\n",
              "      <td>629</td>\n",
              "      <td>631</td>\n",
              "      <td>629</td>\n",
              "      <td>429</td>\n",
              "      <td>642</td>\n",
              "    </tr>\n",
              "    <tr>\n",
              "      <th>F</th>\n",
              "      <td>2189</td>\n",
              "      <td>2189</td>\n",
              "      <td>2189</td>\n",
              "      <td>2178</td>\n",
              "      <td>2144</td>\n",
              "      <td>2146</td>\n",
              "      <td>2189</td>\n",
              "      <td>2139</td>\n",
              "      <td>2144</td>\n",
              "      <td>2144</td>\n",
              "      <td>2137</td>\n",
              "      <td>2141</td>\n",
              "      <td>2139</td>\n",
              "      <td>1442</td>\n",
              "      <td>2189</td>\n",
              "    </tr>\n",
              "    <tr>\n",
              "      <th>G</th>\n",
              "      <td>1910</td>\n",
              "      <td>1910</td>\n",
              "      <td>1910</td>\n",
              "      <td>1885</td>\n",
              "      <td>1870</td>\n",
              "      <td>1870</td>\n",
              "      <td>1910</td>\n",
              "      <td>1860</td>\n",
              "      <td>1872</td>\n",
              "      <td>1853</td>\n",
              "      <td>1873</td>\n",
              "      <td>1875</td>\n",
              "      <td>1865</td>\n",
              "      <td>1295</td>\n",
              "      <td>1910</td>\n",
              "    </tr>\n",
              "    <tr>\n",
              "      <th>T</th>\n",
              "      <td>5</td>\n",
              "      <td>5</td>\n",
              "      <td>5</td>\n",
              "      <td>5</td>\n",
              "      <td>5</td>\n",
              "      <td>5</td>\n",
              "      <td>5</td>\n",
              "      <td>5</td>\n",
              "      <td>5</td>\n",
              "      <td>5</td>\n",
              "      <td>5</td>\n",
              "      <td>5</td>\n",
              "      <td>4</td>\n",
              "      <td>4</td>\n",
              "      <td>5</td>\n",
              "    </tr>\n",
              "    <tr>\n",
              "      <th rowspan=\"8\" valign=\"top\">S</th>\n",
              "      <th>A</th>\n",
              "      <td>189</td>\n",
              "      <td>189</td>\n",
              "      <td>189</td>\n",
              "      <td>188</td>\n",
              "      <td>187</td>\n",
              "      <td>185</td>\n",
              "      <td>189</td>\n",
              "      <td>185</td>\n",
              "      <td>188</td>\n",
              "      <td>183</td>\n",
              "      <td>187</td>\n",
              "      <td>186</td>\n",
              "      <td>185</td>\n",
              "      <td>140</td>\n",
              "      <td>189</td>\n",
              "    </tr>\n",
              "    <tr>\n",
              "      <th>B</th>\n",
              "      <td>642</td>\n",
              "      <td>642</td>\n",
              "      <td>642</td>\n",
              "      <td>629</td>\n",
              "      <td>631</td>\n",
              "      <td>626</td>\n",
              "      <td>642</td>\n",
              "      <td>631</td>\n",
              "      <td>628</td>\n",
              "      <td>628</td>\n",
              "      <td>624</td>\n",
              "      <td>634</td>\n",
              "      <td>630</td>\n",
              "      <td>437</td>\n",
              "      <td>642</td>\n",
              "    </tr>\n",
              "    <tr>\n",
              "      <th>C</th>\n",
              "      <td>580</td>\n",
              "      <td>580</td>\n",
              "      <td>580</td>\n",
              "      <td>569</td>\n",
              "      <td>575</td>\n",
              "      <td>570</td>\n",
              "      <td>580</td>\n",
              "      <td>572</td>\n",
              "      <td>567</td>\n",
              "      <td>566</td>\n",
              "      <td>564</td>\n",
              "      <td>570</td>\n",
              "      <td>571</td>\n",
              "      <td>414</td>\n",
              "      <td>580</td>\n",
              "    </tr>\n",
              "    <tr>\n",
              "      <th>D</th>\n",
              "      <td>355</td>\n",
              "      <td>355</td>\n",
              "      <td>355</td>\n",
              "      <td>350</td>\n",
              "      <td>346</td>\n",
              "      <td>349</td>\n",
              "      <td>355</td>\n",
              "      <td>347</td>\n",
              "      <td>346</td>\n",
              "      <td>351</td>\n",
              "      <td>342</td>\n",
              "      <td>348</td>\n",
              "      <td>351</td>\n",
              "      <td>234</td>\n",
              "      <td>355</td>\n",
              "    </tr>\n",
              "    <tr>\n",
              "      <th>E</th>\n",
              "      <td>691</td>\n",
              "      <td>691</td>\n",
              "      <td>691</td>\n",
              "      <td>682</td>\n",
              "      <td>668</td>\n",
              "      <td>678</td>\n",
              "      <td>691</td>\n",
              "      <td>674</td>\n",
              "      <td>679</td>\n",
              "      <td>675</td>\n",
              "      <td>675</td>\n",
              "      <td>680</td>\n",
              "      <td>678</td>\n",
              "      <td>455</td>\n",
              "      <td>691</td>\n",
              "    </tr>\n",
              "    <tr>\n",
              "      <th>F</th>\n",
              "      <td>2076</td>\n",
              "      <td>2076</td>\n",
              "      <td>2076</td>\n",
              "      <td>2061</td>\n",
              "      <td>2024</td>\n",
              "      <td>2038</td>\n",
              "      <td>2076</td>\n",
              "      <td>2041</td>\n",
              "      <td>2025</td>\n",
              "      <td>2034</td>\n",
              "      <td>2035</td>\n",
              "      <td>2031</td>\n",
              "      <td>2023</td>\n",
              "      <td>1366</td>\n",
              "      <td>2076</td>\n",
              "    </tr>\n",
              "    <tr>\n",
              "      <th>G</th>\n",
              "      <td>1915</td>\n",
              "      <td>1915</td>\n",
              "      <td>1915</td>\n",
              "      <td>1896</td>\n",
              "      <td>1879</td>\n",
              "      <td>1871</td>\n",
              "      <td>1915</td>\n",
              "      <td>1879</td>\n",
              "      <td>1864</td>\n",
              "      <td>1867</td>\n",
              "      <td>1868</td>\n",
              "      <td>1860</td>\n",
              "      <td>1864</td>\n",
              "      <td>1296</td>\n",
              "      <td>1915</td>\n",
              "    </tr>\n",
              "    <tr>\n",
              "      <th>T</th>\n",
              "      <td>6</td>\n",
              "      <td>6</td>\n",
              "      <td>6</td>\n",
              "      <td>6</td>\n",
              "      <td>6</td>\n",
              "      <td>6</td>\n",
              "      <td>6</td>\n",
              "      <td>6</td>\n",
              "      <td>6</td>\n",
              "      <td>5</td>\n",
              "      <td>6</td>\n",
              "      <td>6</td>\n",
              "      <td>6</td>\n",
              "      <td>1</td>\n",
              "      <td>6</td>\n",
              "    </tr>\n",
              "  </tbody>\n",
              "</table>\n",
              "</div>\n",
              "      <button class=\"colab-df-convert\" onclick=\"convertToInteractive('df-25be56e3-a948-4ddb-97a5-5815b6fbb11a')\"\n",
              "              title=\"Convert this dataframe to an interactive table.\"\n",
              "              style=\"display:none;\">\n",
              "        \n",
              "  <svg xmlns=\"http://www.w3.org/2000/svg\" height=\"24px\"viewBox=\"0 0 24 24\"\n",
              "       width=\"24px\">\n",
              "    <path d=\"M0 0h24v24H0V0z\" fill=\"none\"/>\n",
              "    <path d=\"M18.56 5.44l.94 2.06.94-2.06 2.06-.94-2.06-.94-.94-2.06-.94 2.06-2.06.94zm-11 1L8.5 8.5l.94-2.06 2.06-.94-2.06-.94L8.5 2.5l-.94 2.06-2.06.94zm10 10l.94 2.06.94-2.06 2.06-.94-2.06-.94-.94-2.06-.94 2.06-2.06.94z\"/><path d=\"M17.41 7.96l-1.37-1.37c-.4-.4-.92-.59-1.43-.59-.52 0-1.04.2-1.43.59L10.3 9.45l-7.72 7.72c-.78.78-.78 2.05 0 2.83L4 21.41c.39.39.9.59 1.41.59.51 0 1.02-.2 1.41-.59l7.78-7.78 2.81-2.81c.8-.78.8-2.07 0-2.86zM5.41 20L4 18.59l7.72-7.72 1.47 1.35L5.41 20z\"/>\n",
              "  </svg>\n",
              "      </button>\n",
              "      \n",
              "  <style>\n",
              "    .colab-df-container {\n",
              "      display:flex;\n",
              "      flex-wrap:wrap;\n",
              "      gap: 12px;\n",
              "    }\n",
              "\n",
              "    .colab-df-convert {\n",
              "      background-color: #E8F0FE;\n",
              "      border: none;\n",
              "      border-radius: 50%;\n",
              "      cursor: pointer;\n",
              "      display: none;\n",
              "      fill: #1967D2;\n",
              "      height: 32px;\n",
              "      padding: 0 0 0 0;\n",
              "      width: 32px;\n",
              "    }\n",
              "\n",
              "    .colab-df-convert:hover {\n",
              "      background-color: #E2EBFA;\n",
              "      box-shadow: 0px 1px 2px rgba(60, 64, 67, 0.3), 0px 1px 3px 1px rgba(60, 64, 67, 0.15);\n",
              "      fill: #174EA6;\n",
              "    }\n",
              "\n",
              "    [theme=dark] .colab-df-convert {\n",
              "      background-color: #3B4455;\n",
              "      fill: #D2E3FC;\n",
              "    }\n",
              "\n",
              "    [theme=dark] .colab-df-convert:hover {\n",
              "      background-color: #434B5C;\n",
              "      box-shadow: 0px 1px 3px 1px rgba(0, 0, 0, 0.15);\n",
              "      filter: drop-shadow(0px 1px 2px rgba(0, 0, 0, 0.3));\n",
              "      fill: #FFFFFF;\n",
              "    }\n",
              "  </style>\n",
              "\n",
              "      <script>\n",
              "        const buttonEl =\n",
              "          document.querySelector('#df-25be56e3-a948-4ddb-97a5-5815b6fbb11a button.colab-df-convert');\n",
              "        buttonEl.style.display =\n",
              "          google.colab.kernel.accessAllowed ? 'block' : 'none';\n",
              "\n",
              "        async function convertToInteractive(key) {\n",
              "          const element = document.querySelector('#df-25be56e3-a948-4ddb-97a5-5815b6fbb11a');\n",
              "          const dataTable =\n",
              "            await google.colab.kernel.invokeFunction('convertToInteractive',\n",
              "                                                     [key], {});\n",
              "          if (!dataTable) return;\n",
              "\n",
              "          const docLinkHtml = 'Like what you see? Visit the ' +\n",
              "            '<a target=\"_blank\" href=https://colab.research.google.com/notebooks/data_table.ipynb>data table notebook</a>'\n",
              "            + ' to learn more about interactive tables.';\n",
              "          element.innerHTML = '';\n",
              "          dataTable['output_type'] = 'display_data';\n",
              "          await google.colab.output.renderOutput(dataTable, element);\n",
              "          const docLink = document.createElement('div');\n",
              "          docLink.innerHTML = docLinkHtml;\n",
              "          element.appendChild(docLink);\n",
              "        }\n",
              "      </script>\n",
              "    </div>\n",
              "  </div>\n",
              "  "
            ]
          },
          "metadata": {},
          "execution_count": 433
        }
      ],
      "source": [
        "all_data.groupby(['Cabin_Side', 'Cabin_Deck']).count()"
      ]
    },
    {
      "cell_type": "code",
      "execution_count": null,
      "id": "8acd7105",
      "metadata": {
        "colab": {
          "base_uri": "https://localhost:8080/"
        },
        "id": "8acd7105",
        "outputId": "1d89b592-ac71-4097-e27b-ce89076ad116"
      },
      "outputs": [
        {
          "output_type": "execute_result",
          "data": {
            "text/plain": [
              "S    6454\n",
              "P    6354\n",
              "Name: Cabin_Side, dtype: int64"
            ]
          },
          "metadata": {},
          "execution_count": 434
        }
      ],
      "source": [
        "all_data['Cabin_Side'].value_counts()"
      ]
    },
    {
      "cell_type": "markdown",
      "id": "0a60e1b7",
      "metadata": {
        "id": "0a60e1b7"
      },
      "source": [
        "**Assumption:**\n",
        "- The Cabin_Side(Port and Starboard) should be balanced\n",
        "\n",
        "Filling the null values in a way that the Port and Starboard will be balanced"
      ]
    },
    {
      "cell_type": "code",
      "execution_count": null,
      "id": "60f86c9a",
      "metadata": {
        "id": "60f86c9a"
      },
      "outputs": [],
      "source": [
        "def fill_side(cols):\n",
        "    cabin_deck = cols[0]\n",
        "    cabin_side = cols[1]\n",
        "    \n",
        "    if pd.isnull(cabin_side):\n",
        "        \n",
        "        if cabin_deck in ['A', 'B', 'C', 'D', 'E', 'G']:\n",
        "            return 'P'\n",
        "        else:\n",
        "            return 'S'\n",
        "    else:\n",
        "        return cabin_side"
      ]
    },
    {
      "cell_type": "code",
      "execution_count": null,
      "id": "48a1d82d",
      "metadata": {
        "colab": {
          "base_uri": "https://localhost:8080/"
        },
        "id": "48a1d82d",
        "outputId": "b74438a9-c953-4fb9-c649-c40e2a38e9e9"
      },
      "outputs": [
        {
          "output_type": "execute_result",
          "data": {
            "text/plain": [
              "0"
            ]
          },
          "metadata": {},
          "execution_count": 436
        }
      ],
      "source": [
        "all_data['Cabin_Side'] = all_data[['Cabin_Deck', 'Cabin_Side']].apply(fill_side, axis=1)\n",
        "\n",
        "# checking the null values\n",
        "all_data['Cabin_Side'].isna().sum()"
      ]
    },
    {
      "cell_type": "code",
      "execution_count": null,
      "id": "69d0e08e",
      "metadata": {
        "colab": {
          "base_uri": "https://localhost:8080/"
        },
        "id": "69d0e08e",
        "outputId": "0e5989df-8aee-4b85-c02a-73bc6d955e0e"
      },
      "outputs": [
        {
          "output_type": "execute_result",
          "data": {
            "text/plain": [
              "P    6485\n",
              "S    6485\n",
              "Name: Cabin_Side, dtype: int64"
            ]
          },
          "metadata": {},
          "execution_count": 437
        }
      ],
      "source": [
        "all_data['Cabin_Side'].value_counts()"
      ]
    },
    {
      "cell_type": "markdown",
      "id": "760b0e1c",
      "metadata": {
        "id": "760b0e1c"
      },
      "source": [
        "- The Cabin_Side is perfectly balanced"
      ]
    },
    {
      "cell_type": "markdown",
      "id": "507b5d73",
      "metadata": {
        "id": "507b5d73"
      },
      "source": [
        "**Cleaning Destination**"
      ]
    },
    {
      "cell_type": "markdown",
      "id": "9f7cc9b1",
      "metadata": {
        "id": "9f7cc9b1"
      },
      "source": [
        "There was no clear connection from the EDA that could help fill the Destination\n",
        "- The mode will be used for filling the null values"
      ]
    },
    {
      "cell_type": "code",
      "execution_count": null,
      "id": "851087b3",
      "metadata": {
        "colab": {
          "base_uri": "https://localhost:8080/",
          "height": 35
        },
        "id": "851087b3",
        "outputId": "024414fe-dd64-4d28-de0f-34051e3c3822"
      },
      "outputs": [
        {
          "output_type": "execute_result",
          "data": {
            "text/plain": [
              "'TRAPPIST-1e'"
            ],
            "application/vnd.google.colaboratory.intrinsic+json": {
              "type": "string"
            }
          },
          "metadata": {},
          "execution_count": 438
        }
      ],
      "source": [
        "all_data['Destination'].agg('mode')[0]"
      ]
    },
    {
      "cell_type": "code",
      "execution_count": null,
      "id": "c421fbc4",
      "metadata": {
        "colab": {
          "base_uri": "https://localhost:8080/"
        },
        "id": "c421fbc4",
        "outputId": "60997cef-b72c-4adc-bb9a-3aa789cb9159"
      },
      "outputs": [
        {
          "output_type": "execute_result",
          "data": {
            "text/plain": [
              "0"
            ]
          },
          "metadata": {},
          "execution_count": 439
        }
      ],
      "source": [
        "all_data['Destination'] = all_data['Destination'].fillna(all_data['Destination'].agg('mode')[0])\n",
        "\n",
        "# checking the null values\n",
        "all_data['Destination'].isna().sum()"
      ]
    },
    {
      "cell_type": "markdown",
      "id": "70904b15",
      "metadata": {
        "id": "70904b15"
      },
      "source": [
        "**Age Cleaning**"
      ]
    },
    {
      "cell_type": "markdown",
      "id": "68613720",
      "metadata": {
        "id": "68613720"
      },
      "source": [
        "We'll use the median ages from the Cabin_Deck column to fill the missing values of Age"
      ]
    },
    {
      "cell_type": "code",
      "execution_count": null,
      "id": "2de81c6f",
      "metadata": {
        "colab": {
          "base_uri": "https://localhost:8080/"
        },
        "id": "2de81c6f",
        "outputId": "8796b252-bfe3-45b0-b173-879fbb41fdec"
      },
      "outputs": [
        {
          "output_type": "execute_result",
          "data": {
            "text/plain": [
              "Cabin_Deck\n",
              "A    34.0\n",
              "B    32.0\n",
              "C    33.0\n",
              "D    32.0\n",
              "E    27.0\n",
              "F    25.0\n",
              "G    22.0\n",
              "T    37.0\n",
              "Name: Age, dtype: float64"
            ]
          },
          "metadata": {},
          "execution_count": 440
        }
      ],
      "source": [
        "train.groupby('Cabin_Deck')['Age'].agg('median')"
      ]
    },
    {
      "cell_type": "code",
      "execution_count": null,
      "id": "c1b49efd",
      "metadata": {
        "colab": {
          "base_uri": "https://localhost:8080/"
        },
        "id": "c1b49efd",
        "outputId": "d6fb9948-ddff-41ba-a343-be38983a87d0"
      },
      "outputs": [
        {
          "output_type": "execute_result",
          "data": {
            "text/plain": [
              "0"
            ]
          },
          "metadata": {},
          "execution_count": 441
        }
      ],
      "source": [
        "all_data['Age'] = all_data['Age'].fillna(all_data['Cabin_Deck'].map(train.groupby('Cabin_Deck')['Age'].agg('median')))\n",
        "\n",
        "# checking the null values\n",
        "all_data['Age'].isna().sum()"
      ]
    },
    {
      "cell_type": "markdown",
      "id": "a8501422",
      "metadata": {
        "id": "a8501422"
      },
      "source": [
        "**Cleaning the Luxury ammenities columns with 0**"
      ]
    },
    {
      "cell_type": "code",
      "execution_count": null,
      "id": "e30391ce",
      "metadata": {
        "colab": {
          "base_uri": "https://localhost:8080/"
        },
        "id": "e30391ce",
        "outputId": "30b325b7-4dbf-489d-fc8a-db345cb17be2"
      },
      "outputs": [
        {
          "output_type": "execute_result",
          "data": {
            "text/plain": [
              "PassengerId        0\n",
              "HomePlanet         0\n",
              "CryoSleep          0\n",
              "Cabin            299\n",
              "Destination        0\n",
              "Age                0\n",
              "VIP                0\n",
              "RoomService      263\n",
              "FoodCourt        289\n",
              "ShoppingMall     306\n",
              "Spa              284\n",
              "VRDeck           268\n",
              "Name             294\n",
              "Transported     4277\n",
              "GroupNo            0\n",
              "Cabin_Deck         0\n",
              "Cabin_Side         0\n",
              "dtype: int64"
            ]
          },
          "metadata": {},
          "execution_count": 442
        }
      ],
      "source": [
        "all_data.isna().sum()"
      ]
    },
    {
      "cell_type": "code",
      "execution_count": null,
      "id": "f78e598f",
      "metadata": {
        "colab": {
          "base_uri": "https://localhost:8080/"
        },
        "id": "f78e598f",
        "outputId": "f2342fd0-4b60-419b-8f36-0b362a782b2e"
      },
      "outputs": [
        {
          "output_type": "execute_result",
          "data": {
            "text/plain": [
              "Index(['PassengerId', 'HomePlanet', 'CryoSleep', 'Cabin', 'Destination', 'Age',\n",
              "       'VIP', 'RoomService', 'FoodCourt', 'ShoppingMall', 'Spa', 'VRDeck',\n",
              "       'Name', 'Transported', 'GroupNo', 'Cabin_Deck', 'Cabin_Side'],\n",
              "      dtype='object')"
            ]
          },
          "metadata": {},
          "execution_count": 443
        }
      ],
      "source": [
        "all_data.columns"
      ]
    },
    {
      "cell_type": "code",
      "execution_count": null,
      "id": "f90ddde8",
      "metadata": {
        "colab": {
          "base_uri": "https://localhost:8080/"
        },
        "id": "f90ddde8",
        "outputId": "00c1db71-4887-449a-a69f-de70e1ea039f"
      },
      "outputs": [
        {
          "output_type": "execute_result",
          "data": {
            "text/plain": [
              "PassengerId        0\n",
              "HomePlanet         0\n",
              "CryoSleep          0\n",
              "Cabin            299\n",
              "Destination        0\n",
              "Age                0\n",
              "VIP                0\n",
              "RoomService        0\n",
              "FoodCourt          0\n",
              "ShoppingMall       0\n",
              "Spa                0\n",
              "VRDeck             0\n",
              "Name             294\n",
              "Transported     4277\n",
              "GroupNo            0\n",
              "Cabin_Deck         0\n",
              "Cabin_Side         0\n",
              "dtype: int64"
            ]
          },
          "metadata": {},
          "execution_count": 444
        }
      ],
      "source": [
        "for luxury in ['RoomService', 'FoodCourt', 'ShoppingMall', 'Spa', 'VRDeck']:\n",
        "    all_data[luxury] = all_data[luxury].fillna(0)\n",
        "    \n",
        "# checking the null values\n",
        "all_data.isna().sum()"
      ]
    },
    {
      "cell_type": "markdown",
      "id": "9faa8cb1",
      "metadata": {
        "id": "9faa8cb1"
      },
      "source": [
        "**Grabbing the Relevant columns**\n"
      ]
    },
    {
      "cell_type": "code",
      "execution_count": null,
      "id": "7f2d93ec",
      "metadata": {
        "id": "7f2d93ec"
      },
      "outputs": [],
      "source": [
        "model_data = all_data.drop(['PassengerId', 'Cabin', 'Name', 'GroupNo'], axis=1)"
      ]
    },
    {
      "cell_type": "code",
      "execution_count": null,
      "id": "60bdeae0",
      "metadata": {
        "colab": {
          "base_uri": "https://localhost:8080/",
          "height": 206
        },
        "id": "60bdeae0",
        "outputId": "09981a2d-ad06-4436-d7a5-fc52248761ec"
      },
      "outputs": [
        {
          "output_type": "execute_result",
          "data": {
            "text/plain": [
              "  HomePlanet  CryoSleep  Destination   Age    VIP  RoomService  FoodCourt  \\\n",
              "0     Europa      False  TRAPPIST-1e  39.0  False          0.0        0.0   \n",
              "1      Earth      False  TRAPPIST-1e  24.0  False        109.0        9.0   \n",
              "2     Europa      False  TRAPPIST-1e  58.0   True         43.0     3576.0   \n",
              "3     Europa      False  TRAPPIST-1e  33.0  False          0.0     1283.0   \n",
              "4      Earth      False  TRAPPIST-1e  16.0  False        303.0       70.0   \n",
              "\n",
              "   ShoppingMall     Spa  VRDeck Transported Cabin_Deck Cabin_Side  \n",
              "0           0.0     0.0     0.0       False          B          P  \n",
              "1          25.0   549.0    44.0        True          F          S  \n",
              "2           0.0  6715.0    49.0       False          A          S  \n",
              "3         371.0  3329.0   193.0       False          A          S  \n",
              "4         151.0   565.0     2.0        True          F          S  "
            ],
            "text/html": [
              "\n",
              "  <div id=\"df-9781c30c-7d5c-4c42-9526-1d35a681af82\">\n",
              "    <div class=\"colab-df-container\">\n",
              "      <div>\n",
              "<style scoped>\n",
              "    .dataframe tbody tr th:only-of-type {\n",
              "        vertical-align: middle;\n",
              "    }\n",
              "\n",
              "    .dataframe tbody tr th {\n",
              "        vertical-align: top;\n",
              "    }\n",
              "\n",
              "    .dataframe thead th {\n",
              "        text-align: right;\n",
              "    }\n",
              "</style>\n",
              "<table border=\"1\" class=\"dataframe\">\n",
              "  <thead>\n",
              "    <tr style=\"text-align: right;\">\n",
              "      <th></th>\n",
              "      <th>HomePlanet</th>\n",
              "      <th>CryoSleep</th>\n",
              "      <th>Destination</th>\n",
              "      <th>Age</th>\n",
              "      <th>VIP</th>\n",
              "      <th>RoomService</th>\n",
              "      <th>FoodCourt</th>\n",
              "      <th>ShoppingMall</th>\n",
              "      <th>Spa</th>\n",
              "      <th>VRDeck</th>\n",
              "      <th>Transported</th>\n",
              "      <th>Cabin_Deck</th>\n",
              "      <th>Cabin_Side</th>\n",
              "    </tr>\n",
              "  </thead>\n",
              "  <tbody>\n",
              "    <tr>\n",
              "      <th>0</th>\n",
              "      <td>Europa</td>\n",
              "      <td>False</td>\n",
              "      <td>TRAPPIST-1e</td>\n",
              "      <td>39.0</td>\n",
              "      <td>False</td>\n",
              "      <td>0.0</td>\n",
              "      <td>0.0</td>\n",
              "      <td>0.0</td>\n",
              "      <td>0.0</td>\n",
              "      <td>0.0</td>\n",
              "      <td>False</td>\n",
              "      <td>B</td>\n",
              "      <td>P</td>\n",
              "    </tr>\n",
              "    <tr>\n",
              "      <th>1</th>\n",
              "      <td>Earth</td>\n",
              "      <td>False</td>\n",
              "      <td>TRAPPIST-1e</td>\n",
              "      <td>24.0</td>\n",
              "      <td>False</td>\n",
              "      <td>109.0</td>\n",
              "      <td>9.0</td>\n",
              "      <td>25.0</td>\n",
              "      <td>549.0</td>\n",
              "      <td>44.0</td>\n",
              "      <td>True</td>\n",
              "      <td>F</td>\n",
              "      <td>S</td>\n",
              "    </tr>\n",
              "    <tr>\n",
              "      <th>2</th>\n",
              "      <td>Europa</td>\n",
              "      <td>False</td>\n",
              "      <td>TRAPPIST-1e</td>\n",
              "      <td>58.0</td>\n",
              "      <td>True</td>\n",
              "      <td>43.0</td>\n",
              "      <td>3576.0</td>\n",
              "      <td>0.0</td>\n",
              "      <td>6715.0</td>\n",
              "      <td>49.0</td>\n",
              "      <td>False</td>\n",
              "      <td>A</td>\n",
              "      <td>S</td>\n",
              "    </tr>\n",
              "    <tr>\n",
              "      <th>3</th>\n",
              "      <td>Europa</td>\n",
              "      <td>False</td>\n",
              "      <td>TRAPPIST-1e</td>\n",
              "      <td>33.0</td>\n",
              "      <td>False</td>\n",
              "      <td>0.0</td>\n",
              "      <td>1283.0</td>\n",
              "      <td>371.0</td>\n",
              "      <td>3329.0</td>\n",
              "      <td>193.0</td>\n",
              "      <td>False</td>\n",
              "      <td>A</td>\n",
              "      <td>S</td>\n",
              "    </tr>\n",
              "    <tr>\n",
              "      <th>4</th>\n",
              "      <td>Earth</td>\n",
              "      <td>False</td>\n",
              "      <td>TRAPPIST-1e</td>\n",
              "      <td>16.0</td>\n",
              "      <td>False</td>\n",
              "      <td>303.0</td>\n",
              "      <td>70.0</td>\n",
              "      <td>151.0</td>\n",
              "      <td>565.0</td>\n",
              "      <td>2.0</td>\n",
              "      <td>True</td>\n",
              "      <td>F</td>\n",
              "      <td>S</td>\n",
              "    </tr>\n",
              "  </tbody>\n",
              "</table>\n",
              "</div>\n",
              "      <button class=\"colab-df-convert\" onclick=\"convertToInteractive('df-9781c30c-7d5c-4c42-9526-1d35a681af82')\"\n",
              "              title=\"Convert this dataframe to an interactive table.\"\n",
              "              style=\"display:none;\">\n",
              "        \n",
              "  <svg xmlns=\"http://www.w3.org/2000/svg\" height=\"24px\"viewBox=\"0 0 24 24\"\n",
              "       width=\"24px\">\n",
              "    <path d=\"M0 0h24v24H0V0z\" fill=\"none\"/>\n",
              "    <path d=\"M18.56 5.44l.94 2.06.94-2.06 2.06-.94-2.06-.94-.94-2.06-.94 2.06-2.06.94zm-11 1L8.5 8.5l.94-2.06 2.06-.94-2.06-.94L8.5 2.5l-.94 2.06-2.06.94zm10 10l.94 2.06.94-2.06 2.06-.94-2.06-.94-.94-2.06-.94 2.06-2.06.94z\"/><path d=\"M17.41 7.96l-1.37-1.37c-.4-.4-.92-.59-1.43-.59-.52 0-1.04.2-1.43.59L10.3 9.45l-7.72 7.72c-.78.78-.78 2.05 0 2.83L4 21.41c.39.39.9.59 1.41.59.51 0 1.02-.2 1.41-.59l7.78-7.78 2.81-2.81c.8-.78.8-2.07 0-2.86zM5.41 20L4 18.59l7.72-7.72 1.47 1.35L5.41 20z\"/>\n",
              "  </svg>\n",
              "      </button>\n",
              "      \n",
              "  <style>\n",
              "    .colab-df-container {\n",
              "      display:flex;\n",
              "      flex-wrap:wrap;\n",
              "      gap: 12px;\n",
              "    }\n",
              "\n",
              "    .colab-df-convert {\n",
              "      background-color: #E8F0FE;\n",
              "      border: none;\n",
              "      border-radius: 50%;\n",
              "      cursor: pointer;\n",
              "      display: none;\n",
              "      fill: #1967D2;\n",
              "      height: 32px;\n",
              "      padding: 0 0 0 0;\n",
              "      width: 32px;\n",
              "    }\n",
              "\n",
              "    .colab-df-convert:hover {\n",
              "      background-color: #E2EBFA;\n",
              "      box-shadow: 0px 1px 2px rgba(60, 64, 67, 0.3), 0px 1px 3px 1px rgba(60, 64, 67, 0.15);\n",
              "      fill: #174EA6;\n",
              "    }\n",
              "\n",
              "    [theme=dark] .colab-df-convert {\n",
              "      background-color: #3B4455;\n",
              "      fill: #D2E3FC;\n",
              "    }\n",
              "\n",
              "    [theme=dark] .colab-df-convert:hover {\n",
              "      background-color: #434B5C;\n",
              "      box-shadow: 0px 1px 3px 1px rgba(0, 0, 0, 0.15);\n",
              "      filter: drop-shadow(0px 1px 2px rgba(0, 0, 0, 0.3));\n",
              "      fill: #FFFFFF;\n",
              "    }\n",
              "  </style>\n",
              "\n",
              "      <script>\n",
              "        const buttonEl =\n",
              "          document.querySelector('#df-9781c30c-7d5c-4c42-9526-1d35a681af82 button.colab-df-convert');\n",
              "        buttonEl.style.display =\n",
              "          google.colab.kernel.accessAllowed ? 'block' : 'none';\n",
              "\n",
              "        async function convertToInteractive(key) {\n",
              "          const element = document.querySelector('#df-9781c30c-7d5c-4c42-9526-1d35a681af82');\n",
              "          const dataTable =\n",
              "            await google.colab.kernel.invokeFunction('convertToInteractive',\n",
              "                                                     [key], {});\n",
              "          if (!dataTable) return;\n",
              "\n",
              "          const docLinkHtml = 'Like what you see? Visit the ' +\n",
              "            '<a target=\"_blank\" href=https://colab.research.google.com/notebooks/data_table.ipynb>data table notebook</a>'\n",
              "            + ' to learn more about interactive tables.';\n",
              "          element.innerHTML = '';\n",
              "          dataTable['output_type'] = 'display_data';\n",
              "          await google.colab.output.renderOutput(dataTable, element);\n",
              "          const docLink = document.createElement('div');\n",
              "          docLink.innerHTML = docLinkHtml;\n",
              "          element.appendChild(docLink);\n",
              "        }\n",
              "      </script>\n",
              "    </div>\n",
              "  </div>\n",
              "  "
            ]
          },
          "metadata": {},
          "execution_count": 446
        }
      ],
      "source": [
        "model_data.head()"
      ]
    },
    {
      "cell_type": "markdown",
      "id": "06d117de",
      "metadata": {
        "id": "06d117de"
      },
      "source": [
        "**Splitting back to train and test dataset**"
      ]
    },
    {
      "cell_type": "code",
      "execution_count": null,
      "id": "bec4071e",
      "metadata": {
        "id": "bec4071e"
      },
      "outputs": [],
      "source": [
        "train_cleaned = model_data[:ntrain]\n",
        "test_cleaned = model_data[ntrain:].reset_index(drop=True).drop('Transported', axis=1)"
      ]
    },
    {
      "cell_type": "code",
      "execution_count": null,
      "id": "6324d0dc",
      "metadata": {
        "colab": {
          "base_uri": "https://localhost:8080/",
          "height": 206
        },
        "id": "6324d0dc",
        "outputId": "09587ec3-6519-4f38-f320-a701a8d470af"
      },
      "outputs": [
        {
          "output_type": "execute_result",
          "data": {
            "text/plain": [
              "  HomePlanet  CryoSleep  Destination   Age    VIP  RoomService  FoodCourt  \\\n",
              "0     Europa      False  TRAPPIST-1e  39.0  False          0.0        0.0   \n",
              "1      Earth      False  TRAPPIST-1e  24.0  False        109.0        9.0   \n",
              "2     Europa      False  TRAPPIST-1e  58.0   True         43.0     3576.0   \n",
              "3     Europa      False  TRAPPIST-1e  33.0  False          0.0     1283.0   \n",
              "4      Earth      False  TRAPPIST-1e  16.0  False        303.0       70.0   \n",
              "\n",
              "   ShoppingMall     Spa  VRDeck Transported Cabin_Deck Cabin_Side  \n",
              "0           0.0     0.0     0.0       False          B          P  \n",
              "1          25.0   549.0    44.0        True          F          S  \n",
              "2           0.0  6715.0    49.0       False          A          S  \n",
              "3         371.0  3329.0   193.0       False          A          S  \n",
              "4         151.0   565.0     2.0        True          F          S  "
            ],
            "text/html": [
              "\n",
              "  <div id=\"df-a2dbe556-c3f6-4715-bb4b-6798973cc84d\">\n",
              "    <div class=\"colab-df-container\">\n",
              "      <div>\n",
              "<style scoped>\n",
              "    .dataframe tbody tr th:only-of-type {\n",
              "        vertical-align: middle;\n",
              "    }\n",
              "\n",
              "    .dataframe tbody tr th {\n",
              "        vertical-align: top;\n",
              "    }\n",
              "\n",
              "    .dataframe thead th {\n",
              "        text-align: right;\n",
              "    }\n",
              "</style>\n",
              "<table border=\"1\" class=\"dataframe\">\n",
              "  <thead>\n",
              "    <tr style=\"text-align: right;\">\n",
              "      <th></th>\n",
              "      <th>HomePlanet</th>\n",
              "      <th>CryoSleep</th>\n",
              "      <th>Destination</th>\n",
              "      <th>Age</th>\n",
              "      <th>VIP</th>\n",
              "      <th>RoomService</th>\n",
              "      <th>FoodCourt</th>\n",
              "      <th>ShoppingMall</th>\n",
              "      <th>Spa</th>\n",
              "      <th>VRDeck</th>\n",
              "      <th>Transported</th>\n",
              "      <th>Cabin_Deck</th>\n",
              "      <th>Cabin_Side</th>\n",
              "    </tr>\n",
              "  </thead>\n",
              "  <tbody>\n",
              "    <tr>\n",
              "      <th>0</th>\n",
              "      <td>Europa</td>\n",
              "      <td>False</td>\n",
              "      <td>TRAPPIST-1e</td>\n",
              "      <td>39.0</td>\n",
              "      <td>False</td>\n",
              "      <td>0.0</td>\n",
              "      <td>0.0</td>\n",
              "      <td>0.0</td>\n",
              "      <td>0.0</td>\n",
              "      <td>0.0</td>\n",
              "      <td>False</td>\n",
              "      <td>B</td>\n",
              "      <td>P</td>\n",
              "    </tr>\n",
              "    <tr>\n",
              "      <th>1</th>\n",
              "      <td>Earth</td>\n",
              "      <td>False</td>\n",
              "      <td>TRAPPIST-1e</td>\n",
              "      <td>24.0</td>\n",
              "      <td>False</td>\n",
              "      <td>109.0</td>\n",
              "      <td>9.0</td>\n",
              "      <td>25.0</td>\n",
              "      <td>549.0</td>\n",
              "      <td>44.0</td>\n",
              "      <td>True</td>\n",
              "      <td>F</td>\n",
              "      <td>S</td>\n",
              "    </tr>\n",
              "    <tr>\n",
              "      <th>2</th>\n",
              "      <td>Europa</td>\n",
              "      <td>False</td>\n",
              "      <td>TRAPPIST-1e</td>\n",
              "      <td>58.0</td>\n",
              "      <td>True</td>\n",
              "      <td>43.0</td>\n",
              "      <td>3576.0</td>\n",
              "      <td>0.0</td>\n",
              "      <td>6715.0</td>\n",
              "      <td>49.0</td>\n",
              "      <td>False</td>\n",
              "      <td>A</td>\n",
              "      <td>S</td>\n",
              "    </tr>\n",
              "    <tr>\n",
              "      <th>3</th>\n",
              "      <td>Europa</td>\n",
              "      <td>False</td>\n",
              "      <td>TRAPPIST-1e</td>\n",
              "      <td>33.0</td>\n",
              "      <td>False</td>\n",
              "      <td>0.0</td>\n",
              "      <td>1283.0</td>\n",
              "      <td>371.0</td>\n",
              "      <td>3329.0</td>\n",
              "      <td>193.0</td>\n",
              "      <td>False</td>\n",
              "      <td>A</td>\n",
              "      <td>S</td>\n",
              "    </tr>\n",
              "    <tr>\n",
              "      <th>4</th>\n",
              "      <td>Earth</td>\n",
              "      <td>False</td>\n",
              "      <td>TRAPPIST-1e</td>\n",
              "      <td>16.0</td>\n",
              "      <td>False</td>\n",
              "      <td>303.0</td>\n",
              "      <td>70.0</td>\n",
              "      <td>151.0</td>\n",
              "      <td>565.0</td>\n",
              "      <td>2.0</td>\n",
              "      <td>True</td>\n",
              "      <td>F</td>\n",
              "      <td>S</td>\n",
              "    </tr>\n",
              "  </tbody>\n",
              "</table>\n",
              "</div>\n",
              "      <button class=\"colab-df-convert\" onclick=\"convertToInteractive('df-a2dbe556-c3f6-4715-bb4b-6798973cc84d')\"\n",
              "              title=\"Convert this dataframe to an interactive table.\"\n",
              "              style=\"display:none;\">\n",
              "        \n",
              "  <svg xmlns=\"http://www.w3.org/2000/svg\" height=\"24px\"viewBox=\"0 0 24 24\"\n",
              "       width=\"24px\">\n",
              "    <path d=\"M0 0h24v24H0V0z\" fill=\"none\"/>\n",
              "    <path d=\"M18.56 5.44l.94 2.06.94-2.06 2.06-.94-2.06-.94-.94-2.06-.94 2.06-2.06.94zm-11 1L8.5 8.5l.94-2.06 2.06-.94-2.06-.94L8.5 2.5l-.94 2.06-2.06.94zm10 10l.94 2.06.94-2.06 2.06-.94-2.06-.94-.94-2.06-.94 2.06-2.06.94z\"/><path d=\"M17.41 7.96l-1.37-1.37c-.4-.4-.92-.59-1.43-.59-.52 0-1.04.2-1.43.59L10.3 9.45l-7.72 7.72c-.78.78-.78 2.05 0 2.83L4 21.41c.39.39.9.59 1.41.59.51 0 1.02-.2 1.41-.59l7.78-7.78 2.81-2.81c.8-.78.8-2.07 0-2.86zM5.41 20L4 18.59l7.72-7.72 1.47 1.35L5.41 20z\"/>\n",
              "  </svg>\n",
              "      </button>\n",
              "      \n",
              "  <style>\n",
              "    .colab-df-container {\n",
              "      display:flex;\n",
              "      flex-wrap:wrap;\n",
              "      gap: 12px;\n",
              "    }\n",
              "\n",
              "    .colab-df-convert {\n",
              "      background-color: #E8F0FE;\n",
              "      border: none;\n",
              "      border-radius: 50%;\n",
              "      cursor: pointer;\n",
              "      display: none;\n",
              "      fill: #1967D2;\n",
              "      height: 32px;\n",
              "      padding: 0 0 0 0;\n",
              "      width: 32px;\n",
              "    }\n",
              "\n",
              "    .colab-df-convert:hover {\n",
              "      background-color: #E2EBFA;\n",
              "      box-shadow: 0px 1px 2px rgba(60, 64, 67, 0.3), 0px 1px 3px 1px rgba(60, 64, 67, 0.15);\n",
              "      fill: #174EA6;\n",
              "    }\n",
              "\n",
              "    [theme=dark] .colab-df-convert {\n",
              "      background-color: #3B4455;\n",
              "      fill: #D2E3FC;\n",
              "    }\n",
              "\n",
              "    [theme=dark] .colab-df-convert:hover {\n",
              "      background-color: #434B5C;\n",
              "      box-shadow: 0px 1px 3px 1px rgba(0, 0, 0, 0.15);\n",
              "      filter: drop-shadow(0px 1px 2px rgba(0, 0, 0, 0.3));\n",
              "      fill: #FFFFFF;\n",
              "    }\n",
              "  </style>\n",
              "\n",
              "      <script>\n",
              "        const buttonEl =\n",
              "          document.querySelector('#df-a2dbe556-c3f6-4715-bb4b-6798973cc84d button.colab-df-convert');\n",
              "        buttonEl.style.display =\n",
              "          google.colab.kernel.accessAllowed ? 'block' : 'none';\n",
              "\n",
              "        async function convertToInteractive(key) {\n",
              "          const element = document.querySelector('#df-a2dbe556-c3f6-4715-bb4b-6798973cc84d');\n",
              "          const dataTable =\n",
              "            await google.colab.kernel.invokeFunction('convertToInteractive',\n",
              "                                                     [key], {});\n",
              "          if (!dataTable) return;\n",
              "\n",
              "          const docLinkHtml = 'Like what you see? Visit the ' +\n",
              "            '<a target=\"_blank\" href=https://colab.research.google.com/notebooks/data_table.ipynb>data table notebook</a>'\n",
              "            + ' to learn more about interactive tables.';\n",
              "          element.innerHTML = '';\n",
              "          dataTable['output_type'] = 'display_data';\n",
              "          await google.colab.output.renderOutput(dataTable, element);\n",
              "          const docLink = document.createElement('div');\n",
              "          docLink.innerHTML = docLinkHtml;\n",
              "          element.appendChild(docLink);\n",
              "        }\n",
              "      </script>\n",
              "    </div>\n",
              "  </div>\n",
              "  "
            ]
          },
          "metadata": {},
          "execution_count": 448
        }
      ],
      "source": [
        "train_cleaned.head()"
      ]
    },
    {
      "cell_type": "code",
      "execution_count": null,
      "id": "0b9f3a1d",
      "metadata": {
        "colab": {
          "base_uri": "https://localhost:8080/",
          "height": 206
        },
        "id": "0b9f3a1d",
        "outputId": "409c8923-5412-4bf5-a354-e80047e857c7"
      },
      "outputs": [
        {
          "output_type": "execute_result",
          "data": {
            "text/plain": [
              "  HomePlanet  CryoSleep  Destination   Age    VIP  RoomService  FoodCourt  \\\n",
              "0      Earth       True  TRAPPIST-1e  27.0  False          0.0        0.0   \n",
              "1      Earth      False  TRAPPIST-1e  19.0  False          0.0        9.0   \n",
              "2     Europa       True  55 Cancri e  31.0  False          0.0        0.0   \n",
              "3     Europa      False  TRAPPIST-1e  38.0  False          0.0     6652.0   \n",
              "4      Earth      False  TRAPPIST-1e  20.0  False         10.0        0.0   \n",
              "\n",
              "   ShoppingMall     Spa  VRDeck Cabin_Deck Cabin_Side  \n",
              "0           0.0     0.0     0.0          G          S  \n",
              "1           0.0  2823.0     0.0          F          S  \n",
              "2           0.0     0.0     0.0          C          S  \n",
              "3           0.0   181.0   585.0          C          S  \n",
              "4         635.0     0.0     0.0          F          S  "
            ],
            "text/html": [
              "\n",
              "  <div id=\"df-877a1c8d-4b54-4ebe-a2a2-81f3f9a2935f\">\n",
              "    <div class=\"colab-df-container\">\n",
              "      <div>\n",
              "<style scoped>\n",
              "    .dataframe tbody tr th:only-of-type {\n",
              "        vertical-align: middle;\n",
              "    }\n",
              "\n",
              "    .dataframe tbody tr th {\n",
              "        vertical-align: top;\n",
              "    }\n",
              "\n",
              "    .dataframe thead th {\n",
              "        text-align: right;\n",
              "    }\n",
              "</style>\n",
              "<table border=\"1\" class=\"dataframe\">\n",
              "  <thead>\n",
              "    <tr style=\"text-align: right;\">\n",
              "      <th></th>\n",
              "      <th>HomePlanet</th>\n",
              "      <th>CryoSleep</th>\n",
              "      <th>Destination</th>\n",
              "      <th>Age</th>\n",
              "      <th>VIP</th>\n",
              "      <th>RoomService</th>\n",
              "      <th>FoodCourt</th>\n",
              "      <th>ShoppingMall</th>\n",
              "      <th>Spa</th>\n",
              "      <th>VRDeck</th>\n",
              "      <th>Cabin_Deck</th>\n",
              "      <th>Cabin_Side</th>\n",
              "    </tr>\n",
              "  </thead>\n",
              "  <tbody>\n",
              "    <tr>\n",
              "      <th>0</th>\n",
              "      <td>Earth</td>\n",
              "      <td>True</td>\n",
              "      <td>TRAPPIST-1e</td>\n",
              "      <td>27.0</td>\n",
              "      <td>False</td>\n",
              "      <td>0.0</td>\n",
              "      <td>0.0</td>\n",
              "      <td>0.0</td>\n",
              "      <td>0.0</td>\n",
              "      <td>0.0</td>\n",
              "      <td>G</td>\n",
              "      <td>S</td>\n",
              "    </tr>\n",
              "    <tr>\n",
              "      <th>1</th>\n",
              "      <td>Earth</td>\n",
              "      <td>False</td>\n",
              "      <td>TRAPPIST-1e</td>\n",
              "      <td>19.0</td>\n",
              "      <td>False</td>\n",
              "      <td>0.0</td>\n",
              "      <td>9.0</td>\n",
              "      <td>0.0</td>\n",
              "      <td>2823.0</td>\n",
              "      <td>0.0</td>\n",
              "      <td>F</td>\n",
              "      <td>S</td>\n",
              "    </tr>\n",
              "    <tr>\n",
              "      <th>2</th>\n",
              "      <td>Europa</td>\n",
              "      <td>True</td>\n",
              "      <td>55 Cancri e</td>\n",
              "      <td>31.0</td>\n",
              "      <td>False</td>\n",
              "      <td>0.0</td>\n",
              "      <td>0.0</td>\n",
              "      <td>0.0</td>\n",
              "      <td>0.0</td>\n",
              "      <td>0.0</td>\n",
              "      <td>C</td>\n",
              "      <td>S</td>\n",
              "    </tr>\n",
              "    <tr>\n",
              "      <th>3</th>\n",
              "      <td>Europa</td>\n",
              "      <td>False</td>\n",
              "      <td>TRAPPIST-1e</td>\n",
              "      <td>38.0</td>\n",
              "      <td>False</td>\n",
              "      <td>0.0</td>\n",
              "      <td>6652.0</td>\n",
              "      <td>0.0</td>\n",
              "      <td>181.0</td>\n",
              "      <td>585.0</td>\n",
              "      <td>C</td>\n",
              "      <td>S</td>\n",
              "    </tr>\n",
              "    <tr>\n",
              "      <th>4</th>\n",
              "      <td>Earth</td>\n",
              "      <td>False</td>\n",
              "      <td>TRAPPIST-1e</td>\n",
              "      <td>20.0</td>\n",
              "      <td>False</td>\n",
              "      <td>10.0</td>\n",
              "      <td>0.0</td>\n",
              "      <td>635.0</td>\n",
              "      <td>0.0</td>\n",
              "      <td>0.0</td>\n",
              "      <td>F</td>\n",
              "      <td>S</td>\n",
              "    </tr>\n",
              "  </tbody>\n",
              "</table>\n",
              "</div>\n",
              "      <button class=\"colab-df-convert\" onclick=\"convertToInteractive('df-877a1c8d-4b54-4ebe-a2a2-81f3f9a2935f')\"\n",
              "              title=\"Convert this dataframe to an interactive table.\"\n",
              "              style=\"display:none;\">\n",
              "        \n",
              "  <svg xmlns=\"http://www.w3.org/2000/svg\" height=\"24px\"viewBox=\"0 0 24 24\"\n",
              "       width=\"24px\">\n",
              "    <path d=\"M0 0h24v24H0V0z\" fill=\"none\"/>\n",
              "    <path d=\"M18.56 5.44l.94 2.06.94-2.06 2.06-.94-2.06-.94-.94-2.06-.94 2.06-2.06.94zm-11 1L8.5 8.5l.94-2.06 2.06-.94-2.06-.94L8.5 2.5l-.94 2.06-2.06.94zm10 10l.94 2.06.94-2.06 2.06-.94-2.06-.94-.94-2.06-.94 2.06-2.06.94z\"/><path d=\"M17.41 7.96l-1.37-1.37c-.4-.4-.92-.59-1.43-.59-.52 0-1.04.2-1.43.59L10.3 9.45l-7.72 7.72c-.78.78-.78 2.05 0 2.83L4 21.41c.39.39.9.59 1.41.59.51 0 1.02-.2 1.41-.59l7.78-7.78 2.81-2.81c.8-.78.8-2.07 0-2.86zM5.41 20L4 18.59l7.72-7.72 1.47 1.35L5.41 20z\"/>\n",
              "  </svg>\n",
              "      </button>\n",
              "      \n",
              "  <style>\n",
              "    .colab-df-container {\n",
              "      display:flex;\n",
              "      flex-wrap:wrap;\n",
              "      gap: 12px;\n",
              "    }\n",
              "\n",
              "    .colab-df-convert {\n",
              "      background-color: #E8F0FE;\n",
              "      border: none;\n",
              "      border-radius: 50%;\n",
              "      cursor: pointer;\n",
              "      display: none;\n",
              "      fill: #1967D2;\n",
              "      height: 32px;\n",
              "      padding: 0 0 0 0;\n",
              "      width: 32px;\n",
              "    }\n",
              "\n",
              "    .colab-df-convert:hover {\n",
              "      background-color: #E2EBFA;\n",
              "      box-shadow: 0px 1px 2px rgba(60, 64, 67, 0.3), 0px 1px 3px 1px rgba(60, 64, 67, 0.15);\n",
              "      fill: #174EA6;\n",
              "    }\n",
              "\n",
              "    [theme=dark] .colab-df-convert {\n",
              "      background-color: #3B4455;\n",
              "      fill: #D2E3FC;\n",
              "    }\n",
              "\n",
              "    [theme=dark] .colab-df-convert:hover {\n",
              "      background-color: #434B5C;\n",
              "      box-shadow: 0px 1px 3px 1px rgba(0, 0, 0, 0.15);\n",
              "      filter: drop-shadow(0px 1px 2px rgba(0, 0, 0, 0.3));\n",
              "      fill: #FFFFFF;\n",
              "    }\n",
              "  </style>\n",
              "\n",
              "      <script>\n",
              "        const buttonEl =\n",
              "          document.querySelector('#df-877a1c8d-4b54-4ebe-a2a2-81f3f9a2935f button.colab-df-convert');\n",
              "        buttonEl.style.display =\n",
              "          google.colab.kernel.accessAllowed ? 'block' : 'none';\n",
              "\n",
              "        async function convertToInteractive(key) {\n",
              "          const element = document.querySelector('#df-877a1c8d-4b54-4ebe-a2a2-81f3f9a2935f');\n",
              "          const dataTable =\n",
              "            await google.colab.kernel.invokeFunction('convertToInteractive',\n",
              "                                                     [key], {});\n",
              "          if (!dataTable) return;\n",
              "\n",
              "          const docLinkHtml = 'Like what you see? Visit the ' +\n",
              "            '<a target=\"_blank\" href=https://colab.research.google.com/notebooks/data_table.ipynb>data table notebook</a>'\n",
              "            + ' to learn more about interactive tables.';\n",
              "          element.innerHTML = '';\n",
              "          dataTable['output_type'] = 'display_data';\n",
              "          await google.colab.output.renderOutput(dataTable, element);\n",
              "          const docLink = document.createElement('div');\n",
              "          docLink.innerHTML = docLinkHtml;\n",
              "          element.appendChild(docLink);\n",
              "        }\n",
              "      </script>\n",
              "    </div>\n",
              "  </div>\n",
              "  "
            ]
          },
          "metadata": {},
          "execution_count": 449
        }
      ],
      "source": [
        "test_cleaned.head()"
      ]
    },
    {
      "cell_type": "markdown",
      "id": "f86fa451",
      "metadata": {
        "id": "f86fa451"
      },
      "source": [
        "**Encoding the Categorical Features**"
      ]
    },
    {
      "cell_type": "code",
      "execution_count": null,
      "id": "10fb11c9",
      "metadata": {
        "id": "10fb11c9"
      },
      "outputs": [],
      "source": [
        "# splitting into independent and dependent features\n",
        "X = train_cleaned.drop('Transported', axis=1)\n",
        "y = train_cleaned['Transported']\n",
        "\n",
        "# using one hot encoding on the categorical columns\n",
        "X = pd.get_dummies(X, drop_first=True) # encoding the training data\n",
        "test_cleaned = pd.get_dummies(test_cleaned, drop_first=True) # encoding the test data"
      ]
    },
    {
      "cell_type": "code",
      "execution_count": null,
      "id": "9a74d031",
      "metadata": {
        "colab": {
          "base_uri": "https://localhost:8080/",
          "height": 287
        },
        "id": "9a74d031",
        "outputId": "191a75e9-ae5c-4ced-9a23-c6537f7f8087"
      },
      "outputs": [
        {
          "output_type": "execute_result",
          "data": {
            "text/plain": [
              "   CryoSleep   Age    VIP  RoomService  FoodCourt  ShoppingMall     Spa  \\\n",
              "0      False  39.0  False          0.0        0.0           0.0     0.0   \n",
              "1      False  24.0  False        109.0        9.0          25.0   549.0   \n",
              "2      False  58.0   True         43.0     3576.0           0.0  6715.0   \n",
              "3      False  33.0  False          0.0     1283.0         371.0  3329.0   \n",
              "4      False  16.0  False        303.0       70.0         151.0   565.0   \n",
              "\n",
              "   VRDeck  HomePlanet_Europa  HomePlanet_Mars  Destination_PSO J318.5-22  \\\n",
              "0     0.0                  1                0                          0   \n",
              "1    44.0                  0                0                          0   \n",
              "2    49.0                  1                0                          0   \n",
              "3   193.0                  1                0                          0   \n",
              "4     2.0                  0                0                          0   \n",
              "\n",
              "   Destination_TRAPPIST-1e  Cabin_Deck_B  Cabin_Deck_C  Cabin_Deck_D  \\\n",
              "0                        1             1             0             0   \n",
              "1                        1             0             0             0   \n",
              "2                        1             0             0             0   \n",
              "3                        1             0             0             0   \n",
              "4                        1             0             0             0   \n",
              "\n",
              "   Cabin_Deck_E  Cabin_Deck_F  Cabin_Deck_G  Cabin_Deck_T  Cabin_Side_S  \n",
              "0             0             0             0             0             0  \n",
              "1             0             1             0             0             1  \n",
              "2             0             0             0             0             1  \n",
              "3             0             0             0             0             1  \n",
              "4             0             1             0             0             1  "
            ],
            "text/html": [
              "\n",
              "  <div id=\"df-96b75e79-6295-42b9-9e85-dcc9bf396e3a\">\n",
              "    <div class=\"colab-df-container\">\n",
              "      <div>\n",
              "<style scoped>\n",
              "    .dataframe tbody tr th:only-of-type {\n",
              "        vertical-align: middle;\n",
              "    }\n",
              "\n",
              "    .dataframe tbody tr th {\n",
              "        vertical-align: top;\n",
              "    }\n",
              "\n",
              "    .dataframe thead th {\n",
              "        text-align: right;\n",
              "    }\n",
              "</style>\n",
              "<table border=\"1\" class=\"dataframe\">\n",
              "  <thead>\n",
              "    <tr style=\"text-align: right;\">\n",
              "      <th></th>\n",
              "      <th>CryoSleep</th>\n",
              "      <th>Age</th>\n",
              "      <th>VIP</th>\n",
              "      <th>RoomService</th>\n",
              "      <th>FoodCourt</th>\n",
              "      <th>ShoppingMall</th>\n",
              "      <th>Spa</th>\n",
              "      <th>VRDeck</th>\n",
              "      <th>HomePlanet_Europa</th>\n",
              "      <th>HomePlanet_Mars</th>\n",
              "      <th>Destination_PSO J318.5-22</th>\n",
              "      <th>Destination_TRAPPIST-1e</th>\n",
              "      <th>Cabin_Deck_B</th>\n",
              "      <th>Cabin_Deck_C</th>\n",
              "      <th>Cabin_Deck_D</th>\n",
              "      <th>Cabin_Deck_E</th>\n",
              "      <th>Cabin_Deck_F</th>\n",
              "      <th>Cabin_Deck_G</th>\n",
              "      <th>Cabin_Deck_T</th>\n",
              "      <th>Cabin_Side_S</th>\n",
              "    </tr>\n",
              "  </thead>\n",
              "  <tbody>\n",
              "    <tr>\n",
              "      <th>0</th>\n",
              "      <td>False</td>\n",
              "      <td>39.0</td>\n",
              "      <td>False</td>\n",
              "      <td>0.0</td>\n",
              "      <td>0.0</td>\n",
              "      <td>0.0</td>\n",
              "      <td>0.0</td>\n",
              "      <td>0.0</td>\n",
              "      <td>1</td>\n",
              "      <td>0</td>\n",
              "      <td>0</td>\n",
              "      <td>1</td>\n",
              "      <td>1</td>\n",
              "      <td>0</td>\n",
              "      <td>0</td>\n",
              "      <td>0</td>\n",
              "      <td>0</td>\n",
              "      <td>0</td>\n",
              "      <td>0</td>\n",
              "      <td>0</td>\n",
              "    </tr>\n",
              "    <tr>\n",
              "      <th>1</th>\n",
              "      <td>False</td>\n",
              "      <td>24.0</td>\n",
              "      <td>False</td>\n",
              "      <td>109.0</td>\n",
              "      <td>9.0</td>\n",
              "      <td>25.0</td>\n",
              "      <td>549.0</td>\n",
              "      <td>44.0</td>\n",
              "      <td>0</td>\n",
              "      <td>0</td>\n",
              "      <td>0</td>\n",
              "      <td>1</td>\n",
              "      <td>0</td>\n",
              "      <td>0</td>\n",
              "      <td>0</td>\n",
              "      <td>0</td>\n",
              "      <td>1</td>\n",
              "      <td>0</td>\n",
              "      <td>0</td>\n",
              "      <td>1</td>\n",
              "    </tr>\n",
              "    <tr>\n",
              "      <th>2</th>\n",
              "      <td>False</td>\n",
              "      <td>58.0</td>\n",
              "      <td>True</td>\n",
              "      <td>43.0</td>\n",
              "      <td>3576.0</td>\n",
              "      <td>0.0</td>\n",
              "      <td>6715.0</td>\n",
              "      <td>49.0</td>\n",
              "      <td>1</td>\n",
              "      <td>0</td>\n",
              "      <td>0</td>\n",
              "      <td>1</td>\n",
              "      <td>0</td>\n",
              "      <td>0</td>\n",
              "      <td>0</td>\n",
              "      <td>0</td>\n",
              "      <td>0</td>\n",
              "      <td>0</td>\n",
              "      <td>0</td>\n",
              "      <td>1</td>\n",
              "    </tr>\n",
              "    <tr>\n",
              "      <th>3</th>\n",
              "      <td>False</td>\n",
              "      <td>33.0</td>\n",
              "      <td>False</td>\n",
              "      <td>0.0</td>\n",
              "      <td>1283.0</td>\n",
              "      <td>371.0</td>\n",
              "      <td>3329.0</td>\n",
              "      <td>193.0</td>\n",
              "      <td>1</td>\n",
              "      <td>0</td>\n",
              "      <td>0</td>\n",
              "      <td>1</td>\n",
              "      <td>0</td>\n",
              "      <td>0</td>\n",
              "      <td>0</td>\n",
              "      <td>0</td>\n",
              "      <td>0</td>\n",
              "      <td>0</td>\n",
              "      <td>0</td>\n",
              "      <td>1</td>\n",
              "    </tr>\n",
              "    <tr>\n",
              "      <th>4</th>\n",
              "      <td>False</td>\n",
              "      <td>16.0</td>\n",
              "      <td>False</td>\n",
              "      <td>303.0</td>\n",
              "      <td>70.0</td>\n",
              "      <td>151.0</td>\n",
              "      <td>565.0</td>\n",
              "      <td>2.0</td>\n",
              "      <td>0</td>\n",
              "      <td>0</td>\n",
              "      <td>0</td>\n",
              "      <td>1</td>\n",
              "      <td>0</td>\n",
              "      <td>0</td>\n",
              "      <td>0</td>\n",
              "      <td>0</td>\n",
              "      <td>1</td>\n",
              "      <td>0</td>\n",
              "      <td>0</td>\n",
              "      <td>1</td>\n",
              "    </tr>\n",
              "  </tbody>\n",
              "</table>\n",
              "</div>\n",
              "      <button class=\"colab-df-convert\" onclick=\"convertToInteractive('df-96b75e79-6295-42b9-9e85-dcc9bf396e3a')\"\n",
              "              title=\"Convert this dataframe to an interactive table.\"\n",
              "              style=\"display:none;\">\n",
              "        \n",
              "  <svg xmlns=\"http://www.w3.org/2000/svg\" height=\"24px\"viewBox=\"0 0 24 24\"\n",
              "       width=\"24px\">\n",
              "    <path d=\"M0 0h24v24H0V0z\" fill=\"none\"/>\n",
              "    <path d=\"M18.56 5.44l.94 2.06.94-2.06 2.06-.94-2.06-.94-.94-2.06-.94 2.06-2.06.94zm-11 1L8.5 8.5l.94-2.06 2.06-.94-2.06-.94L8.5 2.5l-.94 2.06-2.06.94zm10 10l.94 2.06.94-2.06 2.06-.94-2.06-.94-.94-2.06-.94 2.06-2.06.94z\"/><path d=\"M17.41 7.96l-1.37-1.37c-.4-.4-.92-.59-1.43-.59-.52 0-1.04.2-1.43.59L10.3 9.45l-7.72 7.72c-.78.78-.78 2.05 0 2.83L4 21.41c.39.39.9.59 1.41.59.51 0 1.02-.2 1.41-.59l7.78-7.78 2.81-2.81c.8-.78.8-2.07 0-2.86zM5.41 20L4 18.59l7.72-7.72 1.47 1.35L5.41 20z\"/>\n",
              "  </svg>\n",
              "      </button>\n",
              "      \n",
              "  <style>\n",
              "    .colab-df-container {\n",
              "      display:flex;\n",
              "      flex-wrap:wrap;\n",
              "      gap: 12px;\n",
              "    }\n",
              "\n",
              "    .colab-df-convert {\n",
              "      background-color: #E8F0FE;\n",
              "      border: none;\n",
              "      border-radius: 50%;\n",
              "      cursor: pointer;\n",
              "      display: none;\n",
              "      fill: #1967D2;\n",
              "      height: 32px;\n",
              "      padding: 0 0 0 0;\n",
              "      width: 32px;\n",
              "    }\n",
              "\n",
              "    .colab-df-convert:hover {\n",
              "      background-color: #E2EBFA;\n",
              "      box-shadow: 0px 1px 2px rgba(60, 64, 67, 0.3), 0px 1px 3px 1px rgba(60, 64, 67, 0.15);\n",
              "      fill: #174EA6;\n",
              "    }\n",
              "\n",
              "    [theme=dark] .colab-df-convert {\n",
              "      background-color: #3B4455;\n",
              "      fill: #D2E3FC;\n",
              "    }\n",
              "\n",
              "    [theme=dark] .colab-df-convert:hover {\n",
              "      background-color: #434B5C;\n",
              "      box-shadow: 0px 1px 3px 1px rgba(0, 0, 0, 0.15);\n",
              "      filter: drop-shadow(0px 1px 2px rgba(0, 0, 0, 0.3));\n",
              "      fill: #FFFFFF;\n",
              "    }\n",
              "  </style>\n",
              "\n",
              "      <script>\n",
              "        const buttonEl =\n",
              "          document.querySelector('#df-96b75e79-6295-42b9-9e85-dcc9bf396e3a button.colab-df-convert');\n",
              "        buttonEl.style.display =\n",
              "          google.colab.kernel.accessAllowed ? 'block' : 'none';\n",
              "\n",
              "        async function convertToInteractive(key) {\n",
              "          const element = document.querySelector('#df-96b75e79-6295-42b9-9e85-dcc9bf396e3a');\n",
              "          const dataTable =\n",
              "            await google.colab.kernel.invokeFunction('convertToInteractive',\n",
              "                                                     [key], {});\n",
              "          if (!dataTable) return;\n",
              "\n",
              "          const docLinkHtml = 'Like what you see? Visit the ' +\n",
              "            '<a target=\"_blank\" href=https://colab.research.google.com/notebooks/data_table.ipynb>data table notebook</a>'\n",
              "            + ' to learn more about interactive tables.';\n",
              "          element.innerHTML = '';\n",
              "          dataTable['output_type'] = 'display_data';\n",
              "          await google.colab.output.renderOutput(dataTable, element);\n",
              "          const docLink = document.createElement('div');\n",
              "          docLink.innerHTML = docLinkHtml;\n",
              "          element.appendChild(docLink);\n",
              "        }\n",
              "      </script>\n",
              "    </div>\n",
              "  </div>\n",
              "  "
            ]
          },
          "metadata": {},
          "execution_count": 451
        }
      ],
      "source": [
        "X.head()"
      ]
    },
    {
      "cell_type": "code",
      "execution_count": null,
      "id": "82ad25c1",
      "metadata": {
        "id": "82ad25c1"
      },
      "outputs": [],
      "source": [
        "dict_map = {True: 1,\n",
        "           False: 0}"
      ]
    },
    {
      "cell_type": "code",
      "execution_count": null,
      "id": "ed489090",
      "metadata": {
        "id": "ed489090"
      },
      "outputs": [],
      "source": [
        "# encoding CryoSleep and VIP\n",
        "for column in ['CryoSleep', 'VIP']:\n",
        "    X[column] = X[column].map(dict_map)\n",
        "    test_cleaned[column] = test_cleaned[column].map(dict_map)"
      ]
    },
    {
      "cell_type": "code",
      "execution_count": null,
      "id": "63057b18",
      "metadata": {
        "colab": {
          "base_uri": "https://localhost:8080/",
          "height": 193
        },
        "id": "63057b18",
        "outputId": "98a3e18d-aeae-4b3a-e91f-a40b64758101"
      },
      "outputs": [
        {
          "output_type": "execute_result",
          "data": {
            "text/plain": [
              "   CryoSleep   Age  VIP  RoomService  FoodCourt  ShoppingMall    Spa  VRDeck  \\\n",
              "0          0  39.0    0          0.0        0.0           0.0    0.0     0.0   \n",
              "1          0  24.0    0        109.0        9.0          25.0  549.0    44.0   \n",
              "\n",
              "   HomePlanet_Europa  HomePlanet_Mars  Destination_PSO J318.5-22  \\\n",
              "0                  1                0                          0   \n",
              "1                  0                0                          0   \n",
              "\n",
              "   Destination_TRAPPIST-1e  Cabin_Deck_B  Cabin_Deck_C  Cabin_Deck_D  \\\n",
              "0                        1             1             0             0   \n",
              "1                        1             0             0             0   \n",
              "\n",
              "   Cabin_Deck_E  Cabin_Deck_F  Cabin_Deck_G  Cabin_Deck_T  Cabin_Side_S  \n",
              "0             0             0             0             0             0  \n",
              "1             0             1             0             0             1  "
            ],
            "text/html": [
              "\n",
              "  <div id=\"df-cc28f3af-7cdd-41f0-90bd-fb34ab2014f5\">\n",
              "    <div class=\"colab-df-container\">\n",
              "      <div>\n",
              "<style scoped>\n",
              "    .dataframe tbody tr th:only-of-type {\n",
              "        vertical-align: middle;\n",
              "    }\n",
              "\n",
              "    .dataframe tbody tr th {\n",
              "        vertical-align: top;\n",
              "    }\n",
              "\n",
              "    .dataframe thead th {\n",
              "        text-align: right;\n",
              "    }\n",
              "</style>\n",
              "<table border=\"1\" class=\"dataframe\">\n",
              "  <thead>\n",
              "    <tr style=\"text-align: right;\">\n",
              "      <th></th>\n",
              "      <th>CryoSleep</th>\n",
              "      <th>Age</th>\n",
              "      <th>VIP</th>\n",
              "      <th>RoomService</th>\n",
              "      <th>FoodCourt</th>\n",
              "      <th>ShoppingMall</th>\n",
              "      <th>Spa</th>\n",
              "      <th>VRDeck</th>\n",
              "      <th>HomePlanet_Europa</th>\n",
              "      <th>HomePlanet_Mars</th>\n",
              "      <th>Destination_PSO J318.5-22</th>\n",
              "      <th>Destination_TRAPPIST-1e</th>\n",
              "      <th>Cabin_Deck_B</th>\n",
              "      <th>Cabin_Deck_C</th>\n",
              "      <th>Cabin_Deck_D</th>\n",
              "      <th>Cabin_Deck_E</th>\n",
              "      <th>Cabin_Deck_F</th>\n",
              "      <th>Cabin_Deck_G</th>\n",
              "      <th>Cabin_Deck_T</th>\n",
              "      <th>Cabin_Side_S</th>\n",
              "    </tr>\n",
              "  </thead>\n",
              "  <tbody>\n",
              "    <tr>\n",
              "      <th>0</th>\n",
              "      <td>0</td>\n",
              "      <td>39.0</td>\n",
              "      <td>0</td>\n",
              "      <td>0.0</td>\n",
              "      <td>0.0</td>\n",
              "      <td>0.0</td>\n",
              "      <td>0.0</td>\n",
              "      <td>0.0</td>\n",
              "      <td>1</td>\n",
              "      <td>0</td>\n",
              "      <td>0</td>\n",
              "      <td>1</td>\n",
              "      <td>1</td>\n",
              "      <td>0</td>\n",
              "      <td>0</td>\n",
              "      <td>0</td>\n",
              "      <td>0</td>\n",
              "      <td>0</td>\n",
              "      <td>0</td>\n",
              "      <td>0</td>\n",
              "    </tr>\n",
              "    <tr>\n",
              "      <th>1</th>\n",
              "      <td>0</td>\n",
              "      <td>24.0</td>\n",
              "      <td>0</td>\n",
              "      <td>109.0</td>\n",
              "      <td>9.0</td>\n",
              "      <td>25.0</td>\n",
              "      <td>549.0</td>\n",
              "      <td>44.0</td>\n",
              "      <td>0</td>\n",
              "      <td>0</td>\n",
              "      <td>0</td>\n",
              "      <td>1</td>\n",
              "      <td>0</td>\n",
              "      <td>0</td>\n",
              "      <td>0</td>\n",
              "      <td>0</td>\n",
              "      <td>1</td>\n",
              "      <td>0</td>\n",
              "      <td>0</td>\n",
              "      <td>1</td>\n",
              "    </tr>\n",
              "  </tbody>\n",
              "</table>\n",
              "</div>\n",
              "      <button class=\"colab-df-convert\" onclick=\"convertToInteractive('df-cc28f3af-7cdd-41f0-90bd-fb34ab2014f5')\"\n",
              "              title=\"Convert this dataframe to an interactive table.\"\n",
              "              style=\"display:none;\">\n",
              "        \n",
              "  <svg xmlns=\"http://www.w3.org/2000/svg\" height=\"24px\"viewBox=\"0 0 24 24\"\n",
              "       width=\"24px\">\n",
              "    <path d=\"M0 0h24v24H0V0z\" fill=\"none\"/>\n",
              "    <path d=\"M18.56 5.44l.94 2.06.94-2.06 2.06-.94-2.06-.94-.94-2.06-.94 2.06-2.06.94zm-11 1L8.5 8.5l.94-2.06 2.06-.94-2.06-.94L8.5 2.5l-.94 2.06-2.06.94zm10 10l.94 2.06.94-2.06 2.06-.94-2.06-.94-.94-2.06-.94 2.06-2.06.94z\"/><path d=\"M17.41 7.96l-1.37-1.37c-.4-.4-.92-.59-1.43-.59-.52 0-1.04.2-1.43.59L10.3 9.45l-7.72 7.72c-.78.78-.78 2.05 0 2.83L4 21.41c.39.39.9.59 1.41.59.51 0 1.02-.2 1.41-.59l7.78-7.78 2.81-2.81c.8-.78.8-2.07 0-2.86zM5.41 20L4 18.59l7.72-7.72 1.47 1.35L5.41 20z\"/>\n",
              "  </svg>\n",
              "      </button>\n",
              "      \n",
              "  <style>\n",
              "    .colab-df-container {\n",
              "      display:flex;\n",
              "      flex-wrap:wrap;\n",
              "      gap: 12px;\n",
              "    }\n",
              "\n",
              "    .colab-df-convert {\n",
              "      background-color: #E8F0FE;\n",
              "      border: none;\n",
              "      border-radius: 50%;\n",
              "      cursor: pointer;\n",
              "      display: none;\n",
              "      fill: #1967D2;\n",
              "      height: 32px;\n",
              "      padding: 0 0 0 0;\n",
              "      width: 32px;\n",
              "    }\n",
              "\n",
              "    .colab-df-convert:hover {\n",
              "      background-color: #E2EBFA;\n",
              "      box-shadow: 0px 1px 2px rgba(60, 64, 67, 0.3), 0px 1px 3px 1px rgba(60, 64, 67, 0.15);\n",
              "      fill: #174EA6;\n",
              "    }\n",
              "\n",
              "    [theme=dark] .colab-df-convert {\n",
              "      background-color: #3B4455;\n",
              "      fill: #D2E3FC;\n",
              "    }\n",
              "\n",
              "    [theme=dark] .colab-df-convert:hover {\n",
              "      background-color: #434B5C;\n",
              "      box-shadow: 0px 1px 3px 1px rgba(0, 0, 0, 0.15);\n",
              "      filter: drop-shadow(0px 1px 2px rgba(0, 0, 0, 0.3));\n",
              "      fill: #FFFFFF;\n",
              "    }\n",
              "  </style>\n",
              "\n",
              "      <script>\n",
              "        const buttonEl =\n",
              "          document.querySelector('#df-cc28f3af-7cdd-41f0-90bd-fb34ab2014f5 button.colab-df-convert');\n",
              "        buttonEl.style.display =\n",
              "          google.colab.kernel.accessAllowed ? 'block' : 'none';\n",
              "\n",
              "        async function convertToInteractive(key) {\n",
              "          const element = document.querySelector('#df-cc28f3af-7cdd-41f0-90bd-fb34ab2014f5');\n",
              "          const dataTable =\n",
              "            await google.colab.kernel.invokeFunction('convertToInteractive',\n",
              "                                                     [key], {});\n",
              "          if (!dataTable) return;\n",
              "\n",
              "          const docLinkHtml = 'Like what you see? Visit the ' +\n",
              "            '<a target=\"_blank\" href=https://colab.research.google.com/notebooks/data_table.ipynb>data table notebook</a>'\n",
              "            + ' to learn more about interactive tables.';\n",
              "          element.innerHTML = '';\n",
              "          dataTable['output_type'] = 'display_data';\n",
              "          await google.colab.output.renderOutput(dataTable, element);\n",
              "          const docLink = document.createElement('div');\n",
              "          docLink.innerHTML = docLinkHtml;\n",
              "          element.appendChild(docLink);\n",
              "        }\n",
              "      </script>\n",
              "    </div>\n",
              "  </div>\n",
              "  "
            ]
          },
          "metadata": {},
          "execution_count": 454
        }
      ],
      "source": [
        "X.head(2)"
      ]
    },
    {
      "cell_type": "code",
      "execution_count": null,
      "id": "9ff25249",
      "metadata": {
        "colab": {
          "base_uri": "https://localhost:8080/",
          "height": 193
        },
        "id": "9ff25249",
        "outputId": "3e64626c-8b89-4bb6-9a6c-b3f69fe7c3bd"
      },
      "outputs": [
        {
          "output_type": "execute_result",
          "data": {
            "text/plain": [
              "   CryoSleep   Age  VIP  RoomService  FoodCourt  ShoppingMall     Spa  VRDeck  \\\n",
              "0          1  27.0    0          0.0        0.0           0.0     0.0     0.0   \n",
              "1          0  19.0    0          0.0        9.0           0.0  2823.0     0.0   \n",
              "\n",
              "   HomePlanet_Europa  HomePlanet_Mars  Destination_PSO J318.5-22  \\\n",
              "0                  0                0                          0   \n",
              "1                  0                0                          0   \n",
              "\n",
              "   Destination_TRAPPIST-1e  Cabin_Deck_B  Cabin_Deck_C  Cabin_Deck_D  \\\n",
              "0                        1             0             0             0   \n",
              "1                        1             0             0             0   \n",
              "\n",
              "   Cabin_Deck_E  Cabin_Deck_F  Cabin_Deck_G  Cabin_Deck_T  Cabin_Side_S  \n",
              "0             0             0             1             0             1  \n",
              "1             0             1             0             0             1  "
            ],
            "text/html": [
              "\n",
              "  <div id=\"df-87322c3c-fcac-4560-acb9-c02a5258d73f\">\n",
              "    <div class=\"colab-df-container\">\n",
              "      <div>\n",
              "<style scoped>\n",
              "    .dataframe tbody tr th:only-of-type {\n",
              "        vertical-align: middle;\n",
              "    }\n",
              "\n",
              "    .dataframe tbody tr th {\n",
              "        vertical-align: top;\n",
              "    }\n",
              "\n",
              "    .dataframe thead th {\n",
              "        text-align: right;\n",
              "    }\n",
              "</style>\n",
              "<table border=\"1\" class=\"dataframe\">\n",
              "  <thead>\n",
              "    <tr style=\"text-align: right;\">\n",
              "      <th></th>\n",
              "      <th>CryoSleep</th>\n",
              "      <th>Age</th>\n",
              "      <th>VIP</th>\n",
              "      <th>RoomService</th>\n",
              "      <th>FoodCourt</th>\n",
              "      <th>ShoppingMall</th>\n",
              "      <th>Spa</th>\n",
              "      <th>VRDeck</th>\n",
              "      <th>HomePlanet_Europa</th>\n",
              "      <th>HomePlanet_Mars</th>\n",
              "      <th>Destination_PSO J318.5-22</th>\n",
              "      <th>Destination_TRAPPIST-1e</th>\n",
              "      <th>Cabin_Deck_B</th>\n",
              "      <th>Cabin_Deck_C</th>\n",
              "      <th>Cabin_Deck_D</th>\n",
              "      <th>Cabin_Deck_E</th>\n",
              "      <th>Cabin_Deck_F</th>\n",
              "      <th>Cabin_Deck_G</th>\n",
              "      <th>Cabin_Deck_T</th>\n",
              "      <th>Cabin_Side_S</th>\n",
              "    </tr>\n",
              "  </thead>\n",
              "  <tbody>\n",
              "    <tr>\n",
              "      <th>0</th>\n",
              "      <td>1</td>\n",
              "      <td>27.0</td>\n",
              "      <td>0</td>\n",
              "      <td>0.0</td>\n",
              "      <td>0.0</td>\n",
              "      <td>0.0</td>\n",
              "      <td>0.0</td>\n",
              "      <td>0.0</td>\n",
              "      <td>0</td>\n",
              "      <td>0</td>\n",
              "      <td>0</td>\n",
              "      <td>1</td>\n",
              "      <td>0</td>\n",
              "      <td>0</td>\n",
              "      <td>0</td>\n",
              "      <td>0</td>\n",
              "      <td>0</td>\n",
              "      <td>1</td>\n",
              "      <td>0</td>\n",
              "      <td>1</td>\n",
              "    </tr>\n",
              "    <tr>\n",
              "      <th>1</th>\n",
              "      <td>0</td>\n",
              "      <td>19.0</td>\n",
              "      <td>0</td>\n",
              "      <td>0.0</td>\n",
              "      <td>9.0</td>\n",
              "      <td>0.0</td>\n",
              "      <td>2823.0</td>\n",
              "      <td>0.0</td>\n",
              "      <td>0</td>\n",
              "      <td>0</td>\n",
              "      <td>0</td>\n",
              "      <td>1</td>\n",
              "      <td>0</td>\n",
              "      <td>0</td>\n",
              "      <td>0</td>\n",
              "      <td>0</td>\n",
              "      <td>1</td>\n",
              "      <td>0</td>\n",
              "      <td>0</td>\n",
              "      <td>1</td>\n",
              "    </tr>\n",
              "  </tbody>\n",
              "</table>\n",
              "</div>\n",
              "      <button class=\"colab-df-convert\" onclick=\"convertToInteractive('df-87322c3c-fcac-4560-acb9-c02a5258d73f')\"\n",
              "              title=\"Convert this dataframe to an interactive table.\"\n",
              "              style=\"display:none;\">\n",
              "        \n",
              "  <svg xmlns=\"http://www.w3.org/2000/svg\" height=\"24px\"viewBox=\"0 0 24 24\"\n",
              "       width=\"24px\">\n",
              "    <path d=\"M0 0h24v24H0V0z\" fill=\"none\"/>\n",
              "    <path d=\"M18.56 5.44l.94 2.06.94-2.06 2.06-.94-2.06-.94-.94-2.06-.94 2.06-2.06.94zm-11 1L8.5 8.5l.94-2.06 2.06-.94-2.06-.94L8.5 2.5l-.94 2.06-2.06.94zm10 10l.94 2.06.94-2.06 2.06-.94-2.06-.94-.94-2.06-.94 2.06-2.06.94z\"/><path d=\"M17.41 7.96l-1.37-1.37c-.4-.4-.92-.59-1.43-.59-.52 0-1.04.2-1.43.59L10.3 9.45l-7.72 7.72c-.78.78-.78 2.05 0 2.83L4 21.41c.39.39.9.59 1.41.59.51 0 1.02-.2 1.41-.59l7.78-7.78 2.81-2.81c.8-.78.8-2.07 0-2.86zM5.41 20L4 18.59l7.72-7.72 1.47 1.35L5.41 20z\"/>\n",
              "  </svg>\n",
              "      </button>\n",
              "      \n",
              "  <style>\n",
              "    .colab-df-container {\n",
              "      display:flex;\n",
              "      flex-wrap:wrap;\n",
              "      gap: 12px;\n",
              "    }\n",
              "\n",
              "    .colab-df-convert {\n",
              "      background-color: #E8F0FE;\n",
              "      border: none;\n",
              "      border-radius: 50%;\n",
              "      cursor: pointer;\n",
              "      display: none;\n",
              "      fill: #1967D2;\n",
              "      height: 32px;\n",
              "      padding: 0 0 0 0;\n",
              "      width: 32px;\n",
              "    }\n",
              "\n",
              "    .colab-df-convert:hover {\n",
              "      background-color: #E2EBFA;\n",
              "      box-shadow: 0px 1px 2px rgba(60, 64, 67, 0.3), 0px 1px 3px 1px rgba(60, 64, 67, 0.15);\n",
              "      fill: #174EA6;\n",
              "    }\n",
              "\n",
              "    [theme=dark] .colab-df-convert {\n",
              "      background-color: #3B4455;\n",
              "      fill: #D2E3FC;\n",
              "    }\n",
              "\n",
              "    [theme=dark] .colab-df-convert:hover {\n",
              "      background-color: #434B5C;\n",
              "      box-shadow: 0px 1px 3px 1px rgba(0, 0, 0, 0.15);\n",
              "      filter: drop-shadow(0px 1px 2px rgba(0, 0, 0, 0.3));\n",
              "      fill: #FFFFFF;\n",
              "    }\n",
              "  </style>\n",
              "\n",
              "      <script>\n",
              "        const buttonEl =\n",
              "          document.querySelector('#df-87322c3c-fcac-4560-acb9-c02a5258d73f button.colab-df-convert');\n",
              "        buttonEl.style.display =\n",
              "          google.colab.kernel.accessAllowed ? 'block' : 'none';\n",
              "\n",
              "        async function convertToInteractive(key) {\n",
              "          const element = document.querySelector('#df-87322c3c-fcac-4560-acb9-c02a5258d73f');\n",
              "          const dataTable =\n",
              "            await google.colab.kernel.invokeFunction('convertToInteractive',\n",
              "                                                     [key], {});\n",
              "          if (!dataTable) return;\n",
              "\n",
              "          const docLinkHtml = 'Like what you see? Visit the ' +\n",
              "            '<a target=\"_blank\" href=https://colab.research.google.com/notebooks/data_table.ipynb>data table notebook</a>'\n",
              "            + ' to learn more about interactive tables.';\n",
              "          element.innerHTML = '';\n",
              "          dataTable['output_type'] = 'display_data';\n",
              "          await google.colab.output.renderOutput(dataTable, element);\n",
              "          const docLink = document.createElement('div');\n",
              "          docLink.innerHTML = docLinkHtml;\n",
              "          element.appendChild(docLink);\n",
              "        }\n",
              "      </script>\n",
              "    </div>\n",
              "  </div>\n",
              "  "
            ]
          },
          "metadata": {},
          "execution_count": 455
        }
      ],
      "source": [
        "test_cleaned.head(2)"
      ]
    },
    {
      "cell_type": "markdown",
      "id": "aef5aa5b",
      "metadata": {
        "id": "aef5aa5b"
      },
      "source": [
        "# MACHINE LEARNING"
      ]
    },
    {
      "cell_type": "code",
      "execution_count": null,
      "id": "d3dced5e",
      "metadata": {
        "id": "d3dced5e"
      },
      "outputs": [],
      "source": [
        "y = y.map(dict_map)"
      ]
    },
    {
      "cell_type": "code",
      "execution_count": null,
      "id": "741375cd",
      "metadata": {
        "id": "741375cd"
      },
      "outputs": [],
      "source": [
        "from sklearn.metrics import confusion_matrix, classification_report, ConfusionMatrixDisplay"
      ]
    },
    {
      "cell_type": "code",
      "execution_count": null,
      "id": "b5323380",
      "metadata": {
        "id": "b5323380"
      },
      "outputs": [],
      "source": [
        "from sklearn.model_selection import train_test_split"
      ]
    },
    {
      "cell_type": "code",
      "execution_count": null,
      "id": "54c253bb",
      "metadata": {
        "id": "54c253bb"
      },
      "outputs": [],
      "source": [
        "X_train, X_test, y_train, y_test = train_test_split(X, y, test_size=0.3, random_state=101)"
      ]
    },
    {
      "cell_type": "code",
      "execution_count": null,
      "id": "b4aa9946",
      "metadata": {
        "colab": {
          "base_uri": "https://localhost:8080/",
          "height": 505
        },
        "id": "b4aa9946",
        "outputId": "cadd709c-df0f-4dc3-ec3e-c32185a2140f"
      },
      "outputs": [
        {
          "output_type": "execute_result",
          "data": {
            "text/plain": [
              "      CryoSleep   Age  VIP  RoomService  FoodCourt  ShoppingMall     Spa  \\\n",
              "8064          0  47.0    0        187.0      268.0         977.0  3441.0   \n",
              "3669          0  60.0    1       2739.0        0.0           0.0     0.0   \n",
              "3689          1  20.0    0          0.0        0.0           0.0     0.0   \n",
              "4180          1  29.0    0          0.0        0.0           0.0     0.0   \n",
              "257           1  14.0    0          0.0        0.0           0.0     0.0   \n",
              "...         ...   ...  ...          ...        ...           ...     ...   \n",
              "599           0  44.0    0        103.0        0.0          18.0  1197.0   \n",
              "5695          0   8.0    0          0.0        0.0           0.0     0.0   \n",
              "8006          1  19.0    0          0.0        0.0           0.0     0.0   \n",
              "1361          0  20.0    0          0.0      258.0         331.0   133.0   \n",
              "1547          0  19.0    0        414.0        0.0          66.0   307.0   \n",
              "\n",
              "      VRDeck  HomePlanet_Europa  HomePlanet_Mars  Destination_PSO J318.5-22  \\\n",
              "8064   236.0                  1                0                          0   \n",
              "3669     0.0                  0                1                          0   \n",
              "3689     0.0                  0                0                          1   \n",
              "4180     0.0                  1                0                          0   \n",
              "257      0.0                  1                0                          0   \n",
              "...      ...                ...              ...                        ...   \n",
              "599      1.0                  0                0                          0   \n",
              "5695     0.0                  0                1                          0   \n",
              "8006     0.0                  0                0                          1   \n",
              "1361     0.0                  0                0                          0   \n",
              "1547     0.0                  0                0                          0   \n",
              "\n",
              "      Destination_TRAPPIST-1e  Cabin_Deck_B  Cabin_Deck_C  Cabin_Deck_D  \\\n",
              "8064                        1             0             0             0   \n",
              "3669                        1             0             0             1   \n",
              "3689                        0             0             0             0   \n",
              "4180                        1             1             0             0   \n",
              "257                         1             0             0             0   \n",
              "...                       ...           ...           ...           ...   \n",
              "599                         1             0             0             0   \n",
              "5695                        1             0             0             0   \n",
              "8006                        0             0             0             0   \n",
              "1361                        1             0             0             0   \n",
              "1547                        1             0             0             0   \n",
              "\n",
              "      Cabin_Deck_E  Cabin_Deck_F  Cabin_Deck_G  Cabin_Deck_T  Cabin_Side_S  \n",
              "8064             1             0             0             0             1  \n",
              "3669             0             0             0             0             0  \n",
              "3689             0             0             1             0             0  \n",
              "4180             0             0             0             0             0  \n",
              "257              1             0             0             0             0  \n",
              "...            ...           ...           ...           ...           ...  \n",
              "599              0             1             0             0             0  \n",
              "5695             1             0             0             0             0  \n",
              "8006             0             0             1             0             1  \n",
              "1361             0             0             1             0             0  \n",
              "1547             1             0             0             0             1  \n",
              "\n",
              "[6085 rows x 20 columns]"
            ],
            "text/html": [
              "\n",
              "  <div id=\"df-90e07676-9c4c-4dda-8544-552ffe502679\">\n",
              "    <div class=\"colab-df-container\">\n",
              "      <div>\n",
              "<style scoped>\n",
              "    .dataframe tbody tr th:only-of-type {\n",
              "        vertical-align: middle;\n",
              "    }\n",
              "\n",
              "    .dataframe tbody tr th {\n",
              "        vertical-align: top;\n",
              "    }\n",
              "\n",
              "    .dataframe thead th {\n",
              "        text-align: right;\n",
              "    }\n",
              "</style>\n",
              "<table border=\"1\" class=\"dataframe\">\n",
              "  <thead>\n",
              "    <tr style=\"text-align: right;\">\n",
              "      <th></th>\n",
              "      <th>CryoSleep</th>\n",
              "      <th>Age</th>\n",
              "      <th>VIP</th>\n",
              "      <th>RoomService</th>\n",
              "      <th>FoodCourt</th>\n",
              "      <th>ShoppingMall</th>\n",
              "      <th>Spa</th>\n",
              "      <th>VRDeck</th>\n",
              "      <th>HomePlanet_Europa</th>\n",
              "      <th>HomePlanet_Mars</th>\n",
              "      <th>Destination_PSO J318.5-22</th>\n",
              "      <th>Destination_TRAPPIST-1e</th>\n",
              "      <th>Cabin_Deck_B</th>\n",
              "      <th>Cabin_Deck_C</th>\n",
              "      <th>Cabin_Deck_D</th>\n",
              "      <th>Cabin_Deck_E</th>\n",
              "      <th>Cabin_Deck_F</th>\n",
              "      <th>Cabin_Deck_G</th>\n",
              "      <th>Cabin_Deck_T</th>\n",
              "      <th>Cabin_Side_S</th>\n",
              "    </tr>\n",
              "  </thead>\n",
              "  <tbody>\n",
              "    <tr>\n",
              "      <th>8064</th>\n",
              "      <td>0</td>\n",
              "      <td>47.0</td>\n",
              "      <td>0</td>\n",
              "      <td>187.0</td>\n",
              "      <td>268.0</td>\n",
              "      <td>977.0</td>\n",
              "      <td>3441.0</td>\n",
              "      <td>236.0</td>\n",
              "      <td>1</td>\n",
              "      <td>0</td>\n",
              "      <td>0</td>\n",
              "      <td>1</td>\n",
              "      <td>0</td>\n",
              "      <td>0</td>\n",
              "      <td>0</td>\n",
              "      <td>1</td>\n",
              "      <td>0</td>\n",
              "      <td>0</td>\n",
              "      <td>0</td>\n",
              "      <td>1</td>\n",
              "    </tr>\n",
              "    <tr>\n",
              "      <th>3669</th>\n",
              "      <td>0</td>\n",
              "      <td>60.0</td>\n",
              "      <td>1</td>\n",
              "      <td>2739.0</td>\n",
              "      <td>0.0</td>\n",
              "      <td>0.0</td>\n",
              "      <td>0.0</td>\n",
              "      <td>0.0</td>\n",
              "      <td>0</td>\n",
              "      <td>1</td>\n",
              "      <td>0</td>\n",
              "      <td>1</td>\n",
              "      <td>0</td>\n",
              "      <td>0</td>\n",
              "      <td>1</td>\n",
              "      <td>0</td>\n",
              "      <td>0</td>\n",
              "      <td>0</td>\n",
              "      <td>0</td>\n",
              "      <td>0</td>\n",
              "    </tr>\n",
              "    <tr>\n",
              "      <th>3689</th>\n",
              "      <td>1</td>\n",
              "      <td>20.0</td>\n",
              "      <td>0</td>\n",
              "      <td>0.0</td>\n",
              "      <td>0.0</td>\n",
              "      <td>0.0</td>\n",
              "      <td>0.0</td>\n",
              "      <td>0.0</td>\n",
              "      <td>0</td>\n",
              "      <td>0</td>\n",
              "      <td>1</td>\n",
              "      <td>0</td>\n",
              "      <td>0</td>\n",
              "      <td>0</td>\n",
              "      <td>0</td>\n",
              "      <td>0</td>\n",
              "      <td>0</td>\n",
              "      <td>1</td>\n",
              "      <td>0</td>\n",
              "      <td>0</td>\n",
              "    </tr>\n",
              "    <tr>\n",
              "      <th>4180</th>\n",
              "      <td>1</td>\n",
              "      <td>29.0</td>\n",
              "      <td>0</td>\n",
              "      <td>0.0</td>\n",
              "      <td>0.0</td>\n",
              "      <td>0.0</td>\n",
              "      <td>0.0</td>\n",
              "      <td>0.0</td>\n",
              "      <td>1</td>\n",
              "      <td>0</td>\n",
              "      <td>0</td>\n",
              "      <td>1</td>\n",
              "      <td>1</td>\n",
              "      <td>0</td>\n",
              "      <td>0</td>\n",
              "      <td>0</td>\n",
              "      <td>0</td>\n",
              "      <td>0</td>\n",
              "      <td>0</td>\n",
              "      <td>0</td>\n",
              "    </tr>\n",
              "    <tr>\n",
              "      <th>257</th>\n",
              "      <td>1</td>\n",
              "      <td>14.0</td>\n",
              "      <td>0</td>\n",
              "      <td>0.0</td>\n",
              "      <td>0.0</td>\n",
              "      <td>0.0</td>\n",
              "      <td>0.0</td>\n",
              "      <td>0.0</td>\n",
              "      <td>1</td>\n",
              "      <td>0</td>\n",
              "      <td>0</td>\n",
              "      <td>1</td>\n",
              "      <td>0</td>\n",
              "      <td>0</td>\n",
              "      <td>0</td>\n",
              "      <td>1</td>\n",
              "      <td>0</td>\n",
              "      <td>0</td>\n",
              "      <td>0</td>\n",
              "      <td>0</td>\n",
              "    </tr>\n",
              "    <tr>\n",
              "      <th>...</th>\n",
              "      <td>...</td>\n",
              "      <td>...</td>\n",
              "      <td>...</td>\n",
              "      <td>...</td>\n",
              "      <td>...</td>\n",
              "      <td>...</td>\n",
              "      <td>...</td>\n",
              "      <td>...</td>\n",
              "      <td>...</td>\n",
              "      <td>...</td>\n",
              "      <td>...</td>\n",
              "      <td>...</td>\n",
              "      <td>...</td>\n",
              "      <td>...</td>\n",
              "      <td>...</td>\n",
              "      <td>...</td>\n",
              "      <td>...</td>\n",
              "      <td>...</td>\n",
              "      <td>...</td>\n",
              "      <td>...</td>\n",
              "    </tr>\n",
              "    <tr>\n",
              "      <th>599</th>\n",
              "      <td>0</td>\n",
              "      <td>44.0</td>\n",
              "      <td>0</td>\n",
              "      <td>103.0</td>\n",
              "      <td>0.0</td>\n",
              "      <td>18.0</td>\n",
              "      <td>1197.0</td>\n",
              "      <td>1.0</td>\n",
              "      <td>0</td>\n",
              "      <td>0</td>\n",
              "      <td>0</td>\n",
              "      <td>1</td>\n",
              "      <td>0</td>\n",
              "      <td>0</td>\n",
              "      <td>0</td>\n",
              "      <td>0</td>\n",
              "      <td>1</td>\n",
              "      <td>0</td>\n",
              "      <td>0</td>\n",
              "      <td>0</td>\n",
              "    </tr>\n",
              "    <tr>\n",
              "      <th>5695</th>\n",
              "      <td>0</td>\n",
              "      <td>8.0</td>\n",
              "      <td>0</td>\n",
              "      <td>0.0</td>\n",
              "      <td>0.0</td>\n",
              "      <td>0.0</td>\n",
              "      <td>0.0</td>\n",
              "      <td>0.0</td>\n",
              "      <td>0</td>\n",
              "      <td>1</td>\n",
              "      <td>0</td>\n",
              "      <td>1</td>\n",
              "      <td>0</td>\n",
              "      <td>0</td>\n",
              "      <td>0</td>\n",
              "      <td>1</td>\n",
              "      <td>0</td>\n",
              "      <td>0</td>\n",
              "      <td>0</td>\n",
              "      <td>0</td>\n",
              "    </tr>\n",
              "    <tr>\n",
              "      <th>8006</th>\n",
              "      <td>1</td>\n",
              "      <td>19.0</td>\n",
              "      <td>0</td>\n",
              "      <td>0.0</td>\n",
              "      <td>0.0</td>\n",
              "      <td>0.0</td>\n",
              "      <td>0.0</td>\n",
              "      <td>0.0</td>\n",
              "      <td>0</td>\n",
              "      <td>0</td>\n",
              "      <td>1</td>\n",
              "      <td>0</td>\n",
              "      <td>0</td>\n",
              "      <td>0</td>\n",
              "      <td>0</td>\n",
              "      <td>0</td>\n",
              "      <td>0</td>\n",
              "      <td>1</td>\n",
              "      <td>0</td>\n",
              "      <td>1</td>\n",
              "    </tr>\n",
              "    <tr>\n",
              "      <th>1361</th>\n",
              "      <td>0</td>\n",
              "      <td>20.0</td>\n",
              "      <td>0</td>\n",
              "      <td>0.0</td>\n",
              "      <td>258.0</td>\n",
              "      <td>331.0</td>\n",
              "      <td>133.0</td>\n",
              "      <td>0.0</td>\n",
              "      <td>0</td>\n",
              "      <td>0</td>\n",
              "      <td>0</td>\n",
              "      <td>1</td>\n",
              "      <td>0</td>\n",
              "      <td>0</td>\n",
              "      <td>0</td>\n",
              "      <td>0</td>\n",
              "      <td>0</td>\n",
              "      <td>1</td>\n",
              "      <td>0</td>\n",
              "      <td>0</td>\n",
              "    </tr>\n",
              "    <tr>\n",
              "      <th>1547</th>\n",
              "      <td>0</td>\n",
              "      <td>19.0</td>\n",
              "      <td>0</td>\n",
              "      <td>414.0</td>\n",
              "      <td>0.0</td>\n",
              "      <td>66.0</td>\n",
              "      <td>307.0</td>\n",
              "      <td>0.0</td>\n",
              "      <td>0</td>\n",
              "      <td>0</td>\n",
              "      <td>0</td>\n",
              "      <td>1</td>\n",
              "      <td>0</td>\n",
              "      <td>0</td>\n",
              "      <td>0</td>\n",
              "      <td>1</td>\n",
              "      <td>0</td>\n",
              "      <td>0</td>\n",
              "      <td>0</td>\n",
              "      <td>1</td>\n",
              "    </tr>\n",
              "  </tbody>\n",
              "</table>\n",
              "<p>6085 rows × 20 columns</p>\n",
              "</div>\n",
              "      <button class=\"colab-df-convert\" onclick=\"convertToInteractive('df-90e07676-9c4c-4dda-8544-552ffe502679')\"\n",
              "              title=\"Convert this dataframe to an interactive table.\"\n",
              "              style=\"display:none;\">\n",
              "        \n",
              "  <svg xmlns=\"http://www.w3.org/2000/svg\" height=\"24px\"viewBox=\"0 0 24 24\"\n",
              "       width=\"24px\">\n",
              "    <path d=\"M0 0h24v24H0V0z\" fill=\"none\"/>\n",
              "    <path d=\"M18.56 5.44l.94 2.06.94-2.06 2.06-.94-2.06-.94-.94-2.06-.94 2.06-2.06.94zm-11 1L8.5 8.5l.94-2.06 2.06-.94-2.06-.94L8.5 2.5l-.94 2.06-2.06.94zm10 10l.94 2.06.94-2.06 2.06-.94-2.06-.94-.94-2.06-.94 2.06-2.06.94z\"/><path d=\"M17.41 7.96l-1.37-1.37c-.4-.4-.92-.59-1.43-.59-.52 0-1.04.2-1.43.59L10.3 9.45l-7.72 7.72c-.78.78-.78 2.05 0 2.83L4 21.41c.39.39.9.59 1.41.59.51 0 1.02-.2 1.41-.59l7.78-7.78 2.81-2.81c.8-.78.8-2.07 0-2.86zM5.41 20L4 18.59l7.72-7.72 1.47 1.35L5.41 20z\"/>\n",
              "  </svg>\n",
              "      </button>\n",
              "      \n",
              "  <style>\n",
              "    .colab-df-container {\n",
              "      display:flex;\n",
              "      flex-wrap:wrap;\n",
              "      gap: 12px;\n",
              "    }\n",
              "\n",
              "    .colab-df-convert {\n",
              "      background-color: #E8F0FE;\n",
              "      border: none;\n",
              "      border-radius: 50%;\n",
              "      cursor: pointer;\n",
              "      display: none;\n",
              "      fill: #1967D2;\n",
              "      height: 32px;\n",
              "      padding: 0 0 0 0;\n",
              "      width: 32px;\n",
              "    }\n",
              "\n",
              "    .colab-df-convert:hover {\n",
              "      background-color: #E2EBFA;\n",
              "      box-shadow: 0px 1px 2px rgba(60, 64, 67, 0.3), 0px 1px 3px 1px rgba(60, 64, 67, 0.15);\n",
              "      fill: #174EA6;\n",
              "    }\n",
              "\n",
              "    [theme=dark] .colab-df-convert {\n",
              "      background-color: #3B4455;\n",
              "      fill: #D2E3FC;\n",
              "    }\n",
              "\n",
              "    [theme=dark] .colab-df-convert:hover {\n",
              "      background-color: #434B5C;\n",
              "      box-shadow: 0px 1px 3px 1px rgba(0, 0, 0, 0.15);\n",
              "      filter: drop-shadow(0px 1px 2px rgba(0, 0, 0, 0.3));\n",
              "      fill: #FFFFFF;\n",
              "    }\n",
              "  </style>\n",
              "\n",
              "      <script>\n",
              "        const buttonEl =\n",
              "          document.querySelector('#df-90e07676-9c4c-4dda-8544-552ffe502679 button.colab-df-convert');\n",
              "        buttonEl.style.display =\n",
              "          google.colab.kernel.accessAllowed ? 'block' : 'none';\n",
              "\n",
              "        async function convertToInteractive(key) {\n",
              "          const element = document.querySelector('#df-90e07676-9c4c-4dda-8544-552ffe502679');\n",
              "          const dataTable =\n",
              "            await google.colab.kernel.invokeFunction('convertToInteractive',\n",
              "                                                     [key], {});\n",
              "          if (!dataTable) return;\n",
              "\n",
              "          const docLinkHtml = 'Like what you see? Visit the ' +\n",
              "            '<a target=\"_blank\" href=https://colab.research.google.com/notebooks/data_table.ipynb>data table notebook</a>'\n",
              "            + ' to learn more about interactive tables.';\n",
              "          element.innerHTML = '';\n",
              "          dataTable['output_type'] = 'display_data';\n",
              "          await google.colab.output.renderOutput(dataTable, element);\n",
              "          const docLink = document.createElement('div');\n",
              "          docLink.innerHTML = docLinkHtml;\n",
              "          element.appendChild(docLink);\n",
              "        }\n",
              "      </script>\n",
              "    </div>\n",
              "  </div>\n",
              "  "
            ]
          },
          "metadata": {},
          "execution_count": 460
        }
      ],
      "source": [
        "X_train"
      ]
    },
    {
      "cell_type": "code",
      "execution_count": null,
      "id": "a1c6336b",
      "metadata": {
        "colab": {
          "base_uri": "https://localhost:8080/"
        },
        "id": "a1c6336b",
        "outputId": "9cf86250-669d-42e9-993d-7ad4c7181248"
      },
      "outputs": [
        {
          "output_type": "execute_result",
          "data": {
            "text/plain": [
              "0       0\n",
              "1       1\n",
              "2       0\n",
              "3       0\n",
              "4       1\n",
              "       ..\n",
              "8688    0\n",
              "8689    0\n",
              "8690    1\n",
              "8691    0\n",
              "8692    1\n",
              "Name: Transported, Length: 8693, dtype: int64"
            ]
          },
          "metadata": {},
          "execution_count": 461
        }
      ],
      "source": [
        "y"
      ]
    },
    {
      "cell_type": "markdown",
      "id": "a6fc9b4c",
      "metadata": {
        "id": "a6fc9b4c"
      },
      "source": [
        "# Random Forest"
      ]
    },
    {
      "cell_type": "code",
      "execution_count": null,
      "id": "68aa3b8d",
      "metadata": {
        "id": "68aa3b8d"
      },
      "outputs": [],
      "source": [
        "from sklearn.ensemble import RandomForestClassifier"
      ]
    },
    {
      "cell_type": "code",
      "execution_count": null,
      "id": "c9b17e86",
      "metadata": {
        "id": "c9b17e86"
      },
      "outputs": [],
      "source": [
        "rfc = RandomForestClassifier().fit(X_train, y_train)"
      ]
    },
    {
      "cell_type": "code",
      "execution_count": null,
      "id": "f682d311",
      "metadata": {
        "id": "f682d311"
      },
      "outputs": [],
      "source": [
        "rfc_pred = rfc.predict(X_test)"
      ]
    },
    {
      "cell_type": "code",
      "execution_count": null,
      "id": "31a27c48",
      "metadata": {
        "colab": {
          "base_uri": "https://localhost:8080/"
        },
        "id": "31a27c48",
        "outputId": "e01ba797-8b02-40a1-dcbe-2ba337f8ac4d"
      },
      "outputs": [
        {
          "output_type": "stream",
          "name": "stdout",
          "text": [
            "[[1057  242]\n",
            " [ 301 1008]]\n",
            "\n",
            "              precision    recall  f1-score   support\n",
            "\n",
            "           0       0.78      0.81      0.80      1299\n",
            "           1       0.81      0.77      0.79      1309\n",
            "\n",
            "    accuracy                           0.79      2608\n",
            "   macro avg       0.79      0.79      0.79      2608\n",
            "weighted avg       0.79      0.79      0.79      2608\n",
            "\n"
          ]
        }
      ],
      "source": [
        "print(confusion_matrix(y_test, rfc_pred))\n",
        "print()\n",
        "print(classification_report(y_test, rfc_pred))"
      ]
    },
    {
      "cell_type": "markdown",
      "id": "ebfcefa9",
      "metadata": {
        "id": "ebfcefa9"
      },
      "source": [
        "**Checking the Feature Importance of RandomForestClassifier**"
      ]
    },
    {
      "cell_type": "code",
      "execution_count": null,
      "id": "79c694c3",
      "metadata": {
        "colab": {
          "base_uri": "https://localhost:8080/"
        },
        "id": "79c694c3",
        "outputId": "2029da70-d185-4ae2-d102-77ca937b3bf0"
      },
      "outputs": [
        {
          "output_type": "execute_result",
          "data": {
            "text/plain": [
              "array([1.02466659e-01, 1.83110160e-01, 2.68440177e-03, 1.17462599e-01,\n",
              "       1.05291092e-01, 9.23410185e-02, 1.23639979e-01, 1.11891722e-01,\n",
              "       2.72341907e-02, 1.73955852e-02, 9.71589794e-03, 1.51335420e-02,\n",
              "       7.50746368e-03, 6.99130197e-03, 4.76906932e-03, 1.42347450e-02,\n",
              "       1.65187920e-02, 1.99351606e-02, 2.59584112e-05, 2.16506628e-02])"
            ]
          },
          "metadata": {},
          "execution_count": 466
        }
      ],
      "source": [
        "rfc.feature_importances_"
      ]
    },
    {
      "cell_type": "code",
      "execution_count": null,
      "id": "5f5501f0",
      "metadata": {
        "colab": {
          "base_uri": "https://localhost:8080/",
          "height": 676
        },
        "id": "5f5501f0",
        "outputId": "8ebb81fc-09b8-4e0d-b40e-832efca5acd0"
      },
      "outputs": [
        {
          "output_type": "execute_result",
          "data": {
            "text/plain": [
              "                           Importances\n",
              "CryoSleep                     0.102467\n",
              "Age                           0.183110\n",
              "VIP                           0.002684\n",
              "RoomService                   0.117463\n",
              "FoodCourt                     0.105291\n",
              "ShoppingMall                  0.092341\n",
              "Spa                           0.123640\n",
              "VRDeck                        0.111892\n",
              "HomePlanet_Europa             0.027234\n",
              "HomePlanet_Mars               0.017396\n",
              "Destination_PSO J318.5-22     0.009716\n",
              "Destination_TRAPPIST-1e       0.015134\n",
              "Cabin_Deck_B                  0.007507\n",
              "Cabin_Deck_C                  0.006991\n",
              "Cabin_Deck_D                  0.004769\n",
              "Cabin_Deck_E                  0.014235\n",
              "Cabin_Deck_F                  0.016519\n",
              "Cabin_Deck_G                  0.019935\n",
              "Cabin_Deck_T                  0.000026\n",
              "Cabin_Side_S                  0.021651"
            ],
            "text/html": [
              "\n",
              "  <div id=\"df-baec3763-e3c4-40e7-995f-12f52c5335d6\">\n",
              "    <div class=\"colab-df-container\">\n",
              "      <div>\n",
              "<style scoped>\n",
              "    .dataframe tbody tr th:only-of-type {\n",
              "        vertical-align: middle;\n",
              "    }\n",
              "\n",
              "    .dataframe tbody tr th {\n",
              "        vertical-align: top;\n",
              "    }\n",
              "\n",
              "    .dataframe thead th {\n",
              "        text-align: right;\n",
              "    }\n",
              "</style>\n",
              "<table border=\"1\" class=\"dataframe\">\n",
              "  <thead>\n",
              "    <tr style=\"text-align: right;\">\n",
              "      <th></th>\n",
              "      <th>Importances</th>\n",
              "    </tr>\n",
              "  </thead>\n",
              "  <tbody>\n",
              "    <tr>\n",
              "      <th>CryoSleep</th>\n",
              "      <td>0.102467</td>\n",
              "    </tr>\n",
              "    <tr>\n",
              "      <th>Age</th>\n",
              "      <td>0.183110</td>\n",
              "    </tr>\n",
              "    <tr>\n",
              "      <th>VIP</th>\n",
              "      <td>0.002684</td>\n",
              "    </tr>\n",
              "    <tr>\n",
              "      <th>RoomService</th>\n",
              "      <td>0.117463</td>\n",
              "    </tr>\n",
              "    <tr>\n",
              "      <th>FoodCourt</th>\n",
              "      <td>0.105291</td>\n",
              "    </tr>\n",
              "    <tr>\n",
              "      <th>ShoppingMall</th>\n",
              "      <td>0.092341</td>\n",
              "    </tr>\n",
              "    <tr>\n",
              "      <th>Spa</th>\n",
              "      <td>0.123640</td>\n",
              "    </tr>\n",
              "    <tr>\n",
              "      <th>VRDeck</th>\n",
              "      <td>0.111892</td>\n",
              "    </tr>\n",
              "    <tr>\n",
              "      <th>HomePlanet_Europa</th>\n",
              "      <td>0.027234</td>\n",
              "    </tr>\n",
              "    <tr>\n",
              "      <th>HomePlanet_Mars</th>\n",
              "      <td>0.017396</td>\n",
              "    </tr>\n",
              "    <tr>\n",
              "      <th>Destination_PSO J318.5-22</th>\n",
              "      <td>0.009716</td>\n",
              "    </tr>\n",
              "    <tr>\n",
              "      <th>Destination_TRAPPIST-1e</th>\n",
              "      <td>0.015134</td>\n",
              "    </tr>\n",
              "    <tr>\n",
              "      <th>Cabin_Deck_B</th>\n",
              "      <td>0.007507</td>\n",
              "    </tr>\n",
              "    <tr>\n",
              "      <th>Cabin_Deck_C</th>\n",
              "      <td>0.006991</td>\n",
              "    </tr>\n",
              "    <tr>\n",
              "      <th>Cabin_Deck_D</th>\n",
              "      <td>0.004769</td>\n",
              "    </tr>\n",
              "    <tr>\n",
              "      <th>Cabin_Deck_E</th>\n",
              "      <td>0.014235</td>\n",
              "    </tr>\n",
              "    <tr>\n",
              "      <th>Cabin_Deck_F</th>\n",
              "      <td>0.016519</td>\n",
              "    </tr>\n",
              "    <tr>\n",
              "      <th>Cabin_Deck_G</th>\n",
              "      <td>0.019935</td>\n",
              "    </tr>\n",
              "    <tr>\n",
              "      <th>Cabin_Deck_T</th>\n",
              "      <td>0.000026</td>\n",
              "    </tr>\n",
              "    <tr>\n",
              "      <th>Cabin_Side_S</th>\n",
              "      <td>0.021651</td>\n",
              "    </tr>\n",
              "  </tbody>\n",
              "</table>\n",
              "</div>\n",
              "      <button class=\"colab-df-convert\" onclick=\"convertToInteractive('df-baec3763-e3c4-40e7-995f-12f52c5335d6')\"\n",
              "              title=\"Convert this dataframe to an interactive table.\"\n",
              "              style=\"display:none;\">\n",
              "        \n",
              "  <svg xmlns=\"http://www.w3.org/2000/svg\" height=\"24px\"viewBox=\"0 0 24 24\"\n",
              "       width=\"24px\">\n",
              "    <path d=\"M0 0h24v24H0V0z\" fill=\"none\"/>\n",
              "    <path d=\"M18.56 5.44l.94 2.06.94-2.06 2.06-.94-2.06-.94-.94-2.06-.94 2.06-2.06.94zm-11 1L8.5 8.5l.94-2.06 2.06-.94-2.06-.94L8.5 2.5l-.94 2.06-2.06.94zm10 10l.94 2.06.94-2.06 2.06-.94-2.06-.94-.94-2.06-.94 2.06-2.06.94z\"/><path d=\"M17.41 7.96l-1.37-1.37c-.4-.4-.92-.59-1.43-.59-.52 0-1.04.2-1.43.59L10.3 9.45l-7.72 7.72c-.78.78-.78 2.05 0 2.83L4 21.41c.39.39.9.59 1.41.59.51 0 1.02-.2 1.41-.59l7.78-7.78 2.81-2.81c.8-.78.8-2.07 0-2.86zM5.41 20L4 18.59l7.72-7.72 1.47 1.35L5.41 20z\"/>\n",
              "  </svg>\n",
              "      </button>\n",
              "      \n",
              "  <style>\n",
              "    .colab-df-container {\n",
              "      display:flex;\n",
              "      flex-wrap:wrap;\n",
              "      gap: 12px;\n",
              "    }\n",
              "\n",
              "    .colab-df-convert {\n",
              "      background-color: #E8F0FE;\n",
              "      border: none;\n",
              "      border-radius: 50%;\n",
              "      cursor: pointer;\n",
              "      display: none;\n",
              "      fill: #1967D2;\n",
              "      height: 32px;\n",
              "      padding: 0 0 0 0;\n",
              "      width: 32px;\n",
              "    }\n",
              "\n",
              "    .colab-df-convert:hover {\n",
              "      background-color: #E2EBFA;\n",
              "      box-shadow: 0px 1px 2px rgba(60, 64, 67, 0.3), 0px 1px 3px 1px rgba(60, 64, 67, 0.15);\n",
              "      fill: #174EA6;\n",
              "    }\n",
              "\n",
              "    [theme=dark] .colab-df-convert {\n",
              "      background-color: #3B4455;\n",
              "      fill: #D2E3FC;\n",
              "    }\n",
              "\n",
              "    [theme=dark] .colab-df-convert:hover {\n",
              "      background-color: #434B5C;\n",
              "      box-shadow: 0px 1px 3px 1px rgba(0, 0, 0, 0.15);\n",
              "      filter: drop-shadow(0px 1px 2px rgba(0, 0, 0, 0.3));\n",
              "      fill: #FFFFFF;\n",
              "    }\n",
              "  </style>\n",
              "\n",
              "      <script>\n",
              "        const buttonEl =\n",
              "          document.querySelector('#df-baec3763-e3c4-40e7-995f-12f52c5335d6 button.colab-df-convert');\n",
              "        buttonEl.style.display =\n",
              "          google.colab.kernel.accessAllowed ? 'block' : 'none';\n",
              "\n",
              "        async function convertToInteractive(key) {\n",
              "          const element = document.querySelector('#df-baec3763-e3c4-40e7-995f-12f52c5335d6');\n",
              "          const dataTable =\n",
              "            await google.colab.kernel.invokeFunction('convertToInteractive',\n",
              "                                                     [key], {});\n",
              "          if (!dataTable) return;\n",
              "\n",
              "          const docLinkHtml = 'Like what you see? Visit the ' +\n",
              "            '<a target=\"_blank\" href=https://colab.research.google.com/notebooks/data_table.ipynb>data table notebook</a>'\n",
              "            + ' to learn more about interactive tables.';\n",
              "          element.innerHTML = '';\n",
              "          dataTable['output_type'] = 'display_data';\n",
              "          await google.colab.output.renderOutput(dataTable, element);\n",
              "          const docLink = document.createElement('div');\n",
              "          docLink.innerHTML = docLinkHtml;\n",
              "          element.appendChild(docLink);\n",
              "        }\n",
              "      </script>\n",
              "    </div>\n",
              "  </div>\n",
              "  "
            ]
          },
          "metadata": {},
          "execution_count": 467
        }
      ],
      "source": [
        "# Creating a dataframe of the feature importances\n",
        "feat_importance_df = pd.DataFrame(index=X.columns, data=rfc.feature_importances_, columns=['Importances'])\n",
        "\n",
        "feat_importance_df"
      ]
    },
    {
      "cell_type": "code",
      "execution_count": null,
      "id": "1843e967",
      "metadata": {
        "colab": {
          "base_uri": "https://localhost:8080/",
          "height": 676
        },
        "id": "1843e967",
        "outputId": "317f103d-959f-49c7-f441-ef78154aa959"
      },
      "outputs": [
        {
          "output_type": "execute_result",
          "data": {
            "text/plain": [
              "                           Importances\n",
              "Age                           0.183110\n",
              "Spa                           0.123640\n",
              "RoomService                   0.117463\n",
              "VRDeck                        0.111892\n",
              "FoodCourt                     0.105291\n",
              "CryoSleep                     0.102467\n",
              "ShoppingMall                  0.092341\n",
              "HomePlanet_Europa             0.027234\n",
              "Cabin_Side_S                  0.021651\n",
              "Cabin_Deck_G                  0.019935\n",
              "HomePlanet_Mars               0.017396\n",
              "Cabin_Deck_F                  0.016519\n",
              "Destination_TRAPPIST-1e       0.015134\n",
              "Cabin_Deck_E                  0.014235\n",
              "Destination_PSO J318.5-22     0.009716\n",
              "Cabin_Deck_B                  0.007507\n",
              "Cabin_Deck_C                  0.006991\n",
              "Cabin_Deck_D                  0.004769\n",
              "VIP                           0.002684\n",
              "Cabin_Deck_T                  0.000026"
            ],
            "text/html": [
              "\n",
              "  <div id=\"df-6555c621-c2b1-46e9-9cd5-92d9c976dd50\">\n",
              "    <div class=\"colab-df-container\">\n",
              "      <div>\n",
              "<style scoped>\n",
              "    .dataframe tbody tr th:only-of-type {\n",
              "        vertical-align: middle;\n",
              "    }\n",
              "\n",
              "    .dataframe tbody tr th {\n",
              "        vertical-align: top;\n",
              "    }\n",
              "\n",
              "    .dataframe thead th {\n",
              "        text-align: right;\n",
              "    }\n",
              "</style>\n",
              "<table border=\"1\" class=\"dataframe\">\n",
              "  <thead>\n",
              "    <tr style=\"text-align: right;\">\n",
              "      <th></th>\n",
              "      <th>Importances</th>\n",
              "    </tr>\n",
              "  </thead>\n",
              "  <tbody>\n",
              "    <tr>\n",
              "      <th>Age</th>\n",
              "      <td>0.183110</td>\n",
              "    </tr>\n",
              "    <tr>\n",
              "      <th>Spa</th>\n",
              "      <td>0.123640</td>\n",
              "    </tr>\n",
              "    <tr>\n",
              "      <th>RoomService</th>\n",
              "      <td>0.117463</td>\n",
              "    </tr>\n",
              "    <tr>\n",
              "      <th>VRDeck</th>\n",
              "      <td>0.111892</td>\n",
              "    </tr>\n",
              "    <tr>\n",
              "      <th>FoodCourt</th>\n",
              "      <td>0.105291</td>\n",
              "    </tr>\n",
              "    <tr>\n",
              "      <th>CryoSleep</th>\n",
              "      <td>0.102467</td>\n",
              "    </tr>\n",
              "    <tr>\n",
              "      <th>ShoppingMall</th>\n",
              "      <td>0.092341</td>\n",
              "    </tr>\n",
              "    <tr>\n",
              "      <th>HomePlanet_Europa</th>\n",
              "      <td>0.027234</td>\n",
              "    </tr>\n",
              "    <tr>\n",
              "      <th>Cabin_Side_S</th>\n",
              "      <td>0.021651</td>\n",
              "    </tr>\n",
              "    <tr>\n",
              "      <th>Cabin_Deck_G</th>\n",
              "      <td>0.019935</td>\n",
              "    </tr>\n",
              "    <tr>\n",
              "      <th>HomePlanet_Mars</th>\n",
              "      <td>0.017396</td>\n",
              "    </tr>\n",
              "    <tr>\n",
              "      <th>Cabin_Deck_F</th>\n",
              "      <td>0.016519</td>\n",
              "    </tr>\n",
              "    <tr>\n",
              "      <th>Destination_TRAPPIST-1e</th>\n",
              "      <td>0.015134</td>\n",
              "    </tr>\n",
              "    <tr>\n",
              "      <th>Cabin_Deck_E</th>\n",
              "      <td>0.014235</td>\n",
              "    </tr>\n",
              "    <tr>\n",
              "      <th>Destination_PSO J318.5-22</th>\n",
              "      <td>0.009716</td>\n",
              "    </tr>\n",
              "    <tr>\n",
              "      <th>Cabin_Deck_B</th>\n",
              "      <td>0.007507</td>\n",
              "    </tr>\n",
              "    <tr>\n",
              "      <th>Cabin_Deck_C</th>\n",
              "      <td>0.006991</td>\n",
              "    </tr>\n",
              "    <tr>\n",
              "      <th>Cabin_Deck_D</th>\n",
              "      <td>0.004769</td>\n",
              "    </tr>\n",
              "    <tr>\n",
              "      <th>VIP</th>\n",
              "      <td>0.002684</td>\n",
              "    </tr>\n",
              "    <tr>\n",
              "      <th>Cabin_Deck_T</th>\n",
              "      <td>0.000026</td>\n",
              "    </tr>\n",
              "  </tbody>\n",
              "</table>\n",
              "</div>\n",
              "      <button class=\"colab-df-convert\" onclick=\"convertToInteractive('df-6555c621-c2b1-46e9-9cd5-92d9c976dd50')\"\n",
              "              title=\"Convert this dataframe to an interactive table.\"\n",
              "              style=\"display:none;\">\n",
              "        \n",
              "  <svg xmlns=\"http://www.w3.org/2000/svg\" height=\"24px\"viewBox=\"0 0 24 24\"\n",
              "       width=\"24px\">\n",
              "    <path d=\"M0 0h24v24H0V0z\" fill=\"none\"/>\n",
              "    <path d=\"M18.56 5.44l.94 2.06.94-2.06 2.06-.94-2.06-.94-.94-2.06-.94 2.06-2.06.94zm-11 1L8.5 8.5l.94-2.06 2.06-.94-2.06-.94L8.5 2.5l-.94 2.06-2.06.94zm10 10l.94 2.06.94-2.06 2.06-.94-2.06-.94-.94-2.06-.94 2.06-2.06.94z\"/><path d=\"M17.41 7.96l-1.37-1.37c-.4-.4-.92-.59-1.43-.59-.52 0-1.04.2-1.43.59L10.3 9.45l-7.72 7.72c-.78.78-.78 2.05 0 2.83L4 21.41c.39.39.9.59 1.41.59.51 0 1.02-.2 1.41-.59l7.78-7.78 2.81-2.81c.8-.78.8-2.07 0-2.86zM5.41 20L4 18.59l7.72-7.72 1.47 1.35L5.41 20z\"/>\n",
              "  </svg>\n",
              "      </button>\n",
              "      \n",
              "  <style>\n",
              "    .colab-df-container {\n",
              "      display:flex;\n",
              "      flex-wrap:wrap;\n",
              "      gap: 12px;\n",
              "    }\n",
              "\n",
              "    .colab-df-convert {\n",
              "      background-color: #E8F0FE;\n",
              "      border: none;\n",
              "      border-radius: 50%;\n",
              "      cursor: pointer;\n",
              "      display: none;\n",
              "      fill: #1967D2;\n",
              "      height: 32px;\n",
              "      padding: 0 0 0 0;\n",
              "      width: 32px;\n",
              "    }\n",
              "\n",
              "    .colab-df-convert:hover {\n",
              "      background-color: #E2EBFA;\n",
              "      box-shadow: 0px 1px 2px rgba(60, 64, 67, 0.3), 0px 1px 3px 1px rgba(60, 64, 67, 0.15);\n",
              "      fill: #174EA6;\n",
              "    }\n",
              "\n",
              "    [theme=dark] .colab-df-convert {\n",
              "      background-color: #3B4455;\n",
              "      fill: #D2E3FC;\n",
              "    }\n",
              "\n",
              "    [theme=dark] .colab-df-convert:hover {\n",
              "      background-color: #434B5C;\n",
              "      box-shadow: 0px 1px 3px 1px rgba(0, 0, 0, 0.15);\n",
              "      filter: drop-shadow(0px 1px 2px rgba(0, 0, 0, 0.3));\n",
              "      fill: #FFFFFF;\n",
              "    }\n",
              "  </style>\n",
              "\n",
              "      <script>\n",
              "        const buttonEl =\n",
              "          document.querySelector('#df-6555c621-c2b1-46e9-9cd5-92d9c976dd50 button.colab-df-convert');\n",
              "        buttonEl.style.display =\n",
              "          google.colab.kernel.accessAllowed ? 'block' : 'none';\n",
              "\n",
              "        async function convertToInteractive(key) {\n",
              "          const element = document.querySelector('#df-6555c621-c2b1-46e9-9cd5-92d9c976dd50');\n",
              "          const dataTable =\n",
              "            await google.colab.kernel.invokeFunction('convertToInteractive',\n",
              "                                                     [key], {});\n",
              "          if (!dataTable) return;\n",
              "\n",
              "          const docLinkHtml = 'Like what you see? Visit the ' +\n",
              "            '<a target=\"_blank\" href=https://colab.research.google.com/notebooks/data_table.ipynb>data table notebook</a>'\n",
              "            + ' to learn more about interactive tables.';\n",
              "          element.innerHTML = '';\n",
              "          dataTable['output_type'] = 'display_data';\n",
              "          await google.colab.output.renderOutput(dataTable, element);\n",
              "          const docLink = document.createElement('div');\n",
              "          docLink.innerHTML = docLinkHtml;\n",
              "          element.appendChild(docLink);\n",
              "        }\n",
              "      </script>\n",
              "    </div>\n",
              "  </div>\n",
              "  "
            ]
          },
          "metadata": {},
          "execution_count": 468
        }
      ],
      "source": [
        "# Sorting the importances in descending order\n",
        "feat_importance_df.sort_values('Importances', ascending=False)"
      ]
    },
    {
      "cell_type": "code",
      "execution_count": null,
      "id": "a542ae32",
      "metadata": {
        "colab": {
          "base_uri": "https://localhost:8080/",
          "height": 697
        },
        "id": "a542ae32",
        "outputId": "d4a8783c-88b2-41e4-c4f2-d3d8d21b147f"
      },
      "outputs": [
        {
          "output_type": "display_data",
          "data": {
            "text/plain": [
              "<Figure size 2800x1200 with 1 Axes>"
            ],
            "image/png": "[encoded data removed]"
          },
          "metadata": {
            "needs_background": "light"
          }
        }
      ],
      "source": [
        "# Plotting the feature importances\n",
        "plt.figure(figsize=(14,6), dpi=200)\n",
        "sns.barplot(x=feat_importance_df.sort_values('Importances', ascending=False).index, \n",
        "            data=feat_importance_df.sort_values('Importances', ascending=False), \n",
        "            y='Importances')\n",
        "plt.title('Feature Importances of Random Forest Classifier')\n",
        "plt.xticks(rotation=90);"
      ]
    },
    {
      "cell_type": "markdown",
      "id": "ce9b6976",
      "metadata": {
        "id": "ce9b6976"
      },
      "source": [
        "# XGBOOST"
      ]
    },
    {
      "cell_type": "code",
      "execution_count": null,
      "id": "21a446eb",
      "metadata": {
        "id": "21a446eb"
      },
      "outputs": [],
      "source": [
        "from xgboost import XGBClassifier"
      ]
    },
    {
      "cell_type": "code",
      "execution_count": null,
      "id": "299a9033",
      "metadata": {
        "id": "299a9033"
      },
      "outputs": [],
      "source": [
        "xg = XGBClassifier().fit(X_train, y_train)"
      ]
    },
    {
      "cell_type": "code",
      "execution_count": null,
      "id": "a15a2281",
      "metadata": {
        "id": "a15a2281"
      },
      "outputs": [],
      "source": [
        "xg_pred = xg.predict(X_test)"
      ]
    },
    {
      "cell_type": "code",
      "execution_count": null,
      "id": "0df8155c",
      "metadata": {
        "colab": {
          "base_uri": "https://localhost:8080/",
          "height": 296
        },
        "id": "0df8155c",
        "outputId": "e2e76a8a-e47e-4a54-ae2d-33c67db22ed5"
      },
      "outputs": [
        {
          "output_type": "execute_result",
          "data": {
            "text/plain": [
              "<sklearn.metrics._plot.confusion_matrix.ConfusionMatrixDisplay at 0x7f6e348f6460>"
            ]
          },
          "metadata": {},
          "execution_count": 473
        },
        {
          "output_type": "display_data",
          "data": {
            "text/plain": [
              "<Figure size 432x288 with 2 Axes>"
            ],
            "image/png": "[encoded data removed]"
          },
          "metadata": {
            "needs_background": "light"
          }
        }
      ],
      "source": [
        "ConfusionMatrixDisplay(confusion_matrix(y_test, xg_pred), display_labels=['True', 'False']).plot()"
      ]
    },
    {
      "cell_type": "code",
      "execution_count": null,
      "id": "b2678309",
      "metadata": {
        "colab": {
          "base_uri": "https://localhost:8080/"
        },
        "id": "b2678309",
        "outputId": "951bbdaa-df46-4918-e3e8-7e82a98c3bf6"
      },
      "outputs": [
        {
          "output_type": "stream",
          "name": "stdout",
          "text": [
            "[[1003  296]\n",
            " [ 199 1110]]\n",
            "\n",
            "              precision    recall  f1-score   support\n",
            "\n",
            "           0       0.83      0.77      0.80      1299\n",
            "           1       0.79      0.85      0.82      1309\n",
            "\n",
            "    accuracy                           0.81      2608\n",
            "   macro avg       0.81      0.81      0.81      2608\n",
            "weighted avg       0.81      0.81      0.81      2608\n",
            "\n"
          ]
        }
      ],
      "source": [
        "print(confusion_matrix(y_test, xg_pred))\n",
        "print()\n",
        "print(classification_report(y_test, xg_pred))"
      ]
    },
    {
      "cell_type": "markdown",
      "id": "4f775899",
      "metadata": {
        "id": "4f775899"
      },
      "source": [
        "**Checking the Feauture Importances of XGBOOST**"
      ]
    },
    {
      "cell_type": "code",
      "execution_count": null,
      "id": "e79ba310",
      "metadata": {
        "colab": {
          "base_uri": "https://localhost:8080/"
        },
        "id": "e79ba310",
        "outputId": "358286fe-99d5-41fc-96c5-349d4a2896e0"
      },
      "outputs": [
        {
          "output_type": "execute_result",
          "data": {
            "text/plain": [
              "array([0.5851895 , 0.01562105, 0.        , 0.03922303, 0.02332302,\n",
              "       0.01723329, 0.03580603, 0.03012458, 0.06403478, 0.01566637,\n",
              "       0.00650937, 0.00854407, 0.00815535, 0.0108105 , 0.        ,\n",
              "       0.0256332 , 0.02174817, 0.07821394, 0.        , 0.01416376],\n",
              "      dtype=float32)"
            ]
          },
          "metadata": {},
          "execution_count": 475
        }
      ],
      "source": [
        "xg.feature_importances_"
      ]
    },
    {
      "cell_type": "code",
      "execution_count": null,
      "id": "449ae9c8",
      "metadata": {
        "colab": {
          "base_uri": "https://localhost:8080/",
          "height": 676
        },
        "id": "449ae9c8",
        "outputId": "f33b9dc4-fd5d-4404-a610-5a3b7c09767c"
      },
      "outputs": [
        {
          "output_type": "execute_result",
          "data": {
            "text/plain": [
              "                           Importances\n",
              "CryoSleep                     0.585190\n",
              "Age                           0.015621\n",
              "VIP                           0.000000\n",
              "RoomService                   0.039223\n",
              "FoodCourt                     0.023323\n",
              "ShoppingMall                  0.017233\n",
              "Spa                           0.035806\n",
              "VRDeck                        0.030125\n",
              "HomePlanet_Europa             0.064035\n",
              "HomePlanet_Mars               0.015666\n",
              "Destination_PSO J318.5-22     0.006509\n",
              "Destination_TRAPPIST-1e       0.008544\n",
              "Cabin_Deck_B                  0.008155\n",
              "Cabin_Deck_C                  0.010811\n",
              "Cabin_Deck_D                  0.000000\n",
              "Cabin_Deck_E                  0.025633\n",
              "Cabin_Deck_F                  0.021748\n",
              "Cabin_Deck_G                  0.078214\n",
              "Cabin_Deck_T                  0.000000\n",
              "Cabin_Side_S                  0.014164"
            ],
            "text/html": [
              "\n",
              "  <div id=\"df-ee4dc31f-93f1-4cd0-87a4-4d4dace4fa60\">\n",
              "    <div class=\"colab-df-container\">\n",
              "      <div>\n",
              "<style scoped>\n",
              "    .dataframe tbody tr th:only-of-type {\n",
              "        vertical-align: middle;\n",
              "    }\n",
              "\n",
              "    .dataframe tbody tr th {\n",
              "        vertical-align: top;\n",
              "    }\n",
              "\n",
              "    .dataframe thead th {\n",
              "        text-align: right;\n",
              "    }\n",
              "</style>\n",
              "<table border=\"1\" class=\"dataframe\">\n",
              "  <thead>\n",
              "    <tr style=\"text-align: right;\">\n",
              "      <th></th>\n",
              "      <th>Importances</th>\n",
              "    </tr>\n",
              "  </thead>\n",
              "  <tbody>\n",
              "    <tr>\n",
              "      <th>CryoSleep</th>\n",
              "      <td>0.585190</td>\n",
              "    </tr>\n",
              "    <tr>\n",
              "      <th>Age</th>\n",
              "      <td>0.015621</td>\n",
              "    </tr>\n",
              "    <tr>\n",
              "      <th>VIP</th>\n",
              "      <td>0.000000</td>\n",
              "    </tr>\n",
              "    <tr>\n",
              "      <th>RoomService</th>\n",
              "      <td>0.039223</td>\n",
              "    </tr>\n",
              "    <tr>\n",
              "      <th>FoodCourt</th>\n",
              "      <td>0.023323</td>\n",
              "    </tr>\n",
              "    <tr>\n",
              "      <th>ShoppingMall</th>\n",
              "      <td>0.017233</td>\n",
              "    </tr>\n",
              "    <tr>\n",
              "      <th>Spa</th>\n",
              "      <td>0.035806</td>\n",
              "    </tr>\n",
              "    <tr>\n",
              "      <th>VRDeck</th>\n",
              "      <td>0.030125</td>\n",
              "    </tr>\n",
              "    <tr>\n",
              "      <th>HomePlanet_Europa</th>\n",
              "      <td>0.064035</td>\n",
              "    </tr>\n",
              "    <tr>\n",
              "      <th>HomePlanet_Mars</th>\n",
              "      <td>0.015666</td>\n",
              "    </tr>\n",
              "    <tr>\n",
              "      <th>Destination_PSO J318.5-22</th>\n",
              "      <td>0.006509</td>\n",
              "    </tr>\n",
              "    <tr>\n",
              "      <th>Destination_TRAPPIST-1e</th>\n",
              "      <td>0.008544</td>\n",
              "    </tr>\n",
              "    <tr>\n",
              "      <th>Cabin_Deck_B</th>\n",
              "      <td>0.008155</td>\n",
              "    </tr>\n",
              "    <tr>\n",
              "      <th>Cabin_Deck_C</th>\n",
              "      <td>0.010811</td>\n",
              "    </tr>\n",
              "    <tr>\n",
              "      <th>Cabin_Deck_D</th>\n",
              "      <td>0.000000</td>\n",
              "    </tr>\n",
              "    <tr>\n",
              "      <th>Cabin_Deck_E</th>\n",
              "      <td>0.025633</td>\n",
              "    </tr>\n",
              "    <tr>\n",
              "      <th>Cabin_Deck_F</th>\n",
              "      <td>0.021748</td>\n",
              "    </tr>\n",
              "    <tr>\n",
              "      <th>Cabin_Deck_G</th>\n",
              "      <td>0.078214</td>\n",
              "    </tr>\n",
              "    <tr>\n",
              "      <th>Cabin_Deck_T</th>\n",
              "      <td>0.000000</td>\n",
              "    </tr>\n",
              "    <tr>\n",
              "      <th>Cabin_Side_S</th>\n",
              "      <td>0.014164</td>\n",
              "    </tr>\n",
              "  </tbody>\n",
              "</table>\n",
              "</div>\n",
              "      <button class=\"colab-df-convert\" onclick=\"convertToInteractive('df-ee4dc31f-93f1-4cd0-87a4-4d4dace4fa60')\"\n",
              "              title=\"Convert this dataframe to an interactive table.\"\n",
              "              style=\"display:none;\">\n",
              "        \n",
              "  <svg xmlns=\"http://www.w3.org/2000/svg\" height=\"24px\"viewBox=\"0 0 24 24\"\n",
              "       width=\"24px\">\n",
              "    <path d=\"M0 0h24v24H0V0z\" fill=\"none\"/>\n",
              "    <path d=\"M18.56 5.44l.94 2.06.94-2.06 2.06-.94-2.06-.94-.94-2.06-.94 2.06-2.06.94zm-11 1L8.5 8.5l.94-2.06 2.06-.94-2.06-.94L8.5 2.5l-.94 2.06-2.06.94zm10 10l.94 2.06.94-2.06 2.06-.94-2.06-.94-.94-2.06-.94 2.06-2.06.94z\"/><path d=\"M17.41 7.96l-1.37-1.37c-.4-.4-.92-.59-1.43-.59-.52 0-1.04.2-1.43.59L10.3 9.45l-7.72 7.72c-.78.78-.78 2.05 0 2.83L4 21.41c.39.39.9.59 1.41.59.51 0 1.02-.2 1.41-.59l7.78-7.78 2.81-2.81c.8-.78.8-2.07 0-2.86zM5.41 20L4 18.59l7.72-7.72 1.47 1.35L5.41 20z\"/>\n",
              "  </svg>\n",
              "      </button>\n",
              "      \n",
              "  <style>\n",
              "    .colab-df-container {\n",
              "      display:flex;\n",
              "      flex-wrap:wrap;\n",
              "      gap: 12px;\n",
              "    }\n",
              "\n",
              "    .colab-df-convert {\n",
              "      background-color: #E8F0FE;\n",
              "      border: none;\n",
              "      border-radius: 50%;\n",
              "      cursor: pointer;\n",
              "      display: none;\n",
              "      fill: #1967D2;\n",
              "      height: 32px;\n",
              "      padding: 0 0 0 0;\n",
              "      width: 32px;\n",
              "    }\n",
              "\n",
              "    .colab-df-convert:hover {\n",
              "      background-color: #E2EBFA;\n",
              "      box-shadow: 0px 1px 2px rgba(60, 64, 67, 0.3), 0px 1px 3px 1px rgba(60, 64, 67, 0.15);\n",
              "      fill: #174EA6;\n",
              "    }\n",
              "\n",
              "    [theme=dark] .colab-df-convert {\n",
              "      background-color: #3B4455;\n",
              "      fill: #D2E3FC;\n",
              "    }\n",
              "\n",
              "    [theme=dark] .colab-df-convert:hover {\n",
              "      background-color: #434B5C;\n",
              "      box-shadow: 0px 1px 3px 1px rgba(0, 0, 0, 0.15);\n",
              "      filter: drop-shadow(0px 1px 2px rgba(0, 0, 0, 0.3));\n",
              "      fill: #FFFFFF;\n",
              "    }\n",
              "  </style>\n",
              "\n",
              "      <script>\n",
              "        const buttonEl =\n",
              "          document.querySelector('#df-ee4dc31f-93f1-4cd0-87a4-4d4dace4fa60 button.colab-df-convert');\n",
              "        buttonEl.style.display =\n",
              "          google.colab.kernel.accessAllowed ? 'block' : 'none';\n",
              "\n",
              "        async function convertToInteractive(key) {\n",
              "          const element = document.querySelector('#df-ee4dc31f-93f1-4cd0-87a4-4d4dace4fa60');\n",
              "          const dataTable =\n",
              "            await google.colab.kernel.invokeFunction('convertToInteractive',\n",
              "                                                     [key], {});\n",
              "          if (!dataTable) return;\n",
              "\n",
              "          const docLinkHtml = 'Like what you see? Visit the ' +\n",
              "            '<a target=\"_blank\" href=https://colab.research.google.com/notebooks/data_table.ipynb>data table notebook</a>'\n",
              "            + ' to learn more about interactive tables.';\n",
              "          element.innerHTML = '';\n",
              "          dataTable['output_type'] = 'display_data';\n",
              "          await google.colab.output.renderOutput(dataTable, element);\n",
              "          const docLink = document.createElement('div');\n",
              "          docLink.innerHTML = docLinkHtml;\n",
              "          element.appendChild(docLink);\n",
              "        }\n",
              "      </script>\n",
              "    </div>\n",
              "  </div>\n",
              "  "
            ]
          },
          "metadata": {},
          "execution_count": 476
        }
      ],
      "source": [
        "xg_feat_importance = pd.DataFrame(index=X.columns, data=xg.feature_importances_, columns=['Importances'])\n",
        "\n",
        "xg_feat_importance"
      ]
    },
    {
      "cell_type": "code",
      "execution_count": null,
      "id": "916e92e9",
      "metadata": {
        "colab": {
          "base_uri": "https://localhost:8080/",
          "height": 686
        },
        "id": "916e92e9",
        "outputId": "129a4b56-43a0-4921-ba5e-b03e4585c966"
      },
      "outputs": [
        {
          "output_type": "display_data",
          "data": {
            "text/plain": [
              "<Figure size 2800x1200 with 1 Axes>"
            ],
            "image/png": "[encoded data removed]"
          },
          "metadata": {
            "needs_background": "light"
          }
        }
      ],
      "source": [
        "# Plotting the feature importances\n",
        "plt.figure(figsize=(14,6), dpi=200)\n",
        "sns.barplot(x=xg_feat_importance.sort_values('Importances', ascending=False).index,\n",
        "           y = 'Importances',\n",
        "           data = xg_feat_importance.sort_values('Importances', ascending=False))\n",
        "plt.xticks(rotation=90);"
      ]
    },
    {
      "cell_type": "markdown",
      "id": "11e34936",
      "metadata": {
        "id": "11e34936"
      },
      "source": [
        "# LOGISTIC REGRESSION"
      ]
    },
    {
      "cell_type": "code",
      "execution_count": null,
      "id": "af7e850a",
      "metadata": {
        "id": "af7e850a"
      },
      "outputs": [],
      "source": [
        "from sklearn.linear_model import LogisticRegression"
      ]
    },
    {
      "cell_type": "code",
      "execution_count": null,
      "id": "7d045601",
      "metadata": {
        "id": "7d045601"
      },
      "outputs": [],
      "source": [
        "log = LogisticRegression(max_iter=5000).fit(X_train, y_train)"
      ]
    },
    {
      "cell_type": "code",
      "execution_count": null,
      "id": "09d6fe8c",
      "metadata": {
        "id": "09d6fe8c"
      },
      "outputs": [],
      "source": [
        "log_pred = log.predict(X_test)"
      ]
    },
    {
      "cell_type": "code",
      "execution_count": null,
      "id": "b6497ec8",
      "metadata": {
        "colab": {
          "base_uri": "https://localhost:8080/"
        },
        "id": "b6497ec8",
        "outputId": "2076102d-e26d-4f9a-9f6e-26eb8b71b80b"
      },
      "outputs": [
        {
          "output_type": "stream",
          "name": "stdout",
          "text": [
            "[[1004  295]\n",
            " [ 238 1071]]\n",
            "\n",
            "              precision    recall  f1-score   support\n",
            "\n",
            "           0       0.81      0.77      0.79      1299\n",
            "           1       0.78      0.82      0.80      1309\n",
            "\n",
            "    accuracy                           0.80      2608\n",
            "   macro avg       0.80      0.80      0.80      2608\n",
            "weighted avg       0.80      0.80      0.80      2608\n",
            "\n"
          ]
        }
      ],
      "source": [
        "print(confusion_matrix(y_test, log_pred))\n",
        "print()\n",
        "print(classification_report(y_test, log_pred))"
      ]
    },
    {
      "cell_type": "markdown",
      "id": "72016f45",
      "metadata": {
        "id": "72016f45"
      },
      "source": [
        "# DECISION TREE"
      ]
    },
    {
      "cell_type": "code",
      "execution_count": null,
      "id": "39ef60c2",
      "metadata": {
        "id": "39ef60c2"
      },
      "outputs": [],
      "source": [
        "from sklearn.tree import DecisionTreeClassifier"
      ]
    },
    {
      "cell_type": "code",
      "execution_count": null,
      "id": "69328cb7",
      "metadata": {
        "id": "69328cb7"
      },
      "outputs": [],
      "source": [
        "dtree = DecisionTreeClassifier().fit(X_train, y_train)"
      ]
    },
    {
      "cell_type": "code",
      "execution_count": null,
      "id": "a4e031cb",
      "metadata": {
        "id": "a4e031cb"
      },
      "outputs": [],
      "source": [
        "dtree_pred = dtree.predict(X_test)"
      ]
    },
    {
      "cell_type": "code",
      "execution_count": null,
      "id": "680f6449",
      "metadata": {
        "colab": {
          "base_uri": "https://localhost:8080/"
        },
        "id": "680f6449",
        "outputId": "68e30917-f828-484f-82db-e67e2e7210e9"
      },
      "outputs": [
        {
          "output_type": "stream",
          "name": "stdout",
          "text": [
            "[[938 361]\n",
            " [316 993]]\n",
            "\n",
            "              precision    recall  f1-score   support\n",
            "\n",
            "           0       0.75      0.72      0.73      1299\n",
            "           1       0.73      0.76      0.75      1309\n",
            "\n",
            "    accuracy                           0.74      2608\n",
            "   macro avg       0.74      0.74      0.74      2608\n",
            "weighted avg       0.74      0.74      0.74      2608\n",
            "\n"
          ]
        }
      ],
      "source": [
        "print(confusion_matrix(y_test, dtree_pred))\n",
        "print()\n",
        "print(classification_report(y_test, dtree_pred))"
      ]
    },
    {
      "cell_type": "markdown",
      "id": "f0359aa0",
      "metadata": {
        "id": "f0359aa0"
      },
      "source": [
        "**Making Predictions**"
      ]
    },
    {
      "cell_type": "code",
      "execution_count": null,
      "id": "cc1af79c",
      "metadata": {
        "id": "cc1af79c"
      },
      "outputs": [],
      "source": [
        "ss = pd.read_csv('/content/drive/MyDrive/Colab Notebooks/Titanic Spaceship_Classification Problem/sample_submission.csv')"
      ]
    },
    {
      "cell_type": "code",
      "execution_count": null,
      "id": "110d065e",
      "metadata": {
        "id": "110d065e"
      },
      "outputs": [],
      "source": [
        "rfc_ss = ss.copy()"
      ]
    },
    {
      "cell_type": "code",
      "execution_count": null,
      "id": "df3053b5",
      "metadata": {
        "id": "df3053b5",
        "colab": {
          "base_uri": "https://localhost:8080/",
          "height": 423
        },
        "outputId": "0e9ec0a7-ce21-4c07-c77e-bddb30995c6f"
      },
      "outputs": [
        {
          "output_type": "execute_result",
          "data": {
            "text/plain": [
              "     PassengerId  Transported\n",
              "0        0013_01        False\n",
              "1        0018_01        False\n",
              "2        0019_01        False\n",
              "3        0021_01        False\n",
              "4        0023_01        False\n",
              "...          ...          ...\n",
              "4272     9266_02        False\n",
              "4273     9269_01        False\n",
              "4274     9271_01        False\n",
              "4275     9273_01        False\n",
              "4276     9277_01        False\n",
              "\n",
              "[4277 rows x 2 columns]"
            ],
            "text/html": [
              "\n",
              "  <div id=\"df-0c739e1c-d9e3-4ebd-a14c-24a736afb422\">\n",
              "    <div class=\"colab-df-container\">\n",
              "      <div>\n",
              "<style scoped>\n",
              "    .dataframe tbody tr th:only-of-type {\n",
              "        vertical-align: middle;\n",
              "    }\n",
              "\n",
              "    .dataframe tbody tr th {\n",
              "        vertical-align: top;\n",
              "    }\n",
              "\n",
              "    .dataframe thead th {\n",
              "        text-align: right;\n",
              "    }\n",
              "</style>\n",
              "<table border=\"1\" class=\"dataframe\">\n",
              "  <thead>\n",
              "    <tr style=\"text-align: right;\">\n",
              "      <th></th>\n",
              "      <th>PassengerId</th>\n",
              "      <th>Transported</th>\n",
              "    </tr>\n",
              "  </thead>\n",
              "  <tbody>\n",
              "    <tr>\n",
              "      <th>0</th>\n",
              "      <td>0013_01</td>\n",
              "      <td>False</td>\n",
              "    </tr>\n",
              "    <tr>\n",
              "      <th>1</th>\n",
              "      <td>0018_01</td>\n",
              "      <td>False</td>\n",
              "    </tr>\n",
              "    <tr>\n",
              "      <th>2</th>\n",
              "      <td>0019_01</td>\n",
              "      <td>False</td>\n",
              "    </tr>\n",
              "    <tr>\n",
              "      <th>3</th>\n",
              "      <td>0021_01</td>\n",
              "      <td>False</td>\n",
              "    </tr>\n",
              "    <tr>\n",
              "      <th>4</th>\n",
              "      <td>0023_01</td>\n",
              "      <td>False</td>\n",
              "    </tr>\n",
              "    <tr>\n",
              "      <th>...</th>\n",
              "      <td>...</td>\n",
              "      <td>...</td>\n",
              "    </tr>\n",
              "    <tr>\n",
              "      <th>4272</th>\n",
              "      <td>9266_02</td>\n",
              "      <td>False</td>\n",
              "    </tr>\n",
              "    <tr>\n",
              "      <th>4273</th>\n",
              "      <td>9269_01</td>\n",
              "      <td>False</td>\n",
              "    </tr>\n",
              "    <tr>\n",
              "      <th>4274</th>\n",
              "      <td>9271_01</td>\n",
              "      <td>False</td>\n",
              "    </tr>\n",
              "    <tr>\n",
              "      <th>4275</th>\n",
              "      <td>9273_01</td>\n",
              "      <td>False</td>\n",
              "    </tr>\n",
              "    <tr>\n",
              "      <th>4276</th>\n",
              "      <td>9277_01</td>\n",
              "      <td>False</td>\n",
              "    </tr>\n",
              "  </tbody>\n",
              "</table>\n",
              "<p>4277 rows × 2 columns</p>\n",
              "</div>\n",
              "      <button class=\"colab-df-convert\" onclick=\"convertToInteractive('df-0c739e1c-d9e3-4ebd-a14c-24a736afb422')\"\n",
              "              title=\"Convert this dataframe to an interactive table.\"\n",
              "              style=\"display:none;\">\n",
              "        \n",
              "  <svg xmlns=\"http://www.w3.org/2000/svg\" height=\"24px\"viewBox=\"0 0 24 24\"\n",
              "       width=\"24px\">\n",
              "    <path d=\"M0 0h24v24H0V0z\" fill=\"none\"/>\n",
              "    <path d=\"M18.56 5.44l.94 2.06.94-2.06 2.06-.94-2.06-.94-.94-2.06-.94 2.06-2.06.94zm-11 1L8.5 8.5l.94-2.06 2.06-.94-2.06-.94L8.5 2.5l-.94 2.06-2.06.94zm10 10l.94 2.06.94-2.06 2.06-.94-2.06-.94-.94-2.06-.94 2.06-2.06.94z\"/><path d=\"M17.41 7.96l-1.37-1.37c-.4-.4-.92-.59-1.43-.59-.52 0-1.04.2-1.43.59L10.3 9.45l-7.72 7.72c-.78.78-.78 2.05 0 2.83L4 21.41c.39.39.9.59 1.41.59.51 0 1.02-.2 1.41-.59l7.78-7.78 2.81-2.81c.8-.78.8-2.07 0-2.86zM5.41 20L4 18.59l7.72-7.72 1.47 1.35L5.41 20z\"/>\n",
              "  </svg>\n",
              "      </button>\n",
              "      \n",
              "  <style>\n",
              "    .colab-df-container {\n",
              "      display:flex;\n",
              "      flex-wrap:wrap;\n",
              "      gap: 12px;\n",
              "    }\n",
              "\n",
              "    .colab-df-convert {\n",
              "      background-color: #E8F0FE;\n",
              "      border: none;\n",
              "      border-radius: 50%;\n",
              "      cursor: pointer;\n",
              "      display: none;\n",
              "      fill: #1967D2;\n",
              "      height: 32px;\n",
              "      padding: 0 0 0 0;\n",
              "      width: 32px;\n",
              "    }\n",
              "\n",
              "    .colab-df-convert:hover {\n",
              "      background-color: #E2EBFA;\n",
              "      box-shadow: 0px 1px 2px rgba(60, 64, 67, 0.3), 0px 1px 3px 1px rgba(60, 64, 67, 0.15);\n",
              "      fill: #174EA6;\n",
              "    }\n",
              "\n",
              "    [theme=dark] .colab-df-convert {\n",
              "      background-color: #3B4455;\n",
              "      fill: #D2E3FC;\n",
              "    }\n",
              "\n",
              "    [theme=dark] .colab-df-convert:hover {\n",
              "      background-color: #434B5C;\n",
              "      box-shadow: 0px 1px 3px 1px rgba(0, 0, 0, 0.15);\n",
              "      filter: drop-shadow(0px 1px 2px rgba(0, 0, 0, 0.3));\n",
              "      fill: #FFFFFF;\n",
              "    }\n",
              "  </style>\n",
              "\n",
              "      <script>\n",
              "        const buttonEl =\n",
              "          document.querySelector('#df-0c739e1c-d9e3-4ebd-a14c-24a736afb422 button.colab-df-convert');\n",
              "        buttonEl.style.display =\n",
              "          google.colab.kernel.accessAllowed ? 'block' : 'none';\n",
              "\n",
              "        async function convertToInteractive(key) {\n",
              "          const element = document.querySelector('#df-0c739e1c-d9e3-4ebd-a14c-24a736afb422');\n",
              "          const dataTable =\n",
              "            await google.colab.kernel.invokeFunction('convertToInteractive',\n",
              "                                                     [key], {});\n",
              "          if (!dataTable) return;\n",
              "\n",
              "          const docLinkHtml = 'Like what you see? Visit the ' +\n",
              "            '<a target=\"_blank\" href=https://colab.research.google.com/notebooks/data_table.ipynb>data table notebook</a>'\n",
              "            + ' to learn more about interactive tables.';\n",
              "          element.innerHTML = '';\n",
              "          dataTable['output_type'] = 'display_data';\n",
              "          await google.colab.output.renderOutput(dataTable, element);\n",
              "          const docLink = document.createElement('div');\n",
              "          docLink.innerHTML = docLinkHtml;\n",
              "          element.appendChild(docLink);\n",
              "        }\n",
              "      </script>\n",
              "    </div>\n",
              "  </div>\n",
              "  "
            ]
          },
          "metadata": {},
          "execution_count": 488
        }
      ],
      "source": [
        "rfc_ss"
      ]
    },
    {
      "cell_type": "code",
      "execution_count": null,
      "id": "91391392",
      "metadata": {
        "id": "91391392"
      },
      "outputs": [],
      "source": [
        "rfc_test_pred = rfc.predict(test_cleaned)"
      ]
    },
    {
      "cell_type": "code",
      "execution_count": null,
      "id": "f6600431",
      "metadata": {
        "id": "f6600431"
      },
      "outputs": [],
      "source": [
        "map_target = {0: False,\n",
        "             1: True}"
      ]
    },
    {
      "cell_type": "code",
      "execution_count": null,
      "id": "1d5183e8",
      "metadata": {
        "id": "1d5183e8"
      },
      "outputs": [],
      "source": [
        "rfc_ss['Transported'] = rfc_test_pred"
      ]
    },
    {
      "cell_type": "code",
      "execution_count": null,
      "id": "f1f08e07",
      "metadata": {
        "id": "f1f08e07"
      },
      "outputs": [],
      "source": [
        "rfc_ss['Transported'] = rfc_ss['Transported'].map(map_target)"
      ]
    },
    {
      "cell_type": "code",
      "execution_count": null,
      "id": "fa4378e5",
      "metadata": {
        "id": "fa4378e5",
        "colab": {
          "base_uri": "https://localhost:8080/",
          "height": 423
        },
        "outputId": "f2d0f2be-3c06-4a95-9d3b-45c95d715eb1"
      },
      "outputs": [
        {
          "output_type": "execute_result",
          "data": {
            "text/plain": [
              "     PassengerId  Transported\n",
              "0        0013_01         True\n",
              "1        0018_01        False\n",
              "2        0019_01         True\n",
              "3        0021_01         True\n",
              "4        0023_01        False\n",
              "...          ...          ...\n",
              "4272     9266_02         True\n",
              "4273     9269_01        False\n",
              "4274     9271_01         True\n",
              "4275     9273_01         True\n",
              "4276     9277_01        False\n",
              "\n",
              "[4277 rows x 2 columns]"
            ],
            "text/html": [
              "\n",
              "  <div id=\"df-b84cb2f2-1374-4693-ba27-471431fb6418\">\n",
              "    <div class=\"colab-df-container\">\n",
              "      <div>\n",
              "<style scoped>\n",
              "    .dataframe tbody tr th:only-of-type {\n",
              "        vertical-align: middle;\n",
              "    }\n",
              "\n",
              "    .dataframe tbody tr th {\n",
              "        vertical-align: top;\n",
              "    }\n",
              "\n",
              "    .dataframe thead th {\n",
              "        text-align: right;\n",
              "    }\n",
              "</style>\n",
              "<table border=\"1\" class=\"dataframe\">\n",
              "  <thead>\n",
              "    <tr style=\"text-align: right;\">\n",
              "      <th></th>\n",
              "      <th>PassengerId</th>\n",
              "      <th>Transported</th>\n",
              "    </tr>\n",
              "  </thead>\n",
              "  <tbody>\n",
              "    <tr>\n",
              "      <th>0</th>\n",
              "      <td>0013_01</td>\n",
              "      <td>True</td>\n",
              "    </tr>\n",
              "    <tr>\n",
              "      <th>1</th>\n",
              "      <td>0018_01</td>\n",
              "      <td>False</td>\n",
              "    </tr>\n",
              "    <tr>\n",
              "      <th>2</th>\n",
              "      <td>0019_01</td>\n",
              "      <td>True</td>\n",
              "    </tr>\n",
              "    <tr>\n",
              "      <th>3</th>\n",
              "      <td>0021_01</td>\n",
              "      <td>True</td>\n",
              "    </tr>\n",
              "    <tr>\n",
              "      <th>4</th>\n",
              "      <td>0023_01</td>\n",
              "      <td>False</td>\n",
              "    </tr>\n",
              "    <tr>\n",
              "      <th>...</th>\n",
              "      <td>...</td>\n",
              "      <td>...</td>\n",
              "    </tr>\n",
              "    <tr>\n",
              "      <th>4272</th>\n",
              "      <td>9266_02</td>\n",
              "      <td>True</td>\n",
              "    </tr>\n",
              "    <tr>\n",
              "      <th>4273</th>\n",
              "      <td>9269_01</td>\n",
              "      <td>False</td>\n",
              "    </tr>\n",
              "    <tr>\n",
              "      <th>4274</th>\n",
              "      <td>9271_01</td>\n",
              "      <td>True</td>\n",
              "    </tr>\n",
              "    <tr>\n",
              "      <th>4275</th>\n",
              "      <td>9273_01</td>\n",
              "      <td>True</td>\n",
              "    </tr>\n",
              "    <tr>\n",
              "      <th>4276</th>\n",
              "      <td>9277_01</td>\n",
              "      <td>False</td>\n",
              "    </tr>\n",
              "  </tbody>\n",
              "</table>\n",
              "<p>4277 rows × 2 columns</p>\n",
              "</div>\n",
              "      <button class=\"colab-df-convert\" onclick=\"convertToInteractive('df-b84cb2f2-1374-4693-ba27-471431fb6418')\"\n",
              "              title=\"Convert this dataframe to an interactive table.\"\n",
              "              style=\"display:none;\">\n",
              "        \n",
              "  <svg xmlns=\"http://www.w3.org/2000/svg\" height=\"24px\"viewBox=\"0 0 24 24\"\n",
              "       width=\"24px\">\n",
              "    <path d=\"M0 0h24v24H0V0z\" fill=\"none\"/>\n",
              "    <path d=\"M18.56 5.44l.94 2.06.94-2.06 2.06-.94-2.06-.94-.94-2.06-.94 2.06-2.06.94zm-11 1L8.5 8.5l.94-2.06 2.06-.94-2.06-.94L8.5 2.5l-.94 2.06-2.06.94zm10 10l.94 2.06.94-2.06 2.06-.94-2.06-.94-.94-2.06-.94 2.06-2.06.94z\"/><path d=\"M17.41 7.96l-1.37-1.37c-.4-.4-.92-.59-1.43-.59-.52 0-1.04.2-1.43.59L10.3 9.45l-7.72 7.72c-.78.78-.78 2.05 0 2.83L4 21.41c.39.39.9.59 1.41.59.51 0 1.02-.2 1.41-.59l7.78-7.78 2.81-2.81c.8-.78.8-2.07 0-2.86zM5.41 20L4 18.59l7.72-7.72 1.47 1.35L5.41 20z\"/>\n",
              "  </svg>\n",
              "      </button>\n",
              "      \n",
              "  <style>\n",
              "    .colab-df-container {\n",
              "      display:flex;\n",
              "      flex-wrap:wrap;\n",
              "      gap: 12px;\n",
              "    }\n",
              "\n",
              "    .colab-df-convert {\n",
              "      background-color: #E8F0FE;\n",
              "      border: none;\n",
              "      border-radius: 50%;\n",
              "      cursor: pointer;\n",
              "      display: none;\n",
              "      fill: #1967D2;\n",
              "      height: 32px;\n",
              "      padding: 0 0 0 0;\n",
              "      width: 32px;\n",
              "    }\n",
              "\n",
              "    .colab-df-convert:hover {\n",
              "      background-color: #E2EBFA;\n",
              "      box-shadow: 0px 1px 2px rgba(60, 64, 67, 0.3), 0px 1px 3px 1px rgba(60, 64, 67, 0.15);\n",
              "      fill: #174EA6;\n",
              "    }\n",
              "\n",
              "    [theme=dark] .colab-df-convert {\n",
              "      background-color: #3B4455;\n",
              "      fill: #D2E3FC;\n",
              "    }\n",
              "\n",
              "    [theme=dark] .colab-df-convert:hover {\n",
              "      background-color: #434B5C;\n",
              "      box-shadow: 0px 1px 3px 1px rgba(0, 0, 0, 0.15);\n",
              "      filter: drop-shadow(0px 1px 2px rgba(0, 0, 0, 0.3));\n",
              "      fill: #FFFFFF;\n",
              "    }\n",
              "  </style>\n",
              "\n",
              "      <script>\n",
              "        const buttonEl =\n",
              "          document.querySelector('#df-b84cb2f2-1374-4693-ba27-471431fb6418 button.colab-df-convert');\n",
              "        buttonEl.style.display =\n",
              "          google.colab.kernel.accessAllowed ? 'block' : 'none';\n",
              "\n",
              "        async function convertToInteractive(key) {\n",
              "          const element = document.querySelector('#df-b84cb2f2-1374-4693-ba27-471431fb6418');\n",
              "          const dataTable =\n",
              "            await google.colab.kernel.invokeFunction('convertToInteractive',\n",
              "                                                     [key], {});\n",
              "          if (!dataTable) return;\n",
              "\n",
              "          const docLinkHtml = 'Like what you see? Visit the ' +\n",
              "            '<a target=\"_blank\" href=https://colab.research.google.com/notebooks/data_table.ipynb>data table notebook</a>'\n",
              "            + ' to learn more about interactive tables.';\n",
              "          element.innerHTML = '';\n",
              "          dataTable['output_type'] = 'display_data';\n",
              "          await google.colab.output.renderOutput(dataTable, element);\n",
              "          const docLink = document.createElement('div');\n",
              "          docLink.innerHTML = docLinkHtml;\n",
              "          element.appendChild(docLink);\n",
              "        }\n",
              "      </script>\n",
              "    </div>\n",
              "  </div>\n",
              "  "
            ]
          },
          "metadata": {},
          "execution_count": 493
        }
      ],
      "source": [
        "rfc_ss"
      ]
    },
    {
      "cell_type": "code",
      "execution_count": null,
      "id": "0b70dd4c",
      "metadata": {
        "id": "0b70dd4c"
      },
      "outputs": [],
      "source": [
        "rfc_ss.to_csv('RandomForestBaseline.csv', index=False)"
      ]
    },
    {
      "cell_type": "code",
      "execution_count": null,
      "id": "0c2afee8",
      "metadata": {
        "id": "0c2afee8",
        "colab": {
          "base_uri": "https://localhost:8080/",
          "height": 423
        },
        "outputId": "4c287d54-2eb2-4b2d-df04-21ce28d4cc27"
      },
      "outputs": [
        {
          "output_type": "execute_result",
          "data": {
            "text/plain": [
              "     PassengerId  Transported\n",
              "0        0013_01         True\n",
              "1        0018_01        False\n",
              "2        0019_01         True\n",
              "3        0021_01         True\n",
              "4        0023_01        False\n",
              "...          ...          ...\n",
              "4272     9266_02         True\n",
              "4273     9269_01        False\n",
              "4274     9271_01         True\n",
              "4275     9273_01         True\n",
              "4276     9277_01        False\n",
              "\n",
              "[4277 rows x 2 columns]"
            ],
            "text/html": [
              "\n",
              "  <div id=\"df-8b6e3929-fc74-445f-9a12-ccf0dd061ddb\">\n",
              "    <div class=\"colab-df-container\">\n",
              "      <div>\n",
              "<style scoped>\n",
              "    .dataframe tbody tr th:only-of-type {\n",
              "        vertical-align: middle;\n",
              "    }\n",
              "\n",
              "    .dataframe tbody tr th {\n",
              "        vertical-align: top;\n",
              "    }\n",
              "\n",
              "    .dataframe thead th {\n",
              "        text-align: right;\n",
              "    }\n",
              "</style>\n",
              "<table border=\"1\" class=\"dataframe\">\n",
              "  <thead>\n",
              "    <tr style=\"text-align: right;\">\n",
              "      <th></th>\n",
              "      <th>PassengerId</th>\n",
              "      <th>Transported</th>\n",
              "    </tr>\n",
              "  </thead>\n",
              "  <tbody>\n",
              "    <tr>\n",
              "      <th>0</th>\n",
              "      <td>0013_01</td>\n",
              "      <td>True</td>\n",
              "    </tr>\n",
              "    <tr>\n",
              "      <th>1</th>\n",
              "      <td>0018_01</td>\n",
              "      <td>False</td>\n",
              "    </tr>\n",
              "    <tr>\n",
              "      <th>2</th>\n",
              "      <td>0019_01</td>\n",
              "      <td>True</td>\n",
              "    </tr>\n",
              "    <tr>\n",
              "      <th>3</th>\n",
              "      <td>0021_01</td>\n",
              "      <td>True</td>\n",
              "    </tr>\n",
              "    <tr>\n",
              "      <th>4</th>\n",
              "      <td>0023_01</td>\n",
              "      <td>False</td>\n",
              "    </tr>\n",
              "    <tr>\n",
              "      <th>...</th>\n",
              "      <td>...</td>\n",
              "      <td>...</td>\n",
              "    </tr>\n",
              "    <tr>\n",
              "      <th>4272</th>\n",
              "      <td>9266_02</td>\n",
              "      <td>True</td>\n",
              "    </tr>\n",
              "    <tr>\n",
              "      <th>4273</th>\n",
              "      <td>9269_01</td>\n",
              "      <td>False</td>\n",
              "    </tr>\n",
              "    <tr>\n",
              "      <th>4274</th>\n",
              "      <td>9271_01</td>\n",
              "      <td>True</td>\n",
              "    </tr>\n",
              "    <tr>\n",
              "      <th>4275</th>\n",
              "      <td>9273_01</td>\n",
              "      <td>True</td>\n",
              "    </tr>\n",
              "    <tr>\n",
              "      <th>4276</th>\n",
              "      <td>9277_01</td>\n",
              "      <td>False</td>\n",
              "    </tr>\n",
              "  </tbody>\n",
              "</table>\n",
              "<p>4277 rows × 2 columns</p>\n",
              "</div>\n",
              "      <button class=\"colab-df-convert\" onclick=\"convertToInteractive('df-8b6e3929-fc74-445f-9a12-ccf0dd061ddb')\"\n",
              "              title=\"Convert this dataframe to an interactive table.\"\n",
              "              style=\"display:none;\">\n",
              "        \n",
              "  <svg xmlns=\"http://www.w3.org/2000/svg\" height=\"24px\"viewBox=\"0 0 24 24\"\n",
              "       width=\"24px\">\n",
              "    <path d=\"M0 0h24v24H0V0z\" fill=\"none\"/>\n",
              "    <path d=\"M18.56 5.44l.94 2.06.94-2.06 2.06-.94-2.06-.94-.94-2.06-.94 2.06-2.06.94zm-11 1L8.5 8.5l.94-2.06 2.06-.94-2.06-.94L8.5 2.5l-.94 2.06-2.06.94zm10 10l.94 2.06.94-2.06 2.06-.94-2.06-.94-.94-2.06-.94 2.06-2.06.94z\"/><path d=\"M17.41 7.96l-1.37-1.37c-.4-.4-.92-.59-1.43-.59-.52 0-1.04.2-1.43.59L10.3 9.45l-7.72 7.72c-.78.78-.78 2.05 0 2.83L4 21.41c.39.39.9.59 1.41.59.51 0 1.02-.2 1.41-.59l7.78-7.78 2.81-2.81c.8-.78.8-2.07 0-2.86zM5.41 20L4 18.59l7.72-7.72 1.47 1.35L5.41 20z\"/>\n",
              "  </svg>\n",
              "      </button>\n",
              "      \n",
              "  <style>\n",
              "    .colab-df-container {\n",
              "      display:flex;\n",
              "      flex-wrap:wrap;\n",
              "      gap: 12px;\n",
              "    }\n",
              "\n",
              "    .colab-df-convert {\n",
              "      background-color: #E8F0FE;\n",
              "      border: none;\n",
              "      border-radius: 50%;\n",
              "      cursor: pointer;\n",
              "      display: none;\n",
              "      fill: #1967D2;\n",
              "      height: 32px;\n",
              "      padding: 0 0 0 0;\n",
              "      width: 32px;\n",
              "    }\n",
              "\n",
              "    .colab-df-convert:hover {\n",
              "      background-color: #E2EBFA;\n",
              "      box-shadow: 0px 1px 2px rgba(60, 64, 67, 0.3), 0px 1px 3px 1px rgba(60, 64, 67, 0.15);\n",
              "      fill: #174EA6;\n",
              "    }\n",
              "\n",
              "    [theme=dark] .colab-df-convert {\n",
              "      background-color: #3B4455;\n",
              "      fill: #D2E3FC;\n",
              "    }\n",
              "\n",
              "    [theme=dark] .colab-df-convert:hover {\n",
              "      background-color: #434B5C;\n",
              "      box-shadow: 0px 1px 3px 1px rgba(0, 0, 0, 0.15);\n",
              "      filter: drop-shadow(0px 1px 2px rgba(0, 0, 0, 0.3));\n",
              "      fill: #FFFFFF;\n",
              "    }\n",
              "  </style>\n",
              "\n",
              "      <script>\n",
              "        const buttonEl =\n",
              "          document.querySelector('#df-8b6e3929-fc74-445f-9a12-ccf0dd061ddb button.colab-df-convert');\n",
              "        buttonEl.style.display =\n",
              "          google.colab.kernel.accessAllowed ? 'block' : 'none';\n",
              "\n",
              "        async function convertToInteractive(key) {\n",
              "          const element = document.querySelector('#df-8b6e3929-fc74-445f-9a12-ccf0dd061ddb');\n",
              "          const dataTable =\n",
              "            await google.colab.kernel.invokeFunction('convertToInteractive',\n",
              "                                                     [key], {});\n",
              "          if (!dataTable) return;\n",
              "\n",
              "          const docLinkHtml = 'Like what you see? Visit the ' +\n",
              "            '<a target=\"_blank\" href=https://colab.research.google.com/notebooks/data_table.ipynb>data table notebook</a>'\n",
              "            + ' to learn more about interactive tables.';\n",
              "          element.innerHTML = '';\n",
              "          dataTable['output_type'] = 'display_data';\n",
              "          await google.colab.output.renderOutput(dataTable, element);\n",
              "          const docLink = document.createElement('div');\n",
              "          docLink.innerHTML = docLinkHtml;\n",
              "          element.appendChild(docLink);\n",
              "        }\n",
              "      </script>\n",
              "    </div>\n",
              "  </div>\n",
              "  "
            ]
          },
          "metadata": {},
          "execution_count": 495
        }
      ],
      "source": [
        "pd.read_csv('RandomForestBaseline.csv')"
      ]
    },
    {
      "cell_type": "code",
      "execution_count": null,
      "id": "2647f012",
      "metadata": {
        "id": "2647f012"
      },
      "outputs": [],
      "source": []
    }
  ],
  "metadata": {
    "kernelspec": {
      "display_name": "Python 3 (ipykernel)",
      "language": "python",
      "name": "python3"
    },
    "language_info": {
      "codemirror_mode": {
        "name": "ipython",
        "version": 3
      },
      "file_extension": ".py",
      "mimetype": "text/x-python",
      "name": "python",
      "nbconvert_exporter": "python",
      "pygments_lexer": "ipython3",
      "version": "3.9.12"
    },
    "colab": {
      "provenance": [],
      "include_colab_link": true
    },
    "accelerator": "GPU",
    "gpuClass": "standard"
  },
  "nbformat": 4,
  "nbformat_minor": 5
}