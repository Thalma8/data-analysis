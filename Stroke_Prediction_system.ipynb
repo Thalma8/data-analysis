{
  "nbformat": 4,
  "nbformat_minor": 0,
  "metadata": {
    "colab": {
      "provenance": [],
      "authorship_tag": "ABX9TyPennQZdjpu2kcg4iWplCHQ",
      "include_colab_link": true
    },
    "kernelspec": {
      "name": "python3",
      "display_name": "Python 3"
    },
    "language_info": {
      "name": "python"
    }
  },
  "cells": [
    {
      "cell_type": "markdown",
      "metadata": {
        "id": "view-in-github",
        "colab_type": "text"
      },
      "source": [
        "<a href=\"https://colab.research.google.com/github/Thalma8/data-analysis/blob/main/Stroke_Prediction_system.ipynb\" target=\"_parent\"><img src=\"https://colab.research.google.com/assets/colab-badge.svg\" alt=\"Open In Colab\"/></a>"
      ]
    },
    {
      "cell_type": "code",
      "execution_count": 1,
      "metadata": {
        "id": "9qe0cpESUFjF"
      },
      "outputs": [],
      "source": [
        "import pandas as pd"
      ]
    },
    {
      "cell_type": "code",
      "source": [
        "datafile = pd.read_csv('/content/healthcare-dataset-stroke-data.csv')\n",
        "print(\"the data looks like this\")\n",
        "print(datafile.head)\n"
      ],
      "metadata": {
        "colab": {
          "base_uri": "https://localhost:8080/"
        },
        "id": "kJhA6TZzUpx2",
        "outputId": "394088d3-20ef-4b75-c345-bb17c5de35ee"
      },
      "execution_count": 3,
      "outputs": [
        {
          "output_type": "stream",
          "name": "stdout",
          "text": [
            "the data looks like this\n",
            "<bound method NDFrame.head of          id  gender   age  hypertension  heart_disease ever_married  \\\n",
            "0      9046    Male  67.0             0              1          Yes   \n",
            "1     51676  Female  61.0             0              0          Yes   \n",
            "2     31112    Male  80.0             0              1          Yes   \n",
            "3     60182  Female  49.0             0              0          Yes   \n",
            "4      1665  Female  79.0             1              0          Yes   \n",
            "...     ...     ...   ...           ...            ...          ...   \n",
            "5105  18234  Female  80.0             1              0          Yes   \n",
            "5106  44873  Female  81.0             0              0          Yes   \n",
            "5107  19723  Female  35.0             0              0          Yes   \n",
            "5108  37544    Male  51.0             0              0          Yes   \n",
            "5109  44679  Female  44.0             0              0          Yes   \n",
            "\n",
            "          work_type Residence_type  avg_glucose_level   bmi   smoking_status  \\\n",
            "0           Private          Urban             228.69  36.6  formerly smoked   \n",
            "1     Self-employed          Rural             202.21   NaN     never smoked   \n",
            "2           Private          Rural             105.92  32.5     never smoked   \n",
            "3           Private          Urban             171.23  34.4           smokes   \n",
            "4     Self-employed          Rural             174.12  24.0     never smoked   \n",
            "...             ...            ...                ...   ...              ...   \n",
            "5105        Private          Urban              83.75   NaN     never smoked   \n",
            "5106  Self-employed          Urban             125.20  40.0     never smoked   \n",
            "5107  Self-employed          Rural              82.99  30.6     never smoked   \n",
            "5108        Private          Rural             166.29  25.6  formerly smoked   \n",
            "5109       Govt_job          Urban              85.28  26.2          Unknown   \n",
            "\n",
            "      stroke  \n",
            "0          1  \n",
            "1          1  \n",
            "2          1  \n",
            "3          1  \n",
            "4          1  \n",
            "...      ...  \n",
            "5105       0  \n",
            "5106       0  \n",
            "5107       0  \n",
            "5108       0  \n",
            "5109       0  \n",
            "\n",
            "[5110 rows x 12 columns]>\n"
          ]
        }
      ]
    },
    {
      "cell_type": "code",
      "source": [
        "print(\"to see if there are some Null values\")\n",
        "print(datafile.isnull())\n"
      ],
      "metadata": {
        "colab": {
          "base_uri": "https://localhost:8080/"
        },
        "id": "efavaGyUVKrB",
        "outputId": "b3765491-cbf2-4ed5-f01e-de7b660bdbd0"
      },
      "execution_count": 4,
      "outputs": [
        {
          "output_type": "stream",
          "name": "stdout",
          "text": [
            "to see if there are some Null values\n",
            "         id  gender    age  hypertension  heart_disease  ever_married  \\\n",
            "0     False   False  False         False          False         False   \n",
            "1     False   False  False         False          False         False   \n",
            "2     False   False  False         False          False         False   \n",
            "3     False   False  False         False          False         False   \n",
            "4     False   False  False         False          False         False   \n",
            "...     ...     ...    ...           ...            ...           ...   \n",
            "5105  False   False  False         False          False         False   \n",
            "5106  False   False  False         False          False         False   \n",
            "5107  False   False  False         False          False         False   \n",
            "5108  False   False  False         False          False         False   \n",
            "5109  False   False  False         False          False         False   \n",
            "\n",
            "      work_type  Residence_type  avg_glucose_level    bmi  smoking_status  \\\n",
            "0         False           False              False  False           False   \n",
            "1         False           False              False   True           False   \n",
            "2         False           False              False  False           False   \n",
            "3         False           False              False  False           False   \n",
            "4         False           False              False  False           False   \n",
            "...         ...             ...                ...    ...             ...   \n",
            "5105      False           False              False   True           False   \n",
            "5106      False           False              False  False           False   \n",
            "5107      False           False              False  False           False   \n",
            "5108      False           False              False  False           False   \n",
            "5109      False           False              False  False           False   \n",
            "\n",
            "      stroke  \n",
            "0      False  \n",
            "1      False  \n",
            "2      False  \n",
            "3      False  \n",
            "4      False  \n",
            "...      ...  \n",
            "5105   False  \n",
            "5106   False  \n",
            "5107   False  \n",
            "5108   False  \n",
            "5109   False  \n",
            "\n",
            "[5110 rows x 12 columns]\n"
          ]
        }
      ]
    },
    {
      "cell_type": "code",
      "source": [
        "print(\"the data shape\")\n",
        "print(datafile.shape)"
      ],
      "metadata": {
        "colab": {
          "base_uri": "https://localhost:8080/"
        },
        "id": "f-akueuSVMqA",
        "outputId": "fcb68b9c-3f0c-4432-b174-b2ed646bf6ae"
      },
      "execution_count": 5,
      "outputs": [
        {
          "output_type": "stream",
          "name": "stdout",
          "text": [
            "the data shape\n",
            "(5110, 12)\n"
          ]
        }
      ]
    },
    {
      "cell_type": "markdown",
      "source": [
        "THIS IS WHERE VISUALIZATION COMES IN"
      ],
      "metadata": {
        "id": "q4h8CtN0VhGz"
      }
    },
    {
      "cell_type": "code",
      "source": [],
      "metadata": {
        "id": "tSJjToqTVk6W"
      },
      "execution_count": null,
      "outputs": []
    },
    {
      "cell_type": "code",
      "source": [
        "stroke = datafile[datafile[\"stroke\"] == 1]\n",
        "no_stroke = datafile[datafile[\"stroke\"] == 0]\n",
        "print('The shape of the model before reshaping is')\n",
        "print(\"stroke - \", stroke.shape)\n",
        "print(\"no stroke-\", no_stroke.shape)"
      ],
      "metadata": {
        "colab": {
          "base_uri": "https://localhost:8080/"
        },
        "id": "ZU_HhgAFV_QZ",
        "outputId": "a83f7a26-7367-454d-8516-aca092fbdb97"
      },
      "execution_count": 7,
      "outputs": [
        {
          "output_type": "stream",
          "name": "stdout",
          "text": [
            "The shape of the model before reshaping is\n",
            "stroke -  (249, 12)\n",
            "no stroke- (4861, 12)\n"
          ]
        }
      ]
    },
    {
      "cell_type": "code",
      "source": [
        "from sklearn.utils import resample\n",
        "\n",
        "no_stroke = resample(no_stroke,\n",
        "                     replace=True,\n",
        "                     n_samples=len(stroke),\n",
        "                     random_state=42)\n",
        "\n",
        "print('The shape of the model after reshaping is')\n",
        "print(\"stroke - \", stroke.shape)\n",
        "print(\"no stroke-\", no_stroke.shape)\n",
        "\n",
        "datafile = pd.concat([stroke, no_stroke])\n",
        "print('the general shape of entire final data is', datafile.shape)\n",
        "\n",
        "datafile['gender'] = datafile['gender'].map({'Male': 0, 'Female': 1})\n",
        "\n",
        "datafile['Residence_type'] = datafile['Residence_type'].map({'Rural': 0, 'Urban': 1})\n",
        "\n",
        "datafile['ever_married'] = datafile['ever_married'].map({'No': 0, 'Yes': 1})\n",
        "\n",
        "datafile['smoking_status'] = datafile['smoking_status'].map(\n",
        "    {'formerly smoked': 2, 'smokes': 1, 'never smoked': 0, 'Unknown': 3})\n",
        "\n",
        "print(datafile.head(20))\n",
        "\n",
        "datafile.isnull().sum()\n",
        "\n",
        "datafile = datafile.dropna()\n",
        "datafile.isnull().sum()\n",
        "\n",
        "datafile.shape\n",
        "\n",
        "X = datafile[['gender', 'age', 'hypertension', 'heart_disease', 'ever_married', 'Residence_type', 'smoking_status']]\n",
        "\n",
        "y = datafile.stroke\n",
        "\n",
        "X.shape\n",
        "\n",
        "y.shape\n",
        "\n",
        "\"\"\"now thw model building stage\"\"\"\n",
        "\n",
        "from sklearn.model_selection import train_test_split\n",
        "\n",
        "x_train, x_cv, y_train, y_cv = train_test_split(X, y, test_size=0.2, random_state=10)\n",
        "\n",
        "from sklearn.ensemble import RandomForestClassifier\n",
        "\n",
        "model = RandomForestClassifier(max_depth=4, random_state=10)\n",
        "model.fit(x_train, y_train)\n",
        "\n",
        "\"\"\"checking accuracy on the validation set\"\"\"\n",
        "\n",
        "from sklearn.metrics import accuracy_score\n",
        "\n",
        "pred_cv = model.predict(x_cv)\n",
        "accur_score = accuracy_score(y_cv, pred_cv)\n",
        "print(\"the accuracy score on the validation set is\", accur_score)\n",
        "\"\"\"checking accuracy on the training set\"\"\"\n",
        "\n",
        "pred_train = model.predict(x_train)\n",
        "accu_score = accuracy_score(y_train, pred_train)\n",
        "print(\"the accuracy on the training set\", accu_score)\n",
        "\n",
        "# saving the model\n",
        "import pickle\n",
        "\n",
        "pickle_out = open(\"classifier.pkl\", mode=\"wb\")\n",
        "pickle.dump(model, pickle_out)\n",
        "pickle_out.close()\n",
        "print('The model has been created and saved successfully')"
      ],
      "metadata": {
        "colab": {
          "base_uri": "https://localhost:8080/"
        },
        "id": "YnHxObJ4UxnU",
        "outputId": "bc1c1e1d-fd53-42e2-92db-2b15584f72d2"
      },
      "execution_count": 8,
      "outputs": [
        {
          "output_type": "stream",
          "name": "stdout",
          "text": [
            "The shape of the model after reshaping is\n",
            "stroke -  (249, 12)\n",
            "no stroke- (249, 12)\n",
            "the general shape of entire final data is (498, 12)\n",
            "       id  gender   age  hypertension  heart_disease  ever_married  \\\n",
            "0    9046       0  67.0             0              1             1   \n",
            "1   51676       1  61.0             0              0             1   \n",
            "2   31112       0  80.0             0              1             1   \n",
            "3   60182       1  49.0             0              0             1   \n",
            "4    1665       1  79.0             1              0             1   \n",
            "5   56669       0  81.0             0              0             1   \n",
            "6   53882       0  74.0             1              1             1   \n",
            "7   10434       1  69.0             0              0             0   \n",
            "8   27419       1  59.0             0              0             1   \n",
            "9   60491       1  78.0             0              0             1   \n",
            "10  12109       1  81.0             1              0             1   \n",
            "11  12095       1  61.0             0              1             1   \n",
            "12  12175       1  54.0             0              0             1   \n",
            "13   8213       0  78.0             0              1             1   \n",
            "14   5317       1  79.0             0              1             1   \n",
            "15  58202       1  50.0             1              0             1   \n",
            "16  56112       0  64.0             0              1             1   \n",
            "17  34120       0  75.0             1              0             1   \n",
            "18  27458       1  60.0             0              0             0   \n",
            "19  25226       0  57.0             0              1             0   \n",
            "\n",
            "        work_type  Residence_type  avg_glucose_level   bmi  smoking_status  \\\n",
            "0         Private               1             228.69  36.6               2   \n",
            "1   Self-employed               0             202.21   NaN               0   \n",
            "2         Private               0             105.92  32.5               0   \n",
            "3         Private               1             171.23  34.4               1   \n",
            "4   Self-employed               0             174.12  24.0               0   \n",
            "5         Private               1             186.21  29.0               2   \n",
            "6         Private               0              70.09  27.4               0   \n",
            "7         Private               1              94.39  22.8               0   \n",
            "8         Private               0              76.15   NaN               3   \n",
            "9         Private               1              58.57  24.2               3   \n",
            "10        Private               0              80.43  29.7               0   \n",
            "11       Govt_job               0             120.46  36.8               1   \n",
            "12        Private               1             104.51  27.3               1   \n",
            "13        Private               1             219.84   NaN               3   \n",
            "14        Private               1             214.09  28.2               0   \n",
            "15  Self-employed               0             167.41  30.9               0   \n",
            "16        Private               1             191.61  37.5               1   \n",
            "17        Private               1             221.29  25.8               1   \n",
            "18        Private               1              89.22  37.8               0   \n",
            "19       Govt_job               1             217.08   NaN               3   \n",
            "\n",
            "    stroke  \n",
            "0        1  \n",
            "1        1  \n",
            "2        1  \n",
            "3        1  \n",
            "4        1  \n",
            "5        1  \n",
            "6        1  \n",
            "7        1  \n",
            "8        1  \n",
            "9        1  \n",
            "10       1  \n",
            "11       1  \n",
            "12       1  \n",
            "13       1  \n",
            "14       1  \n",
            "15       1  \n",
            "16       1  \n",
            "17       1  \n",
            "18       1  \n",
            "19       1  \n",
            "the accuracy score on the validation set is 0.7802197802197802\n",
            "the accuracy on the training set 0.8319559228650137\n",
            "The model has been created and saved successfully\n"
          ]
        }
      ]
    }
  ]
}